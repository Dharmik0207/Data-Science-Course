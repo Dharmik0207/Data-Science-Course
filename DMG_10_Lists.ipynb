{
 "cells": [
  {
   "cell_type": "markdown",
   "id": "6a894dde-a010-4ae2-94b4-547cbac835cf",
   "metadata": {},
   "source": [
    "# Python Lists and List Methods\n",
    "\n",
    "## What is a List?\n",
    "A **list** in Python is an ordered, mutable collection of elements. It can contain elements of different types.\n",
    "\n",
    "### Creating a List:\n",
    "```python\n",
    "# Empty list\n",
    "my_list = []\n",
    "\n",
    "# List with elements\n",
    "numbers = [1, 2, 3, 4, 5]\n",
    "\n",
    "# Mixed data types\n",
    "mixed_list = [1, \"Hello\", 3.14, True]\n",
    "```"
   ]
  },
  {
   "cell_type": "code",
   "execution_count": 1,
   "id": "2732afaa-ca93-4454-bd6c-407613909ed1",
   "metadata": {},
   "outputs": [],
   "source": [
    "l = [3, 5, 23, 3]"
   ]
  },
  {
   "cell_type": "code",
   "execution_count": 2,
   "id": "8ce46640-ff95-4429-a7fa-75b5879e5926",
   "metadata": {},
   "outputs": [
    {
     "data": {
      "text/plain": [
       "3"
      ]
     },
     "execution_count": 2,
     "metadata": {},
     "output_type": "execute_result"
    }
   ],
   "source": [
    "l[0]"
   ]
  },
  {
   "cell_type": "code",
   "execution_count": 3,
   "id": "36f54607-4a08-4c4c-a400-638acc458ba4",
   "metadata": {},
   "outputs": [
    {
     "data": {
      "text/plain": [
       "[3, 5, 23, 3]"
      ]
     },
     "execution_count": 3,
     "metadata": {},
     "output_type": "execute_result"
    }
   ],
   "source": [
    "l\n"
   ]
  },
  {
   "cell_type": "markdown",
   "id": "4a4373da-92a5-4dad-89ab-55a758dd76cb",
   "metadata": {},
   "source": [
    "## Common List Methods\n",
    "\n",
    "| Method | Description | Example |\n",
    "|--------|------------|---------|\n",
    "| `append(x)` | Adds an element `x` to the end of the list. | `my_list.append(10)` |\n",
    "| `extend(iterable)` | Extends the list by appending all elements from an iterable. | `my_list.extend([6, 7, 8])` |\n",
    "| `insert(index, x)` | Inserts `x` at the specified `index`. | `my_list.insert(2, \"Python\")` |\n",
    "| `remove(x)` | Removes the first occurrence of `x` in the list. | `my_list.remove(3)` |\n",
    "| `pop([index])` | Removes and returns the element at `index` (last element if index is not provided). | `my_list.pop(2)` |\n",
    "| `index(x)` | Returns the index of the first occurrence of `x`. | `my_list.index(4)` |\n",
    "| `count(x)` | Returns the number of times `x` appears in the list. | `my_list.count(2)` |\n",
    "| `sort()` | Sorts the list in ascending order. | `my_list.sort()` |\n",
    "| `reverse()` | Reverses the order of the list. | `my_list.reverse()` |\n",
    "| `copy()` | Returns a shallow copy of the list. | `new_list = my_list.copy()` |\n",
    "| `clear()` | Removes all elements from the list. | `my_list.clear()` |\n"
   ]
  },
  {
   "cell_type": "code",
   "execution_count": 8,
   "id": "8872ad01-6c0c-4939-9b33-7a898ea10da0",
   "metadata": {},
   "outputs": [
    {
     "data": {
      "text/plain": [
       "[3, 5, 23, 3, 9, 9, 9, 9]"
      ]
     },
     "execution_count": 8,
     "metadata": {},
     "output_type": "execute_result"
    }
   ],
   "source": [
    "l.append(9)\n",
    "l"
   ]
  },
  {
   "cell_type": "code",
   "execution_count": 9,
   "id": "7777dc4f-1221-4b4c-b5c5-aafa0094f666",
   "metadata": {},
   "outputs": [],
   "source": [
    "l2 = [5, 7]"
   ]
  },
  {
   "cell_type": "code",
   "execution_count": 10,
   "id": "ef0810bc-3f68-451b-81d9-e48ef60f2332",
   "metadata": {},
   "outputs": [],
   "source": [
    "l.extend(l2)"
   ]
  },
  {
   "cell_type": "code",
   "execution_count": 11,
   "id": "269084b8-e512-4fb9-8e4d-84b1934cb805",
   "metadata": {},
   "outputs": [
    {
     "data": {
      "text/plain": [
       "[3, 5, 23, 3, 9, 9, 9, 9, 5, 7]"
      ]
     },
     "execution_count": 11,
     "metadata": {},
     "output_type": "execute_result"
    }
   ],
   "source": [
    "l"
   ]
  },
  {
   "cell_type": "code",
   "execution_count": 12,
   "id": "b0c0c6ed-2a0a-4e68-9337-3407b6e5e9c0",
   "metadata": {},
   "outputs": [],
   "source": [
    "l.insert(1, 200)   #Insert 200 at index-1."
   ]
  },
  {
   "cell_type": "code",
   "execution_count": 13,
   "id": "25563cbc-6d0c-445d-8463-252ebfebbf2f",
   "metadata": {},
   "outputs": [
    {
     "data": {
      "text/plain": [
       "[3, 200, 5, 23, 3, 9, 9, 9, 9, 5, 7]"
      ]
     },
     "execution_count": 13,
     "metadata": {},
     "output_type": "execute_result"
    }
   ],
   "source": [
    "l"
   ]
  },
  {
   "cell_type": "code",
   "execution_count": 14,
   "id": "57248e1e-7692-4407-befa-c1d853f09eb7",
   "metadata": {},
   "outputs": [
    {
     "data": {
      "text/plain": [
       "3"
      ]
     },
     "execution_count": 14,
     "metadata": {},
     "output_type": "execute_result"
    }
   ],
   "source": [
    "number = l.pop(4)\n",
    "number"
   ]
  },
  {
   "cell_type": "code",
   "execution_count": 15,
   "id": "fd34818e-be4e-4765-a8b7-3eb76bc1e872",
   "metadata": {},
   "outputs": [
    {
     "data": {
      "text/plain": [
       "[3, 200, 5, 23, 9, 9, 9, 9, 5, 7]"
      ]
     },
     "execution_count": 15,
     "metadata": {},
     "output_type": "execute_result"
    }
   ],
   "source": [
    "l"
   ]
  },
  {
   "cell_type": "code",
   "execution_count": 17,
   "id": "ea5a2622-65d4-452c-9f54-07472dc7c0c6",
   "metadata": {},
   "outputs": [
    {
     "data": {
      "text/plain": [
       "4"
      ]
     },
     "execution_count": 17,
     "metadata": {},
     "output_type": "execute_result"
    }
   ],
   "source": [
    "l.index(9)"
   ]
  },
  {
   "cell_type": "code",
   "execution_count": 18,
   "id": "2b27ec81-b751-4bf7-87a9-1fc7cc21bb28",
   "metadata": {},
   "outputs": [
    {
     "data": {
      "text/plain": [
       "4"
      ]
     },
     "execution_count": 18,
     "metadata": {},
     "output_type": "execute_result"
    }
   ],
   "source": [
    "l.count(9)\n"
   ]
  },
  {
   "cell_type": "code",
   "execution_count": 19,
   "id": "863a23f6-898c-4734-8c00-3e361a0930a0",
   "metadata": {},
   "outputs": [
    {
     "data": {
      "text/plain": [
       "[3, 5, 5, 7, 9, 9, 9, 9, 23, 200]"
      ]
     },
     "execution_count": 19,
     "metadata": {},
     "output_type": "execute_result"
    }
   ],
   "source": [
    "l.sort()\n",
    "l"
   ]
  },
  {
   "cell_type": "code",
   "execution_count": 20,
   "id": "415b250c-9a09-4475-96e2-7172ea79ed9c",
   "metadata": {},
   "outputs": [
    {
     "data": {
      "text/plain": [
       "[3, 5, 5, 7, 9, 9, 9, 9, 23, 200]"
      ]
     },
     "execution_count": 20,
     "metadata": {},
     "output_type": "execute_result"
    }
   ],
   "source": [
    "sorted(l)"
   ]
  },
  {
   "cell_type": "code",
   "execution_count": 25,
   "id": "6d003ace-0bc6-430b-9914-f8779921f731",
   "metadata": {},
   "outputs": [
    {
     "data": {
      "text/plain": [
       "[2, 2, 12, 14, 31]"
      ]
     },
     "execution_count": 25,
     "metadata": {},
     "output_type": "execute_result"
    }
   ],
   "source": [
    "newl = [2, 14, 12, 31, 2]   #Returns a new list which is sorted version of the original list.\n",
    "sorted(newl)"
   ]
  },
  {
   "cell_type": "code",
   "execution_count": 26,
   "id": "88f856f5-4f88-42f6-bfbd-3dee4dedb348",
   "metadata": {},
   "outputs": [
    {
     "data": {
      "text/plain": [
       "[1, 2, True, False, [4, 7]]"
      ]
     },
     "execution_count": 26,
     "metadata": {},
     "output_type": "execute_result"
    }
   ],
   "source": [
    "y = [1, 2, True, False, [4, 7]]\n",
    "y"
   ]
  },
  {
   "cell_type": "code",
   "execution_count": 27,
   "id": "70c32e47-1634-4f27-a21e-ac4983464638",
   "metadata": {},
   "outputs": [
    {
     "data": {
      "text/plain": [
       "[4, 7]"
      ]
     },
     "execution_count": 27,
     "metadata": {},
     "output_type": "execute_result"
    }
   ],
   "source": [
    "y[4]"
   ]
  },
  {
   "cell_type": "code",
   "execution_count": 28,
   "id": "d22fbb7a-bc72-4a19-bfa5-f094efeb375b",
   "metadata": {},
   "outputs": [
    {
     "data": {
      "text/plain": [
       "4"
      ]
     },
     "execution_count": 28,
     "metadata": {},
     "output_type": "execute_result"
    }
   ],
   "source": [
    "y[4][0]"
   ]
  },
  {
   "cell_type": "code",
   "execution_count": 29,
   "id": "6b35d361-6fb6-4f13-ac3d-f91978186fc0",
   "metadata": {},
   "outputs": [
    {
     "data": {
      "text/plain": [
       "7"
      ]
     },
     "execution_count": 29,
     "metadata": {},
     "output_type": "execute_result"
    }
   ],
   "source": [
    "y[4][1]"
   ]
  },
  {
   "cell_type": "code",
   "execution_count": 31,
   "id": "347e386e-af68-48b0-b57d-23933eecb49b",
   "metadata": {},
   "outputs": [],
   "source": [
    "list1 = [18, 28, 12]"
   ]
  },
  {
   "cell_type": "code",
   "execution_count": 32,
   "id": "8bb757ce-1155-4c92-a903-d34b8bf3defd",
   "metadata": {},
   "outputs": [],
   "source": [
    "list2 = [10, 23, 63]"
   ]
  },
  {
   "cell_type": "code",
   "execution_count": 34,
   "id": "1ab0e120-c068-4ef2-85f4-0ef4138ee684",
   "metadata": {},
   "outputs": [
    {
     "data": {
      "text/plain": [
       "[18, 28, 12, 10, 23, 63]"
      ]
     },
     "execution_count": 34,
     "metadata": {},
     "output_type": "execute_result"
    }
   ],
   "source": [
    "list1 + list2 #List concaenation."
   ]
  },
  {
   "cell_type": "code",
   "execution_count": 35,
   "id": "64e61276-e9dc-4b9d-8ed1-e01b259b46b1",
   "metadata": {},
   "outputs": [
    {
     "name": "stdout",
     "output_type": "stream",
     "text": [
      "Yes\n"
     ]
    }
   ],
   "source": [
    "if 12 in list1:\n",
    "    print(\"Yes\")"
   ]
  },
  {
   "cell_type": "code",
   "execution_count": 38,
   "id": "c8dfe5e9-67b1-4572-bd51-43809260134b",
   "metadata": {},
   "outputs": [
    {
     "data": {
      "text/plain": [
       "True"
      ]
     },
     "execution_count": 38,
     "metadata": {},
     "output_type": "execute_result"
    }
   ],
   "source": [
    "12 in list1"
   ]
  },
  {
   "cell_type": "markdown",
   "id": "92de3a45-1e2e-40e7-8ddb-8a3d6de522f5",
   "metadata": {},
   "source": [
    "### Splitting a string into a list."
   ]
  },
  {
   "cell_type": "code",
   "execution_count": 40,
   "id": "a6295056-8cc5-4f7a-ac6d-5cc3c0be7f9a",
   "metadata": {},
   "outputs": [],
   "source": [
    "s = \"jack-jill-shubham-kirtan-javed-salman-akshay\""
   ]
  },
  {
   "cell_type": "code",
   "execution_count": 41,
   "id": "23602c82-9599-4b61-bb17-306220c94d8b",
   "metadata": {},
   "outputs": [
    {
     "data": {
      "text/plain": [
       "['jack', 'jill', 'shubham', 'kirtan', 'javed', 'salman', 'akshay']"
      ]
     },
     "execution_count": 41,
     "metadata": {},
     "output_type": "execute_result"
    }
   ],
   "source": [
    "s.split(\"-\")"
   ]
  },
  {
   "cell_type": "code",
   "execution_count": null,
   "id": "c4626dfc-3f07-4072-a8fc-901ccb4dfde3",
   "metadata": {},
   "outputs": [],
   "source": []
  }
 ],
 "metadata": {
  "kernelspec": {
   "display_name": "Python 3 (ipykernel)",
   "language": "python",
   "name": "python3"
  },
  "language_info": {
   "codemirror_mode": {
    "name": "ipython",
    "version": 3
   },
   "file_extension": ".py",
   "mimetype": "text/x-python",
   "name": "python",
   "nbconvert_exporter": "python",
   "pygments_lexer": "ipython3",
   "version": "3.13.5"
  }
 },
 "nbformat": 4,
 "nbformat_minor": 5
}
