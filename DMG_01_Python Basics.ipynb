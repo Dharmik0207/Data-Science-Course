{
 "cells": [
  {
   "cell_type": "markdown",
   "id": "026696c2-2c99-4e82-becc-ce4da971582c",
   "metadata": {},
   "source": [
    "# Welcome to the Python Course :-"
   ]
  },
  {
   "cell_type": "markdown",
   "id": "a15d4deb-86f2-4c13-99df-27b8bd7de92b",
   "metadata": {},
   "source": [
    "## Print Numbers & Strings : "
   ]
  },
  {
   "cell_type": "code",
   "execution_count": 1,
   "id": "a02dbed2-6f45-450c-9944-545fbc54f940",
   "metadata": {},
   "outputs": [],
   "source": [
    "a = 5"
   ]
  },
  {
   "cell_type": "code",
   "execution_count": 2,
   "id": "afa5dee5-24ba-4f85-9006-685ab58c8b19",
   "metadata": {},
   "outputs": [],
   "source": [
    "b = 32"
   ]
  },
  {
   "cell_type": "code",
   "execution_count": 3,
   "id": "553eb0a8-8787-4402-b2aa-c129fc453d58",
   "metadata": {},
   "outputs": [
    {
     "data": {
      "text/plain": [
       "37"
      ]
     },
     "execution_count": 3,
     "metadata": {},
     "output_type": "execute_result"
    }
   ],
   "source": [
    "a + b"
   ]
  },
  {
   "cell_type": "code",
   "execution_count": 5,
   "id": "29a13b8e-9d10-471c-8acf-500876132705",
   "metadata": {},
   "outputs": [],
   "source": [
    "name = \"Dharmik\""
   ]
  },
  {
   "cell_type": "code",
   "execution_count": 8,
   "id": "097954a7-6af0-446c-bfdf-d046a7ef93c3",
   "metadata": {},
   "outputs": [
    {
     "name": "stdout",
     "output_type": "stream",
     "text": [
      "Dharmik\n"
     ]
    }
   ],
   "source": [
    "print(name) #This will print name on the screen"
   ]
  },
  {
   "cell_type": "code",
   "execution_count": 7,
   "id": "5279cb8d-cb4e-43d7-a90d-dd04f160d8c3",
   "metadata": {},
   "outputs": [],
   "source": [
    "# this is a comment "
   ]
  },
  {
   "cell_type": "markdown",
   "id": "2b22a928-7b9a-4bef-8b1e-f7c58569aed1",
   "metadata": {
    "tags": []
   },
   "source": [
    "## Type : "
   ]
  },
  {
   "cell_type": "code",
   "execution_count": 9,
   "id": "1ff2ead1-3a82-4f61-bfe2-c01c853cc4da",
   "metadata": {},
   "outputs": [
    {
     "name": "stdout",
     "output_type": "stream",
     "text": [
      "<class 'int'>\n"
     ]
    }
   ],
   "source": [
    "print(type(a))"
   ]
  },
  {
   "cell_type": "code",
   "execution_count": 10,
   "id": "41f8faea-9f3d-4474-ace3-aefb6bbe252c",
   "metadata": {},
   "outputs": [
    {
     "name": "stdout",
     "output_type": "stream",
     "text": [
      "<class 'str'>\n"
     ]
    }
   ],
   "source": [
    "print(type(name))"
   ]
  },
  {
   "cell_type": "markdown",
   "id": "4167510b-2733-421c-a1a5-dacb07d0ca94",
   "metadata": {
    "tags": []
   },
   "source": [
    "## Concatination : "
   ]
  },
  {
   "cell_type": "code",
   "execution_count": 11,
   "id": "f8841c69-c28b-4ed6-b833-cc41e9d0a698",
   "metadata": {},
   "outputs": [],
   "source": [
    "a = \"2822\""
   ]
  },
  {
   "cell_type": "code",
   "execution_count": 12,
   "id": "c27149a9-df0f-4ad6-8a59-34d478194406",
   "metadata": {},
   "outputs": [],
   "source": [
    "b = \"6353\""
   ]
  },
  {
   "cell_type": "code",
   "execution_count": 13,
   "id": "5b0d4e58-0fe3-4aa0-bc14-de1542e009a9",
   "metadata": {},
   "outputs": [
    {
     "name": "stdout",
     "output_type": "stream",
     "text": [
      "28226353\n"
     ]
    }
   ],
   "source": [
    "print(a+b)"
   ]
  },
  {
   "cell_type": "markdown",
   "id": "9fe18fb4-49f4-4954-bff4-7c1e7d0245d4",
   "metadata": {},
   "source": [
    "## Type Casting :"
   ]
  },
  {
   "cell_type": "code",
   "execution_count": 15,
   "id": "d84d50e0-0475-47b4-b0d0-d60b5fc12e70",
   "metadata": {},
   "outputs": [
    {
     "data": {
      "text/plain": [
       "9175"
      ]
     },
     "execution_count": 15,
     "metadata": {},
     "output_type": "execute_result"
    }
   ],
   "source": [
    "int(a) + int(b)"
   ]
  },
  {
   "cell_type": "code",
   "execution_count": null,
   "id": "5cf969e5-c392-4f0c-af64-d6806b7e78f2",
   "metadata": {},
   "outputs": [],
   "source": []
  }
 ],
 "metadata": {
  "kernelspec": {
   "display_name": "Python 3 (ipykernel)",
   "language": "python",
   "name": "python3"
  },
  "language_info": {
   "codemirror_mode": {
    "name": "ipython",
    "version": 3
   },
   "file_extension": ".py",
   "mimetype": "text/x-python",
   "name": "python",
   "nbconvert_exporter": "python",
   "pygments_lexer": "ipython3",
   "version": "3.9.13"
  }
 },
 "nbformat": 4,
 "nbformat_minor": 5
}
