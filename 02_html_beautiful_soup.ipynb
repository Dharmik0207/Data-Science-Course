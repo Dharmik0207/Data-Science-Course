{
 "cells": [
  {
   "cell_type": "code",
   "execution_count": 33,
   "id": "5c4b7155-68af-452a-ab61-d324f739487f",
   "metadata": {},
   "outputs": [],
   "source": [
    "from bs4 import BeautifulSoup"
   ]
  },
  {
   "cell_type": "code",
   "execution_count": 34,
   "id": "55baf6e3-e3cc-4a63-ac2d-84ef67268d19",
   "metadata": {},
   "outputs": [],
   "source": [
    "with open(\"htmls/page1.html\") as f:\n",
    "    content = f.read()"
   ]
  },
  {
   "cell_type": "code",
   "execution_count": 35,
   "id": "0921e476-133b-439b-be6e-a4e56dd1ba1e",
   "metadata": {},
   "outputs": [],
   "source": [
    "soup = BeautifulSoup(content, \"html.parser\")"
   ]
  },
  {
   "cell_type": "code",
   "execution_count": 36,
   "id": "88755275-edd0-4dae-85a5-625873f8cbdd",
   "metadata": {},
   "outputs": [],
   "source": [
    "h3s = soup.find_all(\"h3\")"
   ]
  },
  {
   "cell_type": "code",
   "execution_count": 37,
   "id": "d2d14096-79a2-42a1-adb1-1fcdc1573d77",
   "metadata": {},
   "outputs": [],
   "source": [
    "articles = soup.select(\"article.product_pod\")"
   ]
  },
  {
   "cell_type": "code",
   "execution_count": 60,
   "id": "20fdea04-1db4-4393-8ef2-eaa386d882a6",
   "metadata": {},
   "outputs": [],
   "source": [
    "items = []\n",
    "for article in articles:\n",
    "    title = article.find(\"h3\").find(\"a\")[\"title\"]\n",
    "    price = article.select_one(\"p.price_color\").text.split(\"£\")[1]\n",
    "    rating_element = article.select_one(\"p.star-rating\")\n",
    "    rating = rating_element['class'][1]\n",
    "    items.append([title, price, rating])"
   ]
  },
  {
   "cell_type": "code",
   "execution_count": 61,
   "id": "8423f53b-6d7c-4779-9ea4-db577015ecc4",
   "metadata": {},
   "outputs": [
    {
     "data": {
      "text/plain": [
       "[['A Light in the Attic', '51.77', 'Three'],\n",
       " ['Tipping the Velvet', '53.74', 'One'],\n",
       " ['Soumission', '50.10', 'One'],\n",
       " ['Sharp Objects', '47.82', 'Four'],\n",
       " ['Sapiens: A Brief History of Humankind', '54.23', 'Five'],\n",
       " ['The Requiem Red', '22.65', 'One'],\n",
       " ['The Dirty Little Secrets of Getting Your Dream Job', '33.34', 'Four'],\n",
       " ['The Coming Woman: A Novel Based on the Life of the Infamous Feminist, Victoria Woodhull',\n",
       "  '17.93',\n",
       "  'Three'],\n",
       " ['The Boys in the Boat: Nine Americans and Their Epic Quest for Gold at the 1936 Berlin Olympics',\n",
       "  '22.60',\n",
       "  'Four'],\n",
       " ['The Black Maria', '52.15', 'One'],\n",
       " ['Starving Hearts (Triangular Trade Trilogy, #1)', '13.99', 'Two'],\n",
       " [\"Shakespeare's Sonnets\", '20.66', 'Four'],\n",
       " ['Set Me Free', '17.46', 'Five'],\n",
       " [\"Scott Pilgrim's Precious Little Life (Scott Pilgrim #1)\", '52.29', 'Five'],\n",
       " ['Rip it Up and Start Again', '35.02', 'Five'],\n",
       " ['Our Band Could Be Your Life: Scenes from the American Indie Underground, 1981-1991',\n",
       "  '57.25',\n",
       "  'Three'],\n",
       " ['Olio', '23.88', 'One'],\n",
       " ['Mesaerion: The Best Science Fiction Stories 1800-1849', '37.59', 'One'],\n",
       " ['Libertarianism for Beginners', '51.33', 'Two'],\n",
       " [\"It's Only the Himalayas\", '45.17', 'Two']]"
      ]
     },
     "execution_count": 61,
     "metadata": {},
     "output_type": "execute_result"
    }
   ],
   "source": [
    "items"
   ]
  },
  {
   "cell_type": "code",
   "execution_count": 62,
   "id": "b5cbcb17-fcce-43ec-8679-3793ab743a7c",
   "metadata": {},
   "outputs": [],
   "source": [
    "import pandas as pd"
   ]
  },
  {
   "cell_type": "code",
   "execution_count": 63,
   "id": "c51ca453-6132-46ce-947d-26b80c3f9096",
   "metadata": {},
   "outputs": [],
   "source": [
    "df = pd.DataFrame(items, columns=[\"Book Title\", \"Price\", \"Rating\"])"
   ]
  },
  {
   "cell_type": "code",
   "execution_count": 64,
   "id": "e58be2ab-b645-42df-a75a-951f54b53fcb",
   "metadata": {},
   "outputs": [
    {
     "data": {
      "text/html": [
       "<div>\n",
       "<style scoped>\n",
       "    .dataframe tbody tr th:only-of-type {\n",
       "        vertical-align: middle;\n",
       "    }\n",
       "\n",
       "    .dataframe tbody tr th {\n",
       "        vertical-align: top;\n",
       "    }\n",
       "\n",
       "    .dataframe thead th {\n",
       "        text-align: right;\n",
       "    }\n",
       "</style>\n",
       "<table border=\"1\" class=\"dataframe\">\n",
       "  <thead>\n",
       "    <tr style=\"text-align: right;\">\n",
       "      <th></th>\n",
       "      <th>Book Title</th>\n",
       "      <th>Price</th>\n",
       "      <th>Rating</th>\n",
       "    </tr>\n",
       "  </thead>\n",
       "  <tbody>\n",
       "    <tr>\n",
       "      <th>0</th>\n",
       "      <td>A Light in the Attic</td>\n",
       "      <td>51.77</td>\n",
       "      <td>Three</td>\n",
       "    </tr>\n",
       "    <tr>\n",
       "      <th>1</th>\n",
       "      <td>Tipping the Velvet</td>\n",
       "      <td>53.74</td>\n",
       "      <td>One</td>\n",
       "    </tr>\n",
       "    <tr>\n",
       "      <th>2</th>\n",
       "      <td>Soumission</td>\n",
       "      <td>50.10</td>\n",
       "      <td>One</td>\n",
       "    </tr>\n",
       "    <tr>\n",
       "      <th>3</th>\n",
       "      <td>Sharp Objects</td>\n",
       "      <td>47.82</td>\n",
       "      <td>Four</td>\n",
       "    </tr>\n",
       "    <tr>\n",
       "      <th>4</th>\n",
       "      <td>Sapiens: A Brief History of Humankind</td>\n",
       "      <td>54.23</td>\n",
       "      <td>Five</td>\n",
       "    </tr>\n",
       "    <tr>\n",
       "      <th>5</th>\n",
       "      <td>The Requiem Red</td>\n",
       "      <td>22.65</td>\n",
       "      <td>One</td>\n",
       "    </tr>\n",
       "    <tr>\n",
       "      <th>6</th>\n",
       "      <td>The Dirty Little Secrets of Getting Your Dream...</td>\n",
       "      <td>33.34</td>\n",
       "      <td>Four</td>\n",
       "    </tr>\n",
       "    <tr>\n",
       "      <th>7</th>\n",
       "      <td>The Coming Woman: A Novel Based on the Life of...</td>\n",
       "      <td>17.93</td>\n",
       "      <td>Three</td>\n",
       "    </tr>\n",
       "    <tr>\n",
       "      <th>8</th>\n",
       "      <td>The Boys in the Boat: Nine Americans and Their...</td>\n",
       "      <td>22.60</td>\n",
       "      <td>Four</td>\n",
       "    </tr>\n",
       "    <tr>\n",
       "      <th>9</th>\n",
       "      <td>The Black Maria</td>\n",
       "      <td>52.15</td>\n",
       "      <td>One</td>\n",
       "    </tr>\n",
       "    <tr>\n",
       "      <th>10</th>\n",
       "      <td>Starving Hearts (Triangular Trade Trilogy, #1)</td>\n",
       "      <td>13.99</td>\n",
       "      <td>Two</td>\n",
       "    </tr>\n",
       "    <tr>\n",
       "      <th>11</th>\n",
       "      <td>Shakespeare's Sonnets</td>\n",
       "      <td>20.66</td>\n",
       "      <td>Four</td>\n",
       "    </tr>\n",
       "    <tr>\n",
       "      <th>12</th>\n",
       "      <td>Set Me Free</td>\n",
       "      <td>17.46</td>\n",
       "      <td>Five</td>\n",
       "    </tr>\n",
       "    <tr>\n",
       "      <th>13</th>\n",
       "      <td>Scott Pilgrim's Precious Little Life (Scott Pi...</td>\n",
       "      <td>52.29</td>\n",
       "      <td>Five</td>\n",
       "    </tr>\n",
       "    <tr>\n",
       "      <th>14</th>\n",
       "      <td>Rip it Up and Start Again</td>\n",
       "      <td>35.02</td>\n",
       "      <td>Five</td>\n",
       "    </tr>\n",
       "    <tr>\n",
       "      <th>15</th>\n",
       "      <td>Our Band Could Be Your Life: Scenes from the A...</td>\n",
       "      <td>57.25</td>\n",
       "      <td>Three</td>\n",
       "    </tr>\n",
       "    <tr>\n",
       "      <th>16</th>\n",
       "      <td>Olio</td>\n",
       "      <td>23.88</td>\n",
       "      <td>One</td>\n",
       "    </tr>\n",
       "    <tr>\n",
       "      <th>17</th>\n",
       "      <td>Mesaerion: The Best Science Fiction Stories 18...</td>\n",
       "      <td>37.59</td>\n",
       "      <td>One</td>\n",
       "    </tr>\n",
       "    <tr>\n",
       "      <th>18</th>\n",
       "      <td>Libertarianism for Beginners</td>\n",
       "      <td>51.33</td>\n",
       "      <td>Two</td>\n",
       "    </tr>\n",
       "    <tr>\n",
       "      <th>19</th>\n",
       "      <td>It's Only the Himalayas</td>\n",
       "      <td>45.17</td>\n",
       "      <td>Two</td>\n",
       "    </tr>\n",
       "  </tbody>\n",
       "</table>\n",
       "</div>"
      ],
      "text/plain": [
       "                                           Book Title  Price Rating\n",
       "0                                A Light in the Attic  51.77  Three\n",
       "1                                  Tipping the Velvet  53.74    One\n",
       "2                                          Soumission  50.10    One\n",
       "3                                       Sharp Objects  47.82   Four\n",
       "4               Sapiens: A Brief History of Humankind  54.23   Five\n",
       "5                                     The Requiem Red  22.65    One\n",
       "6   The Dirty Little Secrets of Getting Your Dream...  33.34   Four\n",
       "7   The Coming Woman: A Novel Based on the Life of...  17.93  Three\n",
       "8   The Boys in the Boat: Nine Americans and Their...  22.60   Four\n",
       "9                                     The Black Maria  52.15    One\n",
       "10     Starving Hearts (Triangular Trade Trilogy, #1)  13.99    Two\n",
       "11                              Shakespeare's Sonnets  20.66   Four\n",
       "12                                        Set Me Free  17.46   Five\n",
       "13  Scott Pilgrim's Precious Little Life (Scott Pi...  52.29   Five\n",
       "14                          Rip it Up and Start Again  35.02   Five\n",
       "15  Our Band Could Be Your Life: Scenes from the A...  57.25  Three\n",
       "16                                               Olio  23.88    One\n",
       "17  Mesaerion: The Best Science Fiction Stories 18...  37.59    One\n",
       "18                       Libertarianism for Beginners  51.33    Two\n",
       "19                            It's Only the Himalayas  45.17    Two"
      ]
     },
     "execution_count": 64,
     "metadata": {},
     "output_type": "execute_result"
    }
   ],
   "source": [
    "df"
   ]
  },
  {
   "cell_type": "code",
   "execution_count": 65,
   "id": "231d0b31-72b3-4ac5-b56a-6f29a1061745",
   "metadata": {},
   "outputs": [],
   "source": [
    "df.to_csv(\"data.csv\", index=False)"
   ]
  },
  {
   "cell_type": "code",
   "execution_count": null,
   "id": "9557dd2e-a965-41d8-aea5-b42c10babc43",
   "metadata": {},
   "outputs": [],
   "source": []
  }
 ],
 "metadata": {
  "kernelspec": {
   "display_name": "Python 3 (ipykernel)",
   "language": "python",
   "name": "python3"
  },
  "language_info": {
   "codemirror_mode": {
    "name": "ipython",
    "version": 3
   },
   "file_extension": ".py",
   "mimetype": "text/x-python",
   "name": "python",
   "nbconvert_exporter": "python",
   "pygments_lexer": "ipython3",
   "version": "3.13.5"
  }
 },
 "nbformat": 4,
 "nbformat_minor": 5
}
