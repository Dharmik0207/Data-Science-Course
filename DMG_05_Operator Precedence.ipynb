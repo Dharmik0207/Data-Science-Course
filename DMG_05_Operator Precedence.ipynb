{
 "cells": [
  {
   "cell_type": "markdown",
   "id": "59e8e91d-8147-4a9b-b9fb-12abb3fddcfe",
   "metadata": {},
   "source": [
    "# Operator Precedence in Python"
   ]
  },
  {
   "cell_type": "markdown",
   "id": "a377c804-1615-4e74-92e6-cfb717990f1c",
   "metadata": {},
   "source": [
    "####  PEMDAS(Parentheses, Exponents, Multiplication/Division, Addition/Subtraction)."
   ]
  },
  {
   "cell_type": "markdown",
   "id": "5121b6ff-7370-4090-a3fc-a541ae3be999",
   "metadata": {},
   "source": [
    "### PEMDAS: (), **, *, /, //, %, +, -"
   ]
  },
  {
   "cell_type": "markdown",
   "id": "a43ae7f8-d1ea-42d0-896b-99793e351e44",
   "metadata": {},
   "source": [
    "#### Example:"
   ]
  },
  {
   "cell_type": "code",
   "execution_count": 4,
   "id": "32eeae7e-33ad-4c7f-9fa6-30e9e8b317f6",
   "metadata": {},
   "outputs": [
    {
     "name": "stdout",
     "output_type": "stream",
     "text": [
      "16\n"
     ]
    }
   ],
   "source": [
    "result = 10 + 2 * 3   #Multiplication happens first: 10 + (2 * 3) = 16\n",
    "print(result)"
   ]
  },
  {
   "cell_type": "code",
   "execution_count": 7,
   "id": "2cfc987b-8fd3-4291-a0ba-b892150a5e66",
   "metadata": {},
   "outputs": [
    {
     "name": "stdout",
     "output_type": "stream",
     "text": [
      "36\n"
     ]
    }
   ],
   "source": [
    "result = (10 + 2) * 3  #Parentheses first: (10 + 2) * 3 =  36\n",
    "print(result)"
   ]
  },
  {
   "cell_type": "code",
   "execution_count": 10,
   "id": "1af90c45-1d08-4910-bf94-9f705f3ab589",
   "metadata": {},
   "outputs": [
    {
     "name": "stdout",
     "output_type": "stream",
     "text": [
      "512\n"
     ]
    }
   ],
   "source": [
    "result = 2 ** 3 ** 2   #Right-to-left exponentiation: 2  ** (3 ** 2) = 2 ** 9 = 512\n",
    "print(result)"
   ]
  },
  {
   "cell_type": "markdown",
   "id": "62c8eb65-345d-46bd-9411-45e42c0c5a0f",
   "metadata": {},
   "source": [
    "##### Random Calculation : "
   ]
  },
  {
   "cell_type": "code",
   "execution_count": 11,
   "id": "adeb23d6-0fed-49a0-94c2-1afccfc5d162",
   "metadata": {},
   "outputs": [
    {
     "data": {
      "text/plain": [
       "-4100619.3333333335"
      ]
     },
     "execution_count": 11,
     "metadata": {},
     "output_type": "execute_result"
    }
   ],
   "source": [
    "34*2/12-45**4"
   ]
  },
  {
   "cell_type": "code",
   "execution_count": 12,
   "id": "e5024bb7-50b3-48c7-99cf-8da80ad02860",
   "metadata": {},
   "outputs": [
    {
     "data": {
      "text/plain": [
       "-41619.333333333336"
      ]
     },
     "execution_count": 12,
     "metadata": {},
     "output_type": "execute_result"
    }
   ],
   "source": [
    "68/12-41625\n"
   ]
  },
  {
   "cell_type": "code",
   "execution_count": 14,
   "id": "5c814a9b-7b69-4a05-ae15-783e6b34fd8d",
   "metadata": {},
   "outputs": [
    {
     "data": {
      "text/plain": [
       "-41619.333333333336"
      ]
     },
     "execution_count": 14,
     "metadata": {},
     "output_type": "execute_result"
    }
   ],
   "source": [
    "5.666666666666667-41625"
   ]
  },
  {
   "cell_type": "markdown",
   "id": "18fd6dc5-bfa4-4de8-8e3c-b0a5e10a9b15",
   "metadata": {},
   "source": [
    "### Order of Evaluation :"
   ]
  },
  {
   "cell_type": "markdown",
   "id": "e0e45463-ae6e-4958-a06e-02c81375e1c7",
   "metadata": {},
   "source": [
    "##### 1. Exponention(**) is evaluated right to left:"
   ]
  },
  {
   "cell_type": "markdown",
   "id": "76149141-a1fa-4a0e-b818-155ed2df15dc",
   "metadata": {},
   "source": [
    "##### 2. Multiplication(*), division(/), floor division(//), modulo(%) are evaluated left to right."
   ]
  },
  {
   "cell_type": "code",
   "execution_count": null,
   "id": "90812595-6143-48fe-a117-ce741c1c48cf",
   "metadata": {},
   "outputs": [],
   "source": []
  }
 ],
 "metadata": {
  "kernelspec": {
   "display_name": "Python 3 (ipykernel)",
   "language": "python",
   "name": "python3"
  },
  "language_info": {
   "codemirror_mode": {
    "name": "ipython",
    "version": 3
   },
   "file_extension": ".py",
   "mimetype": "text/x-python",
   "name": "python",
   "nbconvert_exporter": "python",
   "pygments_lexer": "ipython3",
   "version": "3.13.5"
  }
 },
 "nbformat": 4,
 "nbformat_minor": 5
}
