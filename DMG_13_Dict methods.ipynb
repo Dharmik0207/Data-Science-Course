{
 "cells": [
  {
   "cell_type": "markdown",
   "id": "8a2cacaa-b8cb-4e85-befe-c52bc32dab5f",
   "metadata": {},
   "source": [
    "# Python Dictionaries and Dictionary Methods\n",
    "\n",
    "## What is a Dictionary?\n",
    "A **dictionary** in Python is an **unordered**, **mutable**, and **key-value** pair collection. It allows efficient data retrieval and modification. Dictionaries in Python are ordered as of Python 3.7\n",
    "\n",
    "### Creating a Dictionary:\n",
    "```python\n",
    "# Empty dictionary\n",
    "empty_dict = {}\n",
    "\n",
    "# Dictionary with key-value pairs\n",
    "student = {\"name\": \"Alice\", \"age\": 25, \"grade\": \"A\"}\n",
    "\n",
    "# Using dict() constructor\n",
    "person = dict(name=\"John\", age=30, city=\"New York\")\n",
    "```\n"
   ]
  },
  {
   "cell_type": "code",
   "execution_count": 1,
   "id": "66123fa1-ce7b-4f3c-b747-75a5ebf6757f",
   "metadata": {},
   "outputs": [],
   "source": [
    "d = {}"
   ]
  },
  {
   "cell_type": "code",
   "execution_count": 2,
   "id": "0045d436-74fb-44a2-8ed6-04214f663eac",
   "metadata": {},
   "outputs": [
    {
     "data": {
      "text/plain": [
       "dict"
      ]
     },
     "execution_count": 2,
     "metadata": {},
     "output_type": "execute_result"
    }
   ],
   "source": [
    "type(d)"
   ]
  },
  {
   "cell_type": "code",
   "execution_count": 3,
   "id": "1f01ac41-0938-49de-8228-5f00674898c6",
   "metadata": {},
   "outputs": [],
   "source": [
    "# Dictionary with key-value pairs\n",
    "student = {\"name\": \"Alice\", \"age\": 25, \"grade\": \"A\"}\n",
    "    "
   ]
  },
  {
   "cell_type": "code",
   "execution_count": 20,
   "id": "1f643e11-b692-47bd-9c09-d14fadaa4262",
   "metadata": {},
   "outputs": [
    {
     "name": "stdout",
     "output_type": "stream",
     "text": [
      "27\n",
      "Not Found\n"
     ]
    }
   ],
   "source": [
    "# Using get() (avoids KeyError if key doesn't exist)\n",
    "print(student.get(\"age\"))  # 25\n",
    "print(student.get(\"height\", \"Not Found\"))  # Default value"
   ]
  },
  {
   "cell_type": "code",
   "execution_count": 4,
   "id": "f9927c51-5830-4a48-965b-3435ce717f91",
   "metadata": {},
   "outputs": [
    {
     "data": {
      "text/plain": [
       "'Alice'"
      ]
     },
     "execution_count": 4,
     "metadata": {},
     "output_type": "execute_result"
    }
   ],
   "source": [
    "student.get(\"name\")"
   ]
  },
  {
   "cell_type": "code",
   "execution_count": 14,
   "id": "72ffe976-d25f-4072-8902-c835897ef1a9",
   "metadata": {},
   "outputs": [
    {
     "data": {
      "text/plain": [
       "27"
      ]
     },
     "execution_count": 14,
     "metadata": {},
     "output_type": "execute_result"
    }
   ],
   "source": [
    "student.get(\"age\")"
   ]
  },
  {
   "cell_type": "code",
   "execution_count": 15,
   "id": "633796f7-2176-4b9f-8117-ac5e659c14a5",
   "metadata": {},
   "outputs": [
    {
     "data": {
      "text/plain": [
       "'A'"
      ]
     },
     "execution_count": 15,
     "metadata": {},
     "output_type": "execute_result"
    }
   ],
   "source": [
    "student.get(\"grade\")"
   ]
  },
  {
   "cell_type": "code",
   "execution_count": 7,
   "id": "eab9c77e-a176-433f-8559-451355ed3dfa",
   "metadata": {},
   "outputs": [],
   "source": [
    "r = student.get(\"name4\")\n",
    "r"
   ]
  },
  {
   "cell_type": "code",
   "execution_count": 8,
   "id": "edfc9e9e-091a-43d4-8477-758b54d4d1ec",
   "metadata": {},
   "outputs": [
    {
     "name": "stdout",
     "output_type": "stream",
     "text": [
      "None\n"
     ]
    }
   ],
   "source": [
    "print(r)"
   ]
  },
  {
   "cell_type": "markdown",
   "id": "9e4b3db4-3a93-4f6e-afe4-a96a82a7f11f",
   "metadata": {},
   "source": [
    "## Accessing Dictionary Elements\n",
    "```python\n",
    "# Using keys\n",
    "print(student[\"name\"])  # Alice"
   ]
  },
  {
   "cell_type": "code",
   "execution_count": 17,
   "id": "ec54930f-b778-4705-813c-ea7d99689257",
   "metadata": {},
   "outputs": [
    {
     "name": "stdout",
     "output_type": "stream",
     "text": [
      "Alice\n"
     ]
    }
   ],
   "source": [
    "print(student[\"name\"])"
   ]
  },
  {
   "cell_type": "code",
   "execution_count": 18,
   "id": "eb14f5a7-3d1b-44b4-911d-1ff3084e33a1",
   "metadata": {},
   "outputs": [
    {
     "name": "stdout",
     "output_type": "stream",
     "text": [
      "27\n"
     ]
    }
   ],
   "source": [
    "print(student[\"age\"])"
   ]
  },
  {
   "cell_type": "code",
   "execution_count": 19,
   "id": "f5fa41cc-5249-4d38-a25b-5b1669a949f3",
   "metadata": {},
   "outputs": [
    {
     "name": "stdout",
     "output_type": "stream",
     "text": [
      "A\n"
     ]
    }
   ],
   "source": [
    "print(student[\"grade\"])"
   ]
  },
  {
   "cell_type": "markdown",
   "id": "ada2031b-28bc-49b2-aac5-6ccdb33ab448",
   "metadata": {},
   "source": [
    "## Common Dictionary Methods\n",
    "\n",
    "| Method | Description | Example |\n",
    "|--------|------------|---------|\n",
    "| `keys()` | Returns all keys in the dictionary. | `student.keys()` |\n",
    "| `values()` | Returns all values in the dictionary. | `student.values()` |\n",
    "| `items()` | Returns key-value pairs as tuples. | `student.items()` |\n",
    "| `get(key, default)` | Returns value for `key`, or `default` if key not found. | `student.get(\"age\", 0)` |\n",
    "| `update(dict2)` | Merges `dict2` into the dictionary. | `student.update({\"age\": 26})` |\n",
    "| `pop(key, default)` | Removes key and returns its value (or `default` if key not found). | `student.pop(\"grade\")` |\n",
    "| `popitem()` | Removes and returns the last inserted key-value pair. | `student.popitem()` |\n",
    "| `setdefault(key, default)` | Returns value for `key`, else sets it to `default`. | `student.setdefault(\"city\", \"Unknown\")` |\n",
    "| `clear()` | Removes all items from the dictionary. | `student.clear()` |\n",
    "| `copy()` | Returns a shallow copy of the dictionary. | `new_dict = student.copy()` |"
   ]
  },
  {
   "cell_type": "code",
   "execution_count": 24,
   "id": "b58ce508-71a9-4c8b-84f6-f4b66f8b81f2",
   "metadata": {},
   "outputs": [],
   "source": [
    "# Adding a new key-value pair\n",
    "student[\"city\"] = \"New York\""
   ]
  },
  {
   "cell_type": "code",
   "execution_count": 25,
   "id": "9df91fd7-417b-4183-b269-e17205d2f26a",
   "metadata": {},
   "outputs": [
    {
     "data": {
      "text/plain": [
       "{'name': 'Alice', 'age': 27, 'grade': 'A', 'city': 'New York'}"
      ]
     },
     "execution_count": 25,
     "metadata": {},
     "output_type": "execute_result"
    }
   ],
   "source": [
    "student"
   ]
  },
  {
   "cell_type": "code",
   "execution_count": 26,
   "id": "3119e753-bcae-42cb-b90a-4022d7a617f1",
   "metadata": {},
   "outputs": [
    {
     "data": {
      "text/plain": [
       "{'name': 'Alice', 'age': 27, 'grade': 'A', 'city': 'New York'}"
      ]
     },
     "execution_count": 26,
     "metadata": {},
     "output_type": "execute_result"
    }
   ],
   "source": [
    "# Updating an existing value\n",
    "student[\"age\"] = 27\n",
    "student"
   ]
  },
  {
   "cell_type": "code",
   "execution_count": 27,
   "id": "c3165f87-4993-466f-8aed-f7216436afd5",
   "metadata": {},
   "outputs": [
    {
     "data": {
      "text/plain": [
       "dict_keys(['name', 'age', 'grade', 'city'])"
      ]
     },
     "execution_count": 27,
     "metadata": {},
     "output_type": "execute_result"
    }
   ],
   "source": [
    "student.keys()  #Returns all keys in the dictionary."
   ]
  },
  {
   "cell_type": "code",
   "execution_count": 28,
   "id": "6b76ed63-c73a-488d-a972-36ff628f2eb3",
   "metadata": {},
   "outputs": [
    {
     "data": {
      "text/plain": [
       "dict_values(['Alice', 27, 'A', 'New York'])"
      ]
     },
     "execution_count": 28,
     "metadata": {},
     "output_type": "execute_result"
    }
   ],
   "source": [
    "student.values()  #Returns all values in the dictionary."
   ]
  },
  {
   "cell_type": "code",
   "execution_count": 30,
   "id": "7c119a14-c111-4709-b1cf-cefbf09006af",
   "metadata": {},
   "outputs": [
    {
     "data": {
      "text/plain": [
       "dict_items([('name', 'Alice'), ('age', 27), ('grade', 'A'), ('city', 'New York')])"
      ]
     },
     "execution_count": 30,
     "metadata": {},
     "output_type": "execute_result"
    }
   ],
   "source": [
    "student.items()  #Returns key-value pairs as tuples."
   ]
  },
  {
   "cell_type": "code",
   "execution_count": null,
   "id": "ebb0215c-3e58-495e-a10c-f7e3e447659d",
   "metadata": {},
   "outputs": [],
   "source": []
  },
  {
   "cell_type": "code",
   "execution_count": null,
   "id": "fe980be9-443a-4dab-bcf9-d03f046a6861",
   "metadata": {},
   "outputs": [],
   "source": []
  }
 ],
 "metadata": {
  "kernelspec": {
   "display_name": "Python 3 (ipykernel)",
   "language": "python",
   "name": "python3"
  },
  "language_info": {
   "codemirror_mode": {
    "name": "ipython",
    "version": 3
   },
   "file_extension": ".py",
   "mimetype": "text/x-python",
   "name": "python",
   "nbconvert_exporter": "python",
   "pygments_lexer": "ipython3",
   "version": "3.13.5"
  }
 },
 "nbformat": 4,
 "nbformat_minor": 5
}
