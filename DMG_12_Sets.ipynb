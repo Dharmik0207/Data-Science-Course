{
 "cells": [
  {
   "cell_type": "markdown",
   "id": "8c50a2ff-0a21-4743-83dd-1a4cc205bda7",
   "metadata": {},
   "source": [
    "# Python Sets and Set Methods\n",
    "\n",
    "## What is a Set?\n",
    "A **set** in Python is an **unordered**, **mutable**, and **unique** collection of elements. It does not allow duplicate values.\n",
    "\n",
    "### Creating a Set:\n",
    "```python\n",
    "# Empty set (must use set(), not {})\n",
    "empty_set = set()\n",
    "\n",
    "# Set with elements\n",
    "numbers = {1, 2, 3, 4, 5}\n",
    "\n",
    "# Mixed data types\n",
    "mixed_set = {1, \"Hello\", 3.14, True}\n",
    "\n",
    "# Creating a set from a list\n",
    "unique_numbers = set([1, 2, 2, 3, 4, 4, 5])\n",
    "print(unique_numbers)  # {1, 2, 3, 4, 5}\n",
    "```"
   ]
  },
  {
   "cell_type": "code",
   "execution_count": 1,
   "id": "2e3d4dd4-9bc3-4a68-820c-21e5d950b5f4",
   "metadata": {},
   "outputs": [],
   "source": [
    "a = set()"
   ]
  },
  {
   "cell_type": "code",
   "execution_count": 3,
   "id": "c3ba38c0-02bd-4cba-bf28-70e75823e5ce",
   "metadata": {},
   "outputs": [
    {
     "data": {
      "text/plain": [
       "set"
      ]
     },
     "execution_count": 3,
     "metadata": {},
     "output_type": "execute_result"
    }
   ],
   "source": [
    "type(a)"
   ]
  },
  {
   "cell_type": "code",
   "execution_count": 5,
   "id": "ff2ac0e5-b1bb-4ab3-8c0f-fe5b578581f1",
   "metadata": {},
   "outputs": [
    {
     "data": {
      "text/plain": [
       "{2, 4, 12, 63, 82}"
      ]
     },
     "execution_count": 5,
     "metadata": {},
     "output_type": "execute_result"
    }
   ],
   "source": [
    "s = {4, 2, 63, 12, 82, 4}\n",
    "s"
   ]
  },
  {
   "cell_type": "markdown",
   "id": "dc221f75-2f68-40ab-9426-89e265fb94a4",
   "metadata": {},
   "source": [
    "##### Mixed data types:"
   ]
  },
  {
   "cell_type": "code",
   "execution_count": 6,
   "id": "6b26febf-ce60-4bda-9da2-36bcdd19093a",
   "metadata": {},
   "outputs": [
    {
     "data": {
      "text/plain": [
       "{1, 3.14, 'Hello'}"
      ]
     },
     "execution_count": 6,
     "metadata": {},
     "output_type": "execute_result"
    }
   ],
   "source": [
    "mixed_set = {1, \"Hello\", 3.14, True}\n",
    "mixed_set"
   ]
  },
  {
   "cell_type": "markdown",
   "id": "398c7ef2-a37f-4dab-8618-0c1ad99ff34e",
   "metadata": {},
   "source": [
    "##### Type Casting : Creating a set from a list:"
   ]
  },
  {
   "cell_type": "code",
   "execution_count": 7,
   "id": "2887bf0e-4097-4728-bbb0-c498284bfc98",
   "metadata": {},
   "outputs": [
    {
     "data": {
      "text/plain": [
       "{1, 2, 3, 5, 6}"
      ]
     },
     "execution_count": 7,
     "metadata": {},
     "output_type": "execute_result"
    }
   ],
   "source": [
    "unique_numbers = set([1, 3, 2, 1, 5, 6, 2])\n",
    "unique_numbers"
   ]
  },
  {
   "cell_type": "markdown",
   "id": "6446a62c-46f1-4f1c-b261-416fa89b27bf",
   "metadata": {},
   "source": [
    "## Common Set Methods\n",
    "\n",
    "| Method | Description | Example |\n",
    "|--------|------------|---------|\n",
    "| `add(x)` | Adds an element `x` to the set. | `my_set.add(10)` |\n",
    "| `update(iterable)` | Adds multiple elements from an iterable. | `my_set.update([6, 7, 8])` |\n",
    "| `remove(x)` | Removes `x` from the set (raises an error if not found). | `my_set.remove(3)` |\n",
    "| `discard(x)` | Removes `x` from the set (does not raise an error if not found). | `my_set.discard(3)` |\n",
    "| `pop()` | Removes and returns a random element. | `my_set.pop()` |\n",
    "| `clear()` | Removes all elements from the set. | `my_set.clear()` |\n",
    "| `copy()` | Returns a shallow copy of the set. | `new_set = my_set.copy()` |"
   ]
  },
  {
   "cell_type": "code",
   "execution_count": 28,
   "id": "f41e617f-3046-4fc5-9c28-b739a963ddd9",
   "metadata": {},
   "outputs": [],
   "source": [
    "s = {4, 2, 63, 12, 82, 4}"
   ]
  },
  {
   "cell_type": "code",
   "execution_count": 29,
   "id": "4bffc5ea-ce7c-4663-bc52-3753d4588b0b",
   "metadata": {},
   "outputs": [
    {
     "data": {
      "text/plain": [
       "{2, 4, 12, 34, 63, 82}"
      ]
     },
     "execution_count": 29,
     "metadata": {},
     "output_type": "execute_result"
    }
   ],
   "source": [
    "s.add(34)\n",
    "s"
   ]
  },
  {
   "cell_type": "code",
   "execution_count": 30,
   "id": "1dabd69c-4a5e-4ec4-afc3-a68c647fb482",
   "metadata": {},
   "outputs": [
    {
     "data": {
      "text/plain": [
       "{2, 4, 12, 19, 34, 35, 63, 82, 83, 888}"
      ]
     },
     "execution_count": 30,
     "metadata": {},
     "output_type": "execute_result"
    }
   ],
   "source": [
    "s.update([35, 19,4,83,888])\n",
    "s"
   ]
  },
  {
   "cell_type": "code",
   "execution_count": 31,
   "id": "3fc3d27e-06cd-4e78-b6d5-3e82f1353ddd",
   "metadata": {},
   "outputs": [
    {
     "data": {
      "text/plain": [
       "{2, 4, 19, 34, 35, 63, 82, 83, 888}"
      ]
     },
     "execution_count": 31,
     "metadata": {},
     "output_type": "execute_result"
    }
   ],
   "source": [
    "s.remove(12)  #Removes x from the set (raises an error if not found).\n",
    "s"
   ]
  },
  {
   "cell_type": "code",
   "execution_count": 32,
   "id": "6f47016b-d8e2-4045-b7b0-d450079310d0",
   "metadata": {},
   "outputs": [
    {
     "data": {
      "text/plain": [
       "{2, 4, 19, 34, 35, 63, 82, 83, 888}"
      ]
     },
     "execution_count": 32,
     "metadata": {},
     "output_type": "execute_result"
    }
   ],
   "source": [
    "s.discard(20)   #Removes x from the set (does not raise an error if not found).\n",
    "s"
   ]
  },
  {
   "cell_type": "code",
   "execution_count": 33,
   "id": "29bf8dc4-61fd-4af4-88fb-a98db3d7bc2f",
   "metadata": {},
   "outputs": [
    {
     "data": {
      "text/plain": [
       "{4, 19, 34, 35, 63, 82, 83, 888}"
      ]
     },
     "execution_count": 33,
     "metadata": {},
     "output_type": "execute_result"
    }
   ],
   "source": [
    "s.pop()  #Removes and returns a random element.\n",
    "s"
   ]
  },
  {
   "cell_type": "code",
   "execution_count": 34,
   "id": "440fe95c-f39d-4096-b3bc-dee3aee8bf2f",
   "metadata": {},
   "outputs": [
    {
     "data": {
      "text/plain": [
       "set()"
      ]
     },
     "execution_count": 34,
     "metadata": {},
     "output_type": "execute_result"
    }
   ],
   "source": [
    "s.clear()  #Removes all elements from the set.\n",
    "s"
   ]
  },
  {
   "cell_type": "code",
   "execution_count": 35,
   "id": "fedb06e0-427f-4f8f-8696-ec23615b9c0d",
   "metadata": {},
   "outputs": [],
   "source": [
    "s = {4, 2, 63, 12, 82, 4}"
   ]
  },
  {
   "cell_type": "code",
   "execution_count": 37,
   "id": "a5643e29-05fc-4537-891a-d4dc23b2f91a",
   "metadata": {},
   "outputs": [
    {
     "data": {
      "text/plain": [
       "{2, 4, 12, 63, 82}"
      ]
     },
     "execution_count": 37,
     "metadata": {},
     "output_type": "execute_result"
    }
   ],
   "source": [
    "s.copy()  #Returns a shallow copy of the set.\n",
    "s"
   ]
  },
  {
   "cell_type": "markdown",
   "id": "d8361ea1-0aad-445f-a9bc-5d8c4f712497",
   "metadata": {},
   "source": [
    "## Set Operations\n",
    "\n",
    "| Operation | Description | Example |\n",
    "|-----------|------------|---------|\n",
    "| `union(set2)` | Returns a new set with all unique elements from both sets. | `set1.union(set2)` |\n",
    "| `intersection(set2)` | Returns a set with elements common to both sets. | `set1.intersection(set2)` |\n",
    "| `difference(set2)` | Returns a set with elements in `set1` but not in `set2`. | `set1.difference(set2)` |\n",
    "| `symmetric_difference(set2)` | Returns a set with elements in either `set1` or `set2`, but not both. | `set1.symmetric_difference(set2)` |\n",
    "| `issubset(set2)` | Returns `True` if `set1` is a subset of `set2`. | `set1.issubset(set2)` |\n",
    "| `issuperset(set2)` | Returns `True` if `set1` is a superset of `set2`. | `set1.issuperset(set2)` |"
   ]
  },
  {
   "cell_type": "markdown",
   "id": "7f0c2b1c-314a-46ec-ba6b-7a89e7f41f7b",
   "metadata": {},
   "source": [
    "## Example Usage:\n",
    "```python\n",
    "set1 = {1, 2, 3, 4}\n",
    "set2 = {3, 4, 5, 6}"
   ]
  },
  {
   "cell_type": "code",
   "execution_count": 38,
   "id": "d2abba93-3ee2-479e-8b4a-3e5b7485ce80",
   "metadata": {},
   "outputs": [],
   "source": [
    "set1 = {1, 2, 3, 4}\n",
    "set2 = {3, 4, 5, 6}"
   ]
  },
  {
   "cell_type": "code",
   "execution_count": 46,
   "id": "dacdd50b-1452-4504-9f50-a24fa754a412",
   "metadata": {},
   "outputs": [
    {
     "data": {
      "text/plain": [
       "{1, 2, 3, 4, 5, 6}"
      ]
     },
     "execution_count": 46,
     "metadata": {},
     "output_type": "execute_result"
    }
   ],
   "source": [
    "set1.union(set2)  #Returns a new set with all unique elements from both sets."
   ]
  },
  {
   "cell_type": "code",
   "execution_count": 47,
   "id": "e5a4d817-54cf-4e89-b97a-54f655d570f9",
   "metadata": {},
   "outputs": [
    {
     "data": {
      "text/plain": [
       "{3, 4}"
      ]
     },
     "execution_count": 47,
     "metadata": {},
     "output_type": "execute_result"
    }
   ],
   "source": [
    "set1.intersection(set2)   #Returns a set with elements common to both sets."
   ]
  },
  {
   "cell_type": "code",
   "execution_count": 48,
   "id": "ec5d57c4-e4a7-4d53-b4fc-8cb26131ed72",
   "metadata": {},
   "outputs": [
    {
     "data": {
      "text/plain": [
       "{1, 2}"
      ]
     },
     "execution_count": 48,
     "metadata": {},
     "output_type": "execute_result"
    }
   ],
   "source": [
    "set1.difference(set2)   #Returns a set with elements in set1 but not in set2."
   ]
  },
  {
   "cell_type": "code",
   "execution_count": 49,
   "id": "ba415bc3-241e-4e15-8510-2115e938a5b7",
   "metadata": {},
   "outputs": [
    {
     "data": {
      "text/plain": [
       "{1, 2, 5, 6}"
      ]
     },
     "execution_count": 49,
     "metadata": {},
     "output_type": "execute_result"
    }
   ],
   "source": [
    "set1.symmetric_difference(set2)  #Returns a set with elements in either set1 or set2, but not both."
   ]
  },
  {
   "cell_type": "code",
   "execution_count": 50,
   "id": "bbc14135-07af-41f0-9307-6d6a40eb78f2",
   "metadata": {},
   "outputs": [],
   "source": [
    "sub = {1,3}"
   ]
  },
  {
   "cell_type": "code",
   "execution_count": 52,
   "id": "2300dca4-92be-4ea8-acdb-0673feeb5118",
   "metadata": {},
   "outputs": [
    {
     "data": {
      "text/plain": [
       "True"
      ]
     },
     "execution_count": 52,
     "metadata": {},
     "output_type": "execute_result"
    }
   ],
   "source": [
    "sub.issubset(set1)   #Returns True if set1 is a subset of set2."
   ]
  },
  {
   "cell_type": "code",
   "execution_count": 53,
   "id": "5f6f9357-3e4b-4376-adce-3997f7410df4",
   "metadata": {},
   "outputs": [
    {
     "data": {
      "text/plain": [
       "True"
      ]
     },
     "execution_count": 53,
     "metadata": {},
     "output_type": "execute_result"
    }
   ],
   "source": [
    "set1.issuperset(sub)"
   ]
  },
  {
   "cell_type": "code",
   "execution_count": null,
   "id": "821a347f-fb4a-4e8e-a870-8cfcb82fc77f",
   "metadata": {},
   "outputs": [],
   "source": []
  }
 ],
 "metadata": {
  "kernelspec": {
   "display_name": "Python 3 (ipykernel)",
   "language": "python",
   "name": "python3"
  },
  "language_info": {
   "codemirror_mode": {
    "name": "ipython",
    "version": 3
   },
   "file_extension": ".py",
   "mimetype": "text/x-python",
   "name": "python",
   "nbconvert_exporter": "python",
   "pygments_lexer": "ipython3",
   "version": "3.13.5"
  }
 },
 "nbformat": 4,
 "nbformat_minor": 5
}
