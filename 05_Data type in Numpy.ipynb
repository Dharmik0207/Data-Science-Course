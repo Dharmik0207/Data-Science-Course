{
 "cells": [
  {
   "cell_type": "code",
   "execution_count": 1,
   "id": "81e395a4-c66b-442e-aee7-6f1ce51ef468",
   "metadata": {},
   "outputs": [],
   "source": [
    "import numpy as np\n",
    "arr = np.array([1, 2, 3, 4, 5])"
   ]
  },
  {
   "cell_type": "markdown",
   "id": "18ece187-e61e-416f-bf16-7e84fa32ad4f",
   "metadata": {},
   "source": [
    "### 1. Introduction to NumPy Data Types"
   ]
  },
  {
   "cell_type": "markdown",
   "id": "33a119e4-2fd0-4f9d-8351-e9dbc7070656",
   "metadata": {},
   "source": [
    "- NumPy arrays are homogeneous, meaning that they can only store elements of the same type. This is different from Python lists, which can hold mixed data types. NumPy supports various data types (also called dtypes), and understanding them is crucial for optimizing memory usage and performance."
   ]
  },
  {
   "cell_type": "markdown",
   "id": "e477b4c5-7a6b-4750-83bb-e61dc72518f9",
   "metadata": {},
   "source": [
    "- Common Data Types in NumPy:\n",
    "  - int32, int64: Integer types with different bit sizes.\n",
    "  - float32, float64: Floating-point types with different precision.\n",
    "  - bool: Boolean data type.\n",
    "  - complex64, complex128: Complex number types.\n",
    "  - object: For storing objects (e.g., Python objects, strings)."
   ]
  },
  {
   "cell_type": "code",
   "execution_count": 6,
   "id": "b4abe5fe-95b0-45df-ab90-639211959d48",
   "metadata": {},
   "outputs": [
    {
     "name": "stdout",
     "output_type": "stream",
     "text": [
      "int64\n"
     ]
    }
   ],
   "source": [
    "print(arr.dtype) # You can check the dtype of a NumPy array using the .dtype attribute."
   ]
  },
  {
   "cell_type": "markdown",
   "id": "716a123f-fa58-4375-aafa-10bc2d5317b3",
   "metadata": {},
   "source": [
    "### 2. Changing Data Types"
   ]
  },
  {
   "cell_type": "markdown",
   "id": "2688473c-1768-4af8-8a31-77f83977afd4",
   "metadata": {},
   "source": [
    "- You can cast (convert) the data type of an array using the .astype() method. This is useful when you need to change the type for a specific operation or when you want to reduce memory usage."
   ]
  },
  {
   "cell_type": "code",
   "execution_count": 7,
   "id": "22036018-e165-4186-97da-63a043955234",
   "metadata": {},
   "outputs": [
    {
     "data": {
      "text/plain": [
       "array([1., 2., 3., 4., 5.])"
      ]
     },
     "execution_count": 7,
     "metadata": {},
     "output_type": "execute_result"
    }
   ],
   "source": [
    "arr.astype('float64') # Covert int to float number"
   ]
  },
  {
   "cell_type": "code",
   "execution_count": 10,
   "id": "d134caef-7b70-41c3-9777-c31954d41be7",
   "metadata": {},
   "outputs": [],
   "source": [
    "arr2 = np.array([23, 4, 3, 23], dtype = 'float64') # Changing data-types"
   ]
  },
  {
   "cell_type": "code",
   "execution_count": 11,
   "id": "c209bf56-b80c-4818-a199-66d0b6dffe58",
   "metadata": {},
   "outputs": [
    {
     "data": {
      "text/plain": [
       "array([23.,  4.,  3., 23.])"
      ]
     },
     "execution_count": 11,
     "metadata": {},
     "output_type": "execute_result"
    }
   ],
   "source": [
    "arr2"
   ]
  },
  {
   "cell_type": "markdown",
   "id": "5aa2e049-70b4-401e-b67a-06c0d65a3add",
   "metadata": {},
   "source": [
    "### 3. Why Data Types Matter in NumPy"
   ]
  },
  {
   "cell_type": "markdown",
   "id": "cf859e80-11ce-45db-8628-61776cad0164",
   "metadata": {},
   "source": [
    "The choice of data type affects:\n",
    "\n",
    "- Memory Usage: Smaller data types use less memory.\n",
    "- Performance: Operations on smaller data types are faster due to less data being processed.\n",
    "- Precision: Choosing the appropriate data type ensures that you don't lose precision (e.g., using float32 instead of float64 if you don't need that extra precision)."
   ]
  },
  {
   "cell_type": "code",
   "execution_count": 12,
   "id": "f2605423-69ad-428d-aee6-c8d1dbeb9892",
   "metadata": {},
   "outputs": [],
   "source": [
    "arr1 = np.array([1, 2, 3], dtype='int32')\n",
    "arr2 = np.array([1, 2, 3], dtype='int64')"
   ]
  },
  {
   "cell_type": "code",
   "execution_count": 13,
   "id": "9eaebd43-2857-4067-b092-9c36b6288e36",
   "metadata": {},
   "outputs": [
    {
     "name": "stdout",
     "output_type": "stream",
     "text": [
      "12\n",
      "24\n"
     ]
    }
   ],
   "source": [
    "print(arr1.nbytes)\n",
    "print(arr2.nbytes)"
   ]
  },
  {
   "cell_type": "markdown",
   "id": "e39ec42c-9a43-4738-9fc4-97bb56b4ebc9",
   "metadata": {},
   "source": [
    "### 4. String Data Type in NumPy"
   ]
  },
  {
   "cell_type": "markdown",
   "id": "05808cdf-de63-4cd4-a963-d19523296caa",
   "metadata": {},
   "source": [
    "- Although NumPy arrays typically store numerical data, you can also store strings by using the dtype='str' or dtype='U' (Unicode string) format. However, working with strings in NumPy is less efficient than using lists or Python's built-in string types."
   ]
  },
  {
   "cell_type": "code",
   "execution_count": 16,
   "id": "57009aeb-a940-4ed3-ad3c-152e42f393c7",
   "metadata": {},
   "outputs": [],
   "source": [
    "arr = np.array(['apple', 'banana', 'cherry'], dtype='U10')"
   ]
  },
  {
   "cell_type": "code",
   "execution_count": 17,
   "id": "235c52ac-75ca-46bd-83b4-b3a6b72f003c",
   "metadata": {},
   "outputs": [
    {
     "name": "stdout",
     "output_type": "stream",
     "text": [
      "['apple' 'banana' 'cherry']\n"
     ]
    }
   ],
   "source": [
    "print(arr)"
   ]
  },
  {
   "cell_type": "markdown",
   "id": "7efefa32-5c43-4cae-a364-9e2927011669",
   "metadata": {},
   "source": [
    "### 5. Complex Numbers"
   ]
  },
  {
   "cell_type": "markdown",
   "id": "fc6fe460-8902-4f31-afb7-c90f3247ed0d",
   "metadata": {},
   "source": [
    "- NumPy also supports complex numbers, which consist of a real and imaginary part. You can store complex numbers using complex64 or complex128 data types."
   ]
  },
  {
   "cell_type": "code",
   "execution_count": 18,
   "id": "22e43624-e1aa-4370-be4c-3f4e4a0d58c0",
   "metadata": {},
   "outputs": [],
   "source": [
    "arr = np.array([1 + 2j, 3 + 4j, 5 + 6j], dtype='complex128')"
   ]
  },
  {
   "cell_type": "code",
   "execution_count": 19,
   "id": "1826e078-e197-4f5b-9298-5eb3a54be549",
   "metadata": {},
   "outputs": [
    {
     "name": "stdout",
     "output_type": "stream",
     "text": [
      "[1.+2.j 3.+4.j 5.+6.j]\n"
     ]
    }
   ],
   "source": [
    "print(arr)"
   ]
  },
  {
   "cell_type": "markdown",
   "id": "48b6b4ec-a055-4f7b-9ccb-d78f00b102fc",
   "metadata": {},
   "source": [
    "### 6. Object Data Type"
   ]
  },
  {
   "cell_type": "markdown",
   "id": "d9d7206c-c26b-437e-b69c-aa1b24844fbd",
   "metadata": {},
   "source": [
    "- If you need to store mixed or complex data types (e.g., Python objects), you can use dtype='object'. However, this type sacrifices performance, so it should only be used when absolutely necessary."
   ]
  },
  {
   "cell_type": "code",
   "execution_count": 20,
   "id": "b9949114-b724-40b0-8d21-e92a870ff259",
   "metadata": {},
   "outputs": [
    {
     "name": "stdout",
     "output_type": "stream",
     "text": [
      "[{'a': 1} list([1, 2, 3]) 'hello']\n"
     ]
    }
   ],
   "source": [
    "arr = np.array([{'a':1}, [1, 2, 3], 'hello'], dtype='object')\n",
    "print(arr)"
   ]
  },
  {
   "cell_type": "markdown",
   "id": "2dccab45-a6d2-422b-97e2-c8424466c176",
   "metadata": {},
   "source": [
    "### 7. Choosing the Right Data Type\n",
    "- Choosing the correct data type is essential for:\n",
    "\n",
    "    - Optimizing memory: Using the smallest data type that fits your data.\n",
    "    - Improving performance: Smaller types generally lead to faster operations.\n",
    "    - Ensuring precision: Avoid truncating or losing important decimal places or values."
   ]
  },
  {
   "cell_type": "markdown",
   "id": "a644dabc-673f-4f3a-b069-660f58029397",
   "metadata": {},
   "source": [
    "### Summary:\n",
    "    - NumPy arrays are homogeneous, meaning all elements must be of the same type.\n",
    "    - Use .astype() to change data types and optimize memory and performance.\n",
    "    - The choice of data type affects memory usage, performance, and precision.\n",
    "    - Be mindful of complex numbers and object data types, which can increase memory usage and reduce performance."
   ]
  }
 ],
 "metadata": {
  "kernelspec": {
   "display_name": "Python 3 (ipykernel)",
   "language": "python",
   "name": "python3"
  },
  "language_info": {
   "codemirror_mode": {
    "name": "ipython",
    "version": 3
   },
   "file_extension": ".py",
   "mimetype": "text/x-python",
   "name": "python",
   "nbconvert_exporter": "python",
   "pygments_lexer": "ipython3",
   "version": "3.13.5"
  }
 },
 "nbformat": 4,
 "nbformat_minor": 5
}
