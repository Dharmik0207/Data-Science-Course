{
 "cells": [
  {
   "cell_type": "markdown",
   "id": "7f535cea-3a66-4976-8854-c8380a708dbb",
   "metadata": {},
   "source": [
    "# List Comprehensions in Python\n",
    "\n",
    "List comprehension is a **concise** and **efficient** way to create lists in Python. It allows you to generate lists in a **single line of code**, making your code more readable and Pythonic.\n",
    "\n",
    "---\n",
    "\n",
    "## 1. Basic Syntax\n",
    "\n",
    "```python\n",
    "[expression for item in iterable]\n",
    "```\n",
    "\n",
    "- `expression` → The operation to perform on each item  \n",
    "- `item` → The variable representing each element in the iterable  \n",
    "- `iterable` → The data structure being iterated over (list, range, etc.)\n"
   ]
  },
  {
   "cell_type": "markdown",
   "id": "00ded087-2e90-47cc-b7c2-12db11c74582",
   "metadata": {},
   "source": [
    "### **Example: Creating a list of squares**\n",
    "```python\n",
    "squares = [x**2 for x in range(5)]\n",
    "print(squares)  # Output: [0, 1, 4, 9, 16]\n",
    "```\n",
    "\n",
    "---"
   ]
  },
  {
   "cell_type": "code",
   "execution_count": 1,
   "id": "c9e67716-1415-4998-87b3-9a5d977bacc9",
   "metadata": {},
   "outputs": [],
   "source": [
    "table = []"
   ]
  },
  {
   "cell_type": "code",
   "execution_count": 9,
   "id": "42b6486c-822b-46be-9837-c1a31b8a13f1",
   "metadata": {},
   "outputs": [
    {
     "name": "stdout",
     "output_type": "stream",
     "text": [
      "2 X 1 = 2\n",
      "2 X 2 = 4\n",
      "2 X 3 = 6\n",
      "2 X 4 = 8\n",
      "2 X 5 = 10\n",
      "2 X 6 = 12\n",
      "2 X 7 = 14\n",
      "2 X 8 = 16\n",
      "2 X 9 = 18\n",
      "2 X 10 = 20\n"
     ]
    }
   ],
   "source": [
    "for i in range(1, 11):\n",
    "    print(f\"2 X {i} = {2*i}\")\n",
    "    table.append(2*i)"
   ]
  },
  {
   "cell_type": "code",
   "execution_count": 11,
   "id": "d61bd02b-3460-4870-960b-d942f7a22e1c",
   "metadata": {},
   "outputs": [],
   "source": [
    "t = [2*i for i in range(1,11)]"
   ]
  },
  {
   "cell_type": "code",
   "execution_count": 12,
   "id": "f40ea990-5b48-4778-95dc-b85df492c4e0",
   "metadata": {},
   "outputs": [
    {
     "data": {
      "text/plain": [
       "[2, 4, 6, 8, 10, 12, 14, 16, 18, 20]"
      ]
     },
     "execution_count": 12,
     "metadata": {},
     "output_type": "execute_result"
    }
   ],
   "source": [
    "t"
   ]
  },
  {
   "cell_type": "markdown",
   "id": "e4578238-b0ba-4dd5-a63a-5dfc26b78680",
   "metadata": {},
   "source": [
    "#### When i's values are Even."
   ]
  },
  {
   "cell_type": "code",
   "execution_count": 13,
   "id": "d9c40614-b359-4cf0-9a14-53adba4aae82",
   "metadata": {},
   "outputs": [],
   "source": [
    "t = [2*i for i in range(1,11) if i%2==0]"
   ]
  },
  {
   "cell_type": "code",
   "execution_count": 14,
   "id": "cd9b0891-271d-409b-a156-5c91e635c23c",
   "metadata": {},
   "outputs": [
    {
     "data": {
      "text/plain": [
       "[4, 8, 12, 16, 20]"
      ]
     },
     "execution_count": 14,
     "metadata": {},
     "output_type": "execute_result"
    }
   ],
   "source": [
    "t"
   ]
  },
  {
   "cell_type": "markdown",
   "id": "fdacfe8f-f23d-4584-82d6-cc4e28087e9b",
   "metadata": {},
   "source": [
    "### Practice :"
   ]
  },
  {
   "cell_type": "code",
   "execution_count": 15,
   "id": "ed5e1fc7-6ee2-4446-a6da-32964d2c31fd",
   "metadata": {},
   "outputs": [
    {
     "name": "stdout",
     "output_type": "stream",
     "text": [
      "[0, 1, 4, 9, 16]\n"
     ]
    }
   ],
   "source": [
    "squares = [x**2 for x in range(5)]\n",
    "print(squares)"
   ]
  },
  {
   "cell_type": "markdown",
   "id": "c72ddf1c-eb0d-456d-9a5f-e73b4610ae96",
   "metadata": {},
   "source": [
    "## 2. Using **if Condition** in List Comprehension\n",
    "\n",
    "### **Example: Filtering even numbers**"
   ]
  },
  {
   "cell_type": "code",
   "execution_count": 16,
   "id": "3bdf924d-c837-4ff5-94ba-1b9087cfdfce",
   "metadata": {},
   "outputs": [
    {
     "name": "stdout",
     "output_type": "stream",
     "text": [
      "[0, 2, 4, 6, 8]\n"
     ]
    }
   ],
   "source": [
    "evens = [x for x in range(10) if x % 2 == 0]\n",
    "print(evens)"
   ]
  },
  {
   "cell_type": "markdown",
   "id": "46af5ce5-1943-4556-aebf-deb3b8f29594",
   "metadata": {},
   "source": [
    "---\n",
    "\n",
    "## 3. Using **if-else Condition** in List Comprehension\n",
    "\n",
    "### **Ex: Replacing even numbers with \"Even\" and odd numbers with \"Odd\"**"
   ]
  },
  {
   "cell_type": "code",
   "execution_count": 17,
   "id": "86557b72-2905-4611-b075-8a53157c4693",
   "metadata": {},
   "outputs": [
    {
     "name": "stdout",
     "output_type": "stream",
     "text": [
      "['Even', 'odd', 'Even', 'odd', 'Even']\n"
     ]
    }
   ],
   "source": [
    "numbers = [\"Even\" if x%2 == 0 else \"odd\" for x in range(5)]\n",
    "print(numbers)"
   ]
  },
  {
   "cell_type": "code",
   "execution_count": 18,
   "id": "ca92d286-e20e-4397-bd50-a97f89ac5a37",
   "metadata": {},
   "outputs": [],
   "source": [
    "numbers = [\"Even\" if x%2==0 else \"odd\" for x in range(5)]"
   ]
  },
  {
   "cell_type": "code",
   "execution_count": 19,
   "id": "c5d45797-dcad-462d-a4d4-79bd0b959e8c",
   "metadata": {},
   "outputs": [
    {
     "name": "stdout",
     "output_type": "stream",
     "text": [
      "['Even', 'odd', 'Even', 'odd', 'Even']\n"
     ]
    }
   ],
   "source": [
    "print(numbers)"
   ]
  },
  {
   "cell_type": "markdown",
   "id": "8caced35-bd8e-45a6-ae47-0767998abb9f",
   "metadata": {},
   "source": [
    "---\n",
    "\n",
    "## 4. Nested Loops in List Comprehension\n",
    "\n",
    "### **Example: Creating pairs from two lists**"
   ]
  },
  {
   "cell_type": "code",
   "execution_count": 20,
   "id": "3acdf69d-fe06-407d-9283-d245f55ac35d",
   "metadata": {},
   "outputs": [],
   "source": [
    "pairs = [(x,y) for x in range(2) for y in range(3)]"
   ]
  },
  {
   "cell_type": "code",
   "execution_count": 21,
   "id": "57d6e93b-3cce-4bdf-b6a7-716c338a4065",
   "metadata": {},
   "outputs": [
    {
     "name": "stdout",
     "output_type": "stream",
     "text": [
      "[(0, 0), (0, 1), (0, 2), (1, 0), (1, 1), (1, 2)]\n"
     ]
    }
   ],
   "source": [
    "print(pairs)"
   ]
  },
  {
   "cell_type": "code",
   "execution_count": 22,
   "id": "8129e502-15c6-452b-b859-b578157811a8",
   "metadata": {},
   "outputs": [
    {
     "name": "stdout",
     "output_type": "stream",
     "text": [
      "[(0, 0), (0, 1), (0, 2), (0, 3), (0, 4), (0, 5), (1, 0), (1, 1), (1, 2), (1, 3), (1, 4), (1, 5), (2, 0), (2, 1), (2, 2), (2, 3), (2, 4), (2, 5), (3, 0), (3, 1), (3, 2), (3, 3), (3, 4), (3, 5)]\n"
     ]
    }
   ],
   "source": [
    "pairs = [(x,y) for x in range(4) for y in range(6)]\n",
    "print(pairs)"
   ]
  },
  {
   "cell_type": "markdown",
   "id": "57fa0197-c794-48d0-81b6-c4c75977a45c",
   "metadata": {},
   "source": [
    "---\n",
    "\n",
    "## 5. List Comprehension with Functions\n",
    "\n",
    "### **Example: Converting a list of strings to uppercase**"
   ]
  },
  {
   "cell_type": "code",
   "execution_count": 23,
   "id": "fc5df5e8-9d73-4df9-aa5b-511f1610d7bb",
   "metadata": {},
   "outputs": [
    {
     "name": "stdout",
     "output_type": "stream",
     "text": [
      "['HELLO', 'WORLD', 'PYTHON']\n"
     ]
    }
   ],
   "source": [
    "words = [\"hello\", \"world\", \"Python\"]\n",
    "upper_words = [word.upper() for word in words]\n",
    "print(upper_words)"
   ]
  },
  {
   "cell_type": "code",
   "execution_count": 24,
   "id": "f961afb5-7bf7-4d0f-9850-2f9b609b665e",
   "metadata": {},
   "outputs": [
    {
     "name": "stdout",
     "output_type": "stream",
     "text": [
      "['MY NAME IS', 'DHARMIK MUKESHBHAI', 'GADHIYA']\n"
     ]
    }
   ],
   "source": [
    "words = [\"my name is\", \"Dharmik Mukeshbhai\", \"Gadhiya\"]\n",
    "upper_words = [word.upper() for word in words]\n",
    "print(upper_words)"
   ]
  },
  {
   "cell_type": "markdown",
   "id": "577d6f78-13ed-4680-ad32-6aec18a1a7ee",
   "metadata": {},
   "source": [
    "---\n",
    "\n",
    "## 6. List Comprehension with **Nested List Comprehension**\n",
    "\n",
    "### **Example: Flattening a 2D list**   ---"
   ]
  },
  {
   "cell_type": "code",
   "execution_count": 25,
   "id": "0ce7c60b-c55e-4d24-abad-b1e2cec76123",
   "metadata": {},
   "outputs": [
    {
     "name": "stdout",
     "output_type": "stream",
     "text": [
      "[1, 2, 3, 4, 5, 6]\n"
     ]
    }
   ],
   "source": [
    "matrix = [[1,2],[3,4],[5,6]]\n",
    "flattend = [num for row in matrix for num in row]\n",
    "print(flattend)"
   ]
  },
  {
   "cell_type": "markdown",
   "id": "d4ebc447-32bd-4d01-aa60-40dcfc515351",
   "metadata": {},
   "source": [
    "---\n",
    "\n",
    "## 7. List Comprehension with **Set and Dictionary Comprehensions**\n",
    "\n",
    "### **Set Comprehension**"
   ]
  },
  {
   "cell_type": "code",
   "execution_count": 27,
   "id": "1e972a9f-a8ae-42a5-bbc0-779395b9e693",
   "metadata": {},
   "outputs": [
    {
     "name": "stdout",
     "output_type": "stream",
     "text": [
      "{1, 2, 3, 4}\n"
     ]
    }
   ],
   "source": [
    "unique_numbers = {x for x in [1, 2, 2, 3, 4, 4]}   # in set number can't be repeat.\n",
    "print(unique_numbers)"
   ]
  },
  {
   "cell_type": "markdown",
   "id": "503626a4-7397-41c7-bda2-fd2b059524a5",
   "metadata": {},
   "source": [
    "### **Dictionary Comprehension**"
   ]
  },
  {
   "cell_type": "code",
   "execution_count": 28,
   "id": "99678750-08dd-4341-b8de-5588ca923226",
   "metadata": {},
   "outputs": [
    {
     "name": "stdout",
     "output_type": "stream",
     "text": [
      "{0: 0, 1: 1, 2: 4, 3: 9, 4: 16}\n"
     ]
    }
   ],
   "source": [
    "squared_dict = {x: x**2 for x in range(5)}\n",
    "print(squared_dict)"
   ]
  },
  {
   "cell_type": "markdown",
   "id": "95aa16aa-ea09-41c0-a092-4cfc48542d7b",
   "metadata": {},
   "source": [
    "---\n",
    "\n",
    "## 8. When to Use List Comprehensions?\n",
    "\n",
    "- You need to create a list in a **single line**  \n",
    "- The logic is **simple and readable**  \n",
    "- You want to improve **performance** (faster than loops)  \n",
    "\n",
    "Avoid when:\n",
    "- The logic is **too complex** (use a standard loop instead for clarity)  \n",
    "\n",
    "---"
   ]
  },
  {
   "cell_type": "markdown",
   "id": "88a44e57-8bea-482e-a8d9-7d206ee720a7",
   "metadata": {},
   "source": [
    "## 9. Performance Comparison: **List Comprehension vs. Loop**\n",
    "```python\n",
    "import time\n",
    "\n",
    "# Using a for loop\n",
    "start = time.time()\n",
    "squares_loop = []\n",
    "for x in range(10**6):\n",
    "    squares_loop.append(x**2)\n",
    "print(\"Loop time:\", time.time() - start)\n",
    "\n",
    "# Using list comprehension\n",
    "start = time.time()\n",
    "squares_comp = [x**2 for x in range(10**6)]\n",
    "print(\"List Comprehension time:\", time.time() - start)\n",
    "```\n",
    "**List comprehensions are generally faster than loops** because they are optimized internally by Python.\n",
    "\n",
    "---"
   ]
  },
  {
   "cell_type": "markdown",
   "id": "4b7273c0-d41f-4173-8b29-fca2c7915458",
   "metadata": {},
   "source": [
    "## Summary\n",
    "\n",
    "| Concept | Example |\n",
    "|---------|---------|\n",
    "| **Basic List Comprehension** | `[x**2 for x in range(5)]` |\n",
    "| **With Condition (`if`)** | `[x for x in range(10) if x % 2 == 0]` |\n",
    "| **With `if-else`** | `[\"Even\" if x % 2 == 0 else \"Odd\" for x in range(5)]` |\n",
    "| **Nested Loop** | `[(x, y) for x in range(2) for y in range(3)]` |\n",
    "| **Flatten 2D List** | `[num for row in matrix for num in row]` |\n",
    "| **Set Comprehension** | `{x for x in [1, 2, 2, 3]}` |\n",
    "| **Dictionary Comprehension** | `{x: x**2 for x in range(5)}` |"
   ]
  },
  {
   "cell_type": "code",
   "execution_count": null,
   "id": "ef39d05b-2f8f-4eab-b0c5-d2cdf0673aa9",
   "metadata": {},
   "outputs": [],
   "source": []
  }
 ],
 "metadata": {
  "kernelspec": {
   "display_name": "Python 3 (ipykernel)",
   "language": "python",
   "name": "python3"
  },
  "language_info": {
   "codemirror_mode": {
    "name": "ipython",
    "version": 3
   },
   "file_extension": ".py",
   "mimetype": "text/x-python",
   "name": "python",
   "nbconvert_exporter": "python",
   "pygments_lexer": "ipython3",
   "version": "3.13.5"
  }
 },
 "nbformat": 4,
 "nbformat_minor": 5
}
