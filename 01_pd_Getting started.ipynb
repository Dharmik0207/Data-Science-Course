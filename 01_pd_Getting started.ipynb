{
 "cells": [
  {
   "cell_type": "code",
   "execution_count": 1,
   "id": "700c3b95-d856-451e-a62a-ba2b668c1ca5",
   "metadata": {},
   "outputs": [],
   "source": [
    "import pandas as pd"
   ]
  },
  {
   "cell_type": "markdown",
   "id": "03b9409e-d52d-4ed5-98b9-9316733e4a6e",
   "metadata": {},
   "source": [
    "## Getting Started with Pandas\n",
    "What is Pandas?\n",
    "- Pandas is a powerful, open-source Python library used for data manipulation, cleaning, and analysis. It     provides two main data structures:\n",
    "\n",
    "    - Series: A one-dimensional labeled array\n",
    "    - DataFrame: A two-dimensional labeled table (like an Excel sheet or SQL table)\n",
    "Pandas makes working with structured data fast, expressive, and flexible.\n",
    "\n",
    "    - If you're working with tables, spreadsheets, or CSVs in Python, Pandas is your best friend."
   ]
  },
  {
   "cell_type": "markdown",
   "id": "2832e99d-1162-426d-8f8c-20cb18b934fd",
   "metadata": {},
   "source": [
    "### Summary\n",
    "- Use Pandas when working with structured data.\n",
    "- It's the Swiss Army knife of data science."
   ]
  },
  {
   "cell_type": "code",
   "execution_count": null,
   "id": "6d6cbac8-09e5-43da-a998-27f696fa05ca",
   "metadata": {},
   "outputs": [],
   "source": []
  }
 ],
 "metadata": {
  "kernelspec": {
   "display_name": "Python 3 (ipykernel)",
   "language": "python",
   "name": "python3"
  },
  "language_info": {
   "codemirror_mode": {
    "name": "ipython",
    "version": 3
   },
   "file_extension": ".py",
   "mimetype": "text/x-python",
   "name": "python",
   "nbconvert_exporter": "python",
   "pygments_lexer": "ipython3",
   "version": "3.13.5"
  }
 },
 "nbformat": 4,
 "nbformat_minor": 5
}
