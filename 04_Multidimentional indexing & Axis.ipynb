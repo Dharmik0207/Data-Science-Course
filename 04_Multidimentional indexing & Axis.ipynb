{
 "cells": [
  {
   "cell_type": "code",
   "execution_count": 2,
   "id": "000a83f8-39d1-4402-9b15-71f069ffe76a",
   "metadata": {},
   "outputs": [
    {
     "data": {
      "text/plain": [
       "array([[1, 2, 3],\n",
       "       [4, 5, 6],\n",
       "       [7, 8, 9]])"
      ]
     },
     "execution_count": 2,
     "metadata": {},
     "output_type": "execute_result"
    }
   ],
   "source": [
    "import numpy as np\n",
    "arr = np.array([[1, 2, 3], [4, 5, 6], [7, 8, 9]])\n",
    "arr"
   ]
  },
  {
   "cell_type": "code",
   "execution_count": 4,
   "id": "b0b02ac1-5c4c-4daa-b929-0d8f08d80b9a",
   "metadata": {},
   "outputs": [
    {
     "data": {
      "text/plain": [
       "array([1, 2, 3])"
      ]
     },
     "execution_count": 4,
     "metadata": {},
     "output_type": "execute_result"
    }
   ],
   "source": [
    "arr[0]"
   ]
  },
  {
   "cell_type": "markdown",
   "id": "5873d4f2-0743-4b7a-b9e8-d76cee46ebec",
   "metadata": {},
   "source": [
    "### 1. Understanding Axes in NumPy"
   ]
  },
  {
   "cell_type": "code",
   "execution_count": 10,
   "id": "2571c4be-3070-4cd6-a417-96044f981f30",
   "metadata": {},
   "outputs": [
    {
     "data": {
      "text/plain": [
       "array([12, 15, 18])"
      ]
     },
     "execution_count": 10,
     "metadata": {},
     "output_type": "execute_result"
    }
   ],
   "source": [
    "np.sum(arr, axis=0) # Sum of rows (down each column) "
   ]
  },
  {
   "cell_type": "code",
   "execution_count": 11,
   "id": "1d2e8f55-f2b9-4472-98df-d63d76f40f8d",
   "metadata": {},
   "outputs": [
    {
     "data": {
      "text/plain": [
       "array([ 6, 15, 24])"
      ]
     },
     "execution_count": 11,
     "metadata": {},
     "output_type": "execute_result"
    }
   ],
   "source": [
    "np.sum(arr, axis=1) # Sum of Columns (across each row)"
   ]
  },
  {
   "cell_type": "markdown",
   "id": "4ebcb2ad-7f0a-45d0-bcc2-94dbca6b720f",
   "metadata": {},
   "source": [
    "### 2. Indexing in Multidimensional Arrays"
   ]
  },
  {
   "cell_type": "code",
   "execution_count": 15,
   "id": "94e119dd-a5ca-4ada-ab21-36b05f5d1ff4",
   "metadata": {},
   "outputs": [
    {
     "data": {
      "text/plain": [
       "np.int64(2)"
      ]
     },
     "execution_count": 15,
     "metadata": {},
     "output_type": "execute_result"
    }
   ],
   "source": [
    "arr[0][1]  # Row index 0, Column index 1 --> output : 2"
   ]
  },
  {
   "cell_type": "code",
   "execution_count": 17,
   "id": "4a0cb5ce-13c0-418b-ad56-1435430cea5e",
   "metadata": {},
   "outputs": [
    {
     "data": {
      "text/plain": [
       "np.int64(2)"
      ]
     },
     "execution_count": 17,
     "metadata": {},
     "output_type": "execute_result"
    }
   ],
   "source": [
    "arr[0, 1]  # Row index 0, Column index 1 --> output : 2"
   ]
  },
  {
   "cell_type": "code",
   "execution_count": 18,
   "id": "bd2fcdd0-55e1-448a-acfc-a701a2148cc5",
   "metadata": {},
   "outputs": [
    {
     "data": {
      "text/plain": [
       "array([[2, 3],\n",
       "       [5, 6]])"
      ]
     },
     "execution_count": 18,
     "metadata": {},
     "output_type": "execute_result"
    }
   ],
   "source": [
    "arr[0:2, 1:3] # Extracts first 2 rows and last 2 columns"
   ]
  },
  {
   "cell_type": "markdown",
   "id": "e813f22e-a704-491a-9f0f-5e52ba2ae5a7",
   "metadata": {},
   "source": [
    "### 3. Indexing in 3D Arrays"
   ]
  },
  {
   "cell_type": "code",
   "execution_count": 19,
   "id": "937117b2-44c0-4cf4-89da-dcc4cbaf01a9",
   "metadata": {},
   "outputs": [],
   "source": [
    "arr3D = np.array([[[1, 2, 3], [4, 5, 6]],[[7, 8, 9], [10, 11, 12]]])"
   ]
  },
  {
   "cell_type": "code",
   "execution_count": 30,
   "id": "400157ef-38c3-415d-b1e3-4117a7e3da5c",
   "metadata": {},
   "outputs": [
    {
     "name": "stdout",
     "output_type": "stream",
     "text": [
      "[[[ 1  2  3]\n",
      "  [ 4  5  6]]\n",
      "\n",
      " [[ 7  8  9]\n",
      "  [10 11 12]]]\n"
     ]
    }
   ],
   "source": [
    "print(arr3D)"
   ]
  },
  {
   "cell_type": "code",
   "execution_count": 24,
   "id": "be4804f3-c985-4d08-ac2c-7a7740074a6d",
   "metadata": {},
   "outputs": [
    {
     "name": "stdout",
     "output_type": "stream",
     "text": [
      "(2, 2, 3)\n"
     ]
    }
   ],
   "source": [
    "print(arr3D.shape)"
   ]
  },
  {
   "cell_type": "code",
   "execution_count": 25,
   "id": "b85e3db6-9653-4b65-9ee0-52c8fd60a7b6",
   "metadata": {},
   "outputs": [
    {
     "name": "stdout",
     "output_type": "stream",
     "text": [
      "6\n"
     ]
    }
   ],
   "source": [
    "print(arr3D[0, 1, 2]) # First sheet, second row, third column"
   ]
  },
  {
   "cell_type": "markdown",
   "id": "2302a8ee-5275-4f9a-b3f5-13d753da36be",
   "metadata": {},
   "source": [
    "### 4. Practical Example: Selecting Data Along Axes"
   ]
  },
  {
   "cell_type": "code",
   "execution_count": 26,
   "id": "a39ecda6-e687-4711-b1ba-4e78ea773f32",
   "metadata": {},
   "outputs": [
    {
     "name": "stdout",
     "output_type": "stream",
     "text": [
      "[[1 2 3]\n",
      " [7 8 9]]\n"
     ]
    }
   ],
   "source": [
    "print(arr3D[:, 0, :])"
   ]
  },
  {
   "cell_type": "code",
   "execution_count": 27,
   "id": "ec95c202-9e8e-4662-a510-8366162943ed",
   "metadata": {},
   "outputs": [
    {
     "name": "stdout",
     "output_type": "stream",
     "text": [
      "[[1 2 3]\n",
      " [7 8 9]]\n"
     ]
    }
   ],
   "source": [
    "# Get all rows of the first column\n",
    "first_col = arr3D[:, 0]\n",
    "print(first_col)"
   ]
  },
  {
   "cell_type": "code",
   "execution_count": 28,
   "id": "170ca867-7d8f-4137-85d1-d62f680c8574",
   "metadata": {},
   "outputs": [
    {
     "name": "stdout",
     "output_type": "stream",
     "text": [
      "[[1 2 3]\n",
      " [7 8 9]]\n"
     ]
    }
   ],
   "source": [
    "# Get the first row from each \"sheet\" in a 3D array.\n",
    "first_row = arr3D[:, 0, :]\n",
    "print(first_row)"
   ]
  },
  {
   "cell_type": "code",
   "execution_count": 29,
   "id": "af4f961c-37c6-44f4-b14e-e0d1535c00a4",
   "metadata": {},
   "outputs": [
    {
     "name": "stdout",
     "output_type": "stream",
     "text": [
      "[[ 2  5]\n",
      " [ 8 11]]\n"
     ]
    }
   ],
   "source": [
    "# Get the first column from each \"sheet\" in a 3D array.\n",
    "first_col = arr3D[:, :, 1]\n",
    "print(first_col)"
   ]
  },
  {
   "cell_type": "markdown",
   "id": "a97e3ca9-5da1-425b-a5d4-57adb194142b",
   "metadata": {},
   "source": [
    "### 5. Changing Data Along an Axis"
   ]
  },
  {
   "cell_type": "code",
   "execution_count": 35,
   "id": "8b68ae77-8dd6-4559-a7ea-29c09d3aaa51",
   "metadata": {},
   "outputs": [],
   "source": [
    "arr3D[:, 0, :] = 0"
   ]
  },
  {
   "cell_type": "code",
   "execution_count": 36,
   "id": "0451b4b1-3912-4fb6-ae2b-7aa75e508f74",
   "metadata": {},
   "outputs": [
    {
     "data": {
      "text/plain": [
       "array([[[ 0,  0,  0],\n",
       "        [ 4,  5,  6]],\n",
       "\n",
       "       [[ 0,  0,  0],\n",
       "        [10, 11, 12]]])"
      ]
     },
     "execution_count": 36,
     "metadata": {},
     "output_type": "execute_result"
    }
   ],
   "source": [
    "arr3D"
   ]
  },
  {
   "cell_type": "code",
   "execution_count": null,
   "id": "00a0a2ea-5f15-4f2b-b63f-7eed378c82e6",
   "metadata": {},
   "outputs": [],
   "source": []
  },
  {
   "cell_type": "code",
   "execution_count": null,
   "id": "8a763405-cbc7-42d3-931f-8180ce182e1b",
   "metadata": {},
   "outputs": [],
   "source": []
  }
 ],
 "metadata": {
  "kernelspec": {
   "display_name": "Python 3 (ipykernel)",
   "language": "python",
   "name": "python3"
  },
  "language_info": {
   "codemirror_mode": {
    "name": "ipython",
    "version": 3
   },
   "file_extension": ".py",
   "mimetype": "text/x-python",
   "name": "python",
   "nbconvert_exporter": "python",
   "pygments_lexer": "ipython3",
   "version": "3.13.5"
  }
 },
 "nbformat": 4,
 "nbformat_minor": 5
}
