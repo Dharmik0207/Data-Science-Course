{
 "cells": [
  {
   "cell_type": "code",
   "execution_count": 1,
   "id": "87a19835-4b6f-4b8c-9145-c81887fdf5c1",
   "metadata": {},
   "outputs": [],
   "source": [
    "import numpy as np\n",
    "arr = np.array([[1, 2, 3], [4, 5, 6], [7, 8, 9], [10, 11, 12]])"
   ]
  },
  {
   "cell_type": "code",
   "execution_count": 2,
   "id": "0a7810e4-41f8-4384-8804-603ae6c633e6",
   "metadata": {},
   "outputs": [
    {
     "data": {
      "text/plain": [
       "array([[ 1,  2,  3],\n",
       "       [ 4,  5,  6],\n",
       "       [ 7,  8,  9],\n",
       "       [10, 11, 12]])"
      ]
     },
     "execution_count": 2,
     "metadata": {},
     "output_type": "execute_result"
    }
   ],
   "source": [
    "arr"
   ]
  },
  {
   "cell_type": "code",
   "execution_count": 3,
   "id": "0ea63057-23c8-4d0c-8c39-bef910326c7e",
   "metadata": {},
   "outputs": [],
   "source": [
    "flat = arr.flatten()"
   ]
  },
  {
   "cell_type": "code",
   "execution_count": 4,
   "id": "e899308d-ac39-4768-b836-3ec27c5fb278",
   "metadata": {},
   "outputs": [
    {
     "data": {
      "text/plain": [
       "array([ 1,  2,  3,  4,  5,  6,  7,  8,  9, 10, 11, 12])"
      ]
     },
     "execution_count": 4,
     "metadata": {},
     "output_type": "execute_result"
    }
   ],
   "source": [
    "flat"
   ]
  },
  {
   "cell_type": "code",
   "execution_count": 5,
   "id": "16accd02-db8b-40da-aef1-66292be07755",
   "metadata": {},
   "outputs": [
    {
     "data": {
      "text/plain": [
       "np.int64(1)"
      ]
     },
     "execution_count": 5,
     "metadata": {},
     "output_type": "execute_result"
    }
   ],
   "source": [
    "flat[0]"
   ]
  },
  {
   "cell_type": "code",
   "execution_count": 6,
   "id": "99fbc92a-8cd1-46f4-8426-d1a77af546a9",
   "metadata": {},
   "outputs": [
    {
     "data": {
      "text/plain": [
       "np.int64(4)"
      ]
     },
     "execution_count": 6,
     "metadata": {},
     "output_type": "execute_result"
    }
   ],
   "source": [
    "flat[3]"
   ]
  },
  {
   "cell_type": "code",
   "execution_count": 7,
   "id": "470c25b9-c977-4c84-83aa-3067d25941f2",
   "metadata": {},
   "outputs": [
    {
     "data": {
      "text/plain": [
       "array([4, 5, 6])"
      ]
     },
     "execution_count": 7,
     "metadata": {},
     "output_type": "execute_result"
    }
   ],
   "source": [
    "flat[3: 6]"
   ]
  },
  {
   "cell_type": "code",
   "execution_count": 8,
   "id": "daf57035-f69b-4d4a-85ff-275a4e2defcd",
   "metadata": {},
   "outputs": [
    {
     "data": {
      "text/plain": [
       "array([1, 2, 3, 4, 5])"
      ]
     },
     "execution_count": 8,
     "metadata": {},
     "output_type": "execute_result"
    }
   ],
   "source": [
    "flat[: 5] # same as flat[0:5]"
   ]
  },
  {
   "cell_type": "code",
   "execution_count": 18,
   "id": "d745d1dc-24d5-4df3-931e-0c384eec288f",
   "metadata": {},
   "outputs": [
    {
     "data": {
      "text/plain": [
       "array([ 4,  5,  6,  7,  8,  9, 10, 11, 12])"
      ]
     },
     "execution_count": 18,
     "metadata": {},
     "output_type": "execute_result"
    }
   ],
   "source": [
    "flat[3:] # same as flat[3:12]"
   ]
  },
  {
   "cell_type": "code",
   "execution_count": 19,
   "id": "ab5d7f55-0de8-4baa-934b-5ba5d14bc187",
   "metadata": {},
   "outputs": [
    {
     "data": {
      "text/plain": [
       "array([ 1,  3,  5,  7,  9, 11])"
      ]
     },
     "execution_count": 19,
     "metadata": {},
     "output_type": "execute_result"
    }
   ],
   "source": [
    "flat[::2]"
   ]
  },
  {
   "cell_type": "code",
   "execution_count": 20,
   "id": "0d123895-aec3-4448-9cc2-f7bb40e289ec",
   "metadata": {},
   "outputs": [],
   "source": [
    "b = flat[3: 7]"
   ]
  },
  {
   "cell_type": "code",
   "execution_count": 21,
   "id": "e8257cf3-f6af-46d7-a8ad-4c0a8b772231",
   "metadata": {},
   "outputs": [
    {
     "data": {
      "text/plain": [
       "array([4, 5, 6, 7])"
      ]
     },
     "execution_count": 21,
     "metadata": {},
     "output_type": "execute_result"
    }
   ],
   "source": [
    "b"
   ]
  },
  {
   "cell_type": "code",
   "execution_count": 22,
   "id": "da9dbbb2-921d-4fd5-8cdf-8d7df6c44ae4",
   "metadata": {},
   "outputs": [],
   "source": [
    "b[0] = 44444"
   ]
  },
  {
   "cell_type": "code",
   "execution_count": 23,
   "id": "99d006a4-3b10-456b-8ae0-a63da69ffefe",
   "metadata": {},
   "outputs": [
    {
     "data": {
      "text/plain": [
       "array([44444,     5,     6,     7])"
      ]
     },
     "execution_count": 23,
     "metadata": {},
     "output_type": "execute_result"
    }
   ],
   "source": [
    "b"
   ]
  },
  {
   "cell_type": "code",
   "execution_count": 24,
   "id": "85b6be9d-ee9a-486d-bbd8-22ec99edb506",
   "metadata": {},
   "outputs": [
    {
     "data": {
      "text/plain": [
       "array([    1,     2,     3, 44444,     5,     6,     7,     8,     9,\n",
       "          10,    11,    12])"
      ]
     },
     "execution_count": 24,
     "metadata": {},
     "output_type": "execute_result"
    }
   ],
   "source": [
    "flat"
   ]
  },
  {
   "cell_type": "code",
   "execution_count": 31,
   "id": "3d22164f-08ed-4f8a-8640-ba8f8ebfd029",
   "metadata": {},
   "outputs": [],
   "source": [
    "b = flat[3: 7].copy() # This is not a slice because we are using copy method."
   ]
  },
  {
   "cell_type": "code",
   "execution_count": 32,
   "id": "d6b6e57f-87d3-45c2-8999-14f181a3386f",
   "metadata": {},
   "outputs": [
    {
     "data": {
      "text/plain": [
       "array([44444,     5,     6,     7])"
      ]
     },
     "execution_count": 32,
     "metadata": {},
     "output_type": "execute_result"
    }
   ],
   "source": [
    "b"
   ]
  },
  {
   "cell_type": "code",
   "execution_count": 33,
   "id": "d83fa809-402f-41a3-b669-b4f707c76b70",
   "metadata": {},
   "outputs": [],
   "source": [
    "b[0] = 44444466"
   ]
  },
  {
   "cell_type": "code",
   "execution_count": 34,
   "id": "2b613394-2e16-4225-8f08-ec0bc2b46901",
   "metadata": {},
   "outputs": [
    {
     "data": {
      "text/plain": [
       "array([44444466,        5,        6,        7])"
      ]
     },
     "execution_count": 34,
     "metadata": {},
     "output_type": "execute_result"
    }
   ],
   "source": [
    "b"
   ]
  },
  {
   "cell_type": "code",
   "execution_count": 35,
   "id": "f922a50d-73a4-45b9-8e64-17acb947d330",
   "metadata": {},
   "outputs": [
    {
     "data": {
      "text/plain": [
       "array([    1,     2,     3, 44444,     5,     6,     7,     8,     9,\n",
       "          10,    11,    12])"
      ]
     },
     "execution_count": 35,
     "metadata": {},
     "output_type": "execute_result"
    }
   ],
   "source": [
    "flat"
   ]
  },
  {
   "cell_type": "markdown",
   "id": "2cd0392f-1fff-40f1-964a-b531a9e4acb4",
   "metadata": {},
   "source": [
    "#### 6. Fancy Indexing & Boolean Masking"
   ]
  },
  {
   "cell_type": "code",
   "execution_count": 38,
   "id": "2374fad9-72fc-4627-aa29-3c6993ff786b",
   "metadata": {},
   "outputs": [],
   "source": [
    "arr = np.array([1, 54, 23, 53, 2, 3, 34, 5, 6])"
   ]
  },
  {
   "cell_type": "code",
   "execution_count": 43,
   "id": "fd9bc2f0-e302-46f8-b164-0b27b4ce608e",
   "metadata": {},
   "outputs": [
    {
     "data": {
      "text/plain": [
       "array([54,  2, 34])"
      ]
     },
     "execution_count": 43,
     "metadata": {},
     "output_type": "execute_result"
    }
   ],
   "source": [
    "arr[[1, 4, 6]]  # Indices to select"
   ]
  },
  {
   "cell_type": "code",
   "execution_count": 44,
   "id": "8d94adb3-363a-4428-8fc6-d53ebb4698f9",
   "metadata": {},
   "outputs": [
    {
     "data": {
      "text/plain": [
       "array([54, 53, 34])"
      ]
     },
     "execution_count": 44,
     "metadata": {},
     "output_type": "execute_result"
    }
   ],
   "source": [
    "arr[arr>23]  # Condition : values greater than 25."
   ]
  },
  {
   "cell_type": "markdown",
   "id": "dfe1284f-a851-4a69-ad87-6c7c801b6066",
   "metadata": {},
   "source": [
    "## Practice\n",
    "- Exercises for Practice\n",
    "- Create a 3×3 array filled with random numbers and print its shape.\n",
    "- Convert an array of floats [1.1, 2.2, 3.3] into integers.\n",
    "- Use fancy indexing to extract even numbers from [1, 2, 3, 4, 5, 6].\n",
    "- Reshape a 1D array of size 9 into a 3×3 matrix.\n",
    "- Use boolean masking to filter numbers greater than 50 in an array."
   ]
  },
  {
   "cell_type": "code",
   "execution_count": 153,
   "id": "d4b7cff5-df1f-48a5-90b7-00bfa04184ea",
   "metadata": {},
   "outputs": [],
   "source": [
    "arr1 = [1, 2, 30]"
   ]
  },
  {
   "cell_type": "code",
   "execution_count": 154,
   "id": "5a679b90-0edd-41ca-b80e-cf1fe57ada68",
   "metadata": {},
   "outputs": [],
   "source": [
    "arr2 = [4, 55, 6]"
   ]
  },
  {
   "cell_type": "code",
   "execution_count": 155,
   "id": "ab29ec48-2312-4155-a325-b4dbbc5e492e",
   "metadata": {},
   "outputs": [],
   "source": [
    "arr3 = [71, 8, 9]"
   ]
  },
  {
   "cell_type": "code",
   "execution_count": 157,
   "id": "45df5740-9042-4b9c-8541-a8c2aa4cfdfe",
   "metadata": {},
   "outputs": [],
   "source": [
    "arr = np.array([[1, 2, 30], [4, 55, 6], [71, 8, 9]])"
   ]
  },
  {
   "cell_type": "code",
   "execution_count": 158,
   "id": "538197d0-f336-47ba-9aab-6bf3be107fa9",
   "metadata": {},
   "outputs": [
    {
     "data": {
      "text/plain": [
       "array([[ 1,  2, 30],\n",
       "       [ 4, 55,  6],\n",
       "       [71,  8,  9]])"
      ]
     },
     "execution_count": 158,
     "metadata": {},
     "output_type": "execute_result"
    }
   ],
   "source": [
    "arr"
   ]
  },
  {
   "cell_type": "code",
   "execution_count": 159,
   "id": "7d2c4ee9-6bbc-4527-960c-0c720ace68ba",
   "metadata": {},
   "outputs": [],
   "source": [
    "arr_float = np.array([[1, 2, 30], [4, 55, 6], [71, 8, 9]], dtype = 'float32')"
   ]
  },
  {
   "cell_type": "code",
   "execution_count": 168,
   "id": "5615dd25-0d02-49d1-8b2b-502464f5c079",
   "metadata": {},
   "outputs": [
    {
     "data": {
      "text/plain": [
       "array([[ 1.,  2., 30.],\n",
       "       [ 4., 55.,  6.],\n",
       "       [71.,  8.,  9.]], dtype=float32)"
      ]
     },
     "execution_count": 168,
     "metadata": {},
     "output_type": "execute_result"
    }
   ],
   "source": [
    "arr_float"
   ]
  },
  {
   "cell_type": "code",
   "execution_count": 170,
   "id": "a5329f30-5829-485f-9120-da8d2e0d8b03",
   "metadata": {},
   "outputs": [],
   "source": [
    "arr_int = np.array([[1, 2, 30], [4, 55, 6], [71, 8, 9]], dtype = 'int32')"
   ]
  },
  {
   "cell_type": "code",
   "execution_count": 171,
   "id": "cf3452a8-801c-4add-a41c-15065449a4e6",
   "metadata": {},
   "outputs": [
    {
     "data": {
      "text/plain": [
       "array([[ 1,  2, 30],\n",
       "       [ 4, 55,  6],\n",
       "       [71,  8,  9]], dtype=int32)"
      ]
     },
     "execution_count": 171,
     "metadata": {},
     "output_type": "execute_result"
    }
   ],
   "source": [
    "arr_int"
   ]
  },
  {
   "cell_type": "code",
   "execution_count": 172,
   "id": "8d984b4c-b71f-4280-83c7-ef5f0554d205",
   "metadata": {},
   "outputs": [
    {
     "data": {
      "text/plain": [
       "array([ 2, 30,  4,  6,  8], dtype=int32)"
      ]
     },
     "execution_count": 172,
     "metadata": {},
     "output_type": "execute_result"
    }
   ],
   "source": [
    "arr_int[arr_int % 2 == 0]"
   ]
  },
  {
   "cell_type": "code",
   "execution_count": 173,
   "id": "45ae6228-6bd0-4d70-8515-ad3d0b842c62",
   "metadata": {},
   "outputs": [
    {
     "data": {
      "text/plain": [
       "array([[ 1,  2, 30],\n",
       "       [ 4, 55,  6],\n",
       "       [71,  8,  9]], dtype=int32)"
      ]
     },
     "execution_count": 173,
     "metadata": {},
     "output_type": "execute_result"
    }
   ],
   "source": [
    "arr_int.reshape((3, 3))"
   ]
  },
  {
   "cell_type": "code",
   "execution_count": 174,
   "id": "e3d69e00-353d-444d-98c4-147b8a6301d4",
   "metadata": {},
   "outputs": [],
   "source": [
    "flat = arr_int.flatten()"
   ]
  },
  {
   "cell_type": "code",
   "execution_count": 175,
   "id": "812f5b15-8887-4ea1-914c-e4a7e810caf5",
   "metadata": {},
   "outputs": [
    {
     "data": {
      "text/plain": [
       "array([ 1,  2, 30,  4, 55,  6, 71,  8,  9], dtype=int32)"
      ]
     },
     "execution_count": 175,
     "metadata": {},
     "output_type": "execute_result"
    }
   ],
   "source": [
    "flat"
   ]
  },
  {
   "cell_type": "code",
   "execution_count": 176,
   "id": "15a99c47-e96f-456f-92a9-5b4b39097a2c",
   "metadata": {},
   "outputs": [
    {
     "data": {
      "text/plain": [
       "array([55, 71])"
      ]
     },
     "execution_count": 176,
     "metadata": {},
     "output_type": "execute_result"
    }
   ],
   "source": [
    "arr[arr_int>50]"
   ]
  },
  {
   "cell_type": "code",
   "execution_count": 177,
   "id": "658e9029-093d-4eb3-a43e-d12843b29d3d",
   "metadata": {},
   "outputs": [],
   "source": [
    "arr = np.array([[1, 4.5, 73], [2.3, 333, 41], [19, 44, 12.54]])"
   ]
  },
  {
   "cell_type": "code",
   "execution_count": 178,
   "id": "2f1ff8c9-7930-45eb-85e5-0e01cae4d432",
   "metadata": {},
   "outputs": [
    {
     "data": {
      "text/plain": [
       "array([[  1.  ,   4.5 ,  73.  ],\n",
       "       [  2.3 , 333.  ,  41.  ],\n",
       "       [ 19.  ,  44.  ,  12.54]])"
      ]
     },
     "execution_count": 178,
     "metadata": {},
     "output_type": "execute_result"
    }
   ],
   "source": [
    "arr"
   ]
  },
  {
   "cell_type": "code",
   "execution_count": 179,
   "id": "c0c0411e-a98f-425c-aa4d-6af77bebca35",
   "metadata": {},
   "outputs": [],
   "source": [
    "arr_int = np.array([[1, 4.5, 73], [2.3, 333, 41], [19, 44, 12.54]], dtype = 'int32')"
   ]
  },
  {
   "cell_type": "code",
   "execution_count": 180,
   "id": "bf17b490-c711-4895-9da8-6084290c9e1f",
   "metadata": {},
   "outputs": [
    {
     "data": {
      "text/plain": [
       "array([[  1,   4,  73],\n",
       "       [  2, 333,  41],\n",
       "       [ 19,  44,  12]], dtype=int32)"
      ]
     },
     "execution_count": 180,
     "metadata": {},
     "output_type": "execute_result"
    }
   ],
   "source": [
    "arr_int"
   ]
  },
  {
   "cell_type": "code",
   "execution_count": 181,
   "id": "0cec1891-79ca-4acc-8eff-8d670cdcfed7",
   "metadata": {},
   "outputs": [
    {
     "data": {
      "text/plain": [
       "array([ 4,  2, 44, 12], dtype=int32)"
      ]
     },
     "execution_count": 181,
     "metadata": {},
     "output_type": "execute_result"
    }
   ],
   "source": [
    "arr_int[arr_int % 2 == 0]"
   ]
  },
  {
   "cell_type": "code",
   "execution_count": 182,
   "id": "52ba8c71-5276-4cb7-b15a-7c2648d119bc",
   "metadata": {},
   "outputs": [
    {
     "data": {
      "text/plain": [
       "array([[  1,   4,  73],\n",
       "       [  2, 333,  41],\n",
       "       [ 19,  44,  12]], dtype=int32)"
      ]
     },
     "execution_count": 182,
     "metadata": {},
     "output_type": "execute_result"
    }
   ],
   "source": [
    "arr_int.reshape((3, 3))"
   ]
  },
  {
   "cell_type": "code",
   "execution_count": 184,
   "id": "be7c921b-6ee8-4b21-b1c6-2e17b6697392",
   "metadata": {},
   "outputs": [],
   "source": [
    "flat = arr_int.flatten()"
   ]
  },
  {
   "cell_type": "code",
   "execution_count": 190,
   "id": "f6fec81c-3138-41e5-b2d2-2f4fe439ffe4",
   "metadata": {},
   "outputs": [
    {
     "data": {
      "text/plain": [
       "array([  1,   4,  73,   2, 333,  41,  19,  44,  12], dtype=int32)"
      ]
     },
     "execution_count": 190,
     "metadata": {},
     "output_type": "execute_result"
    }
   ],
   "source": [
    "flat"
   ]
  },
  {
   "cell_type": "code",
   "execution_count": 194,
   "id": "8e2a4f94-002c-41df-b007-625349739dcf",
   "metadata": {},
   "outputs": [
    {
     "data": {
      "text/plain": [
       "array([ 73., 333.])"
      ]
     },
     "execution_count": 194,
     "metadata": {},
     "output_type": "execute_result"
    }
   ],
   "source": [
    "arr[arr_int>50]"
   ]
  },
  {
   "cell_type": "code",
   "execution_count": null,
   "id": "08df30d7-da60-4af8-85e0-9ededc1be3ba",
   "metadata": {},
   "outputs": [],
   "source": []
  }
 ],
 "metadata": {
  "kernelspec": {
   "display_name": "Python 3 (ipykernel)",
   "language": "python",
   "name": "python3"
  },
  "language_info": {
   "codemirror_mode": {
    "name": "ipython",
    "version": 3
   },
   "file_extension": ".py",
   "mimetype": "text/x-python",
   "name": "python",
   "nbconvert_exporter": "python",
   "pygments_lexer": "ipython3",
   "version": "3.13.5"
  }
 },
 "nbformat": 4,
 "nbformat_minor": 5
}
