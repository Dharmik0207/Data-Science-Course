{
 "cells": [
  {
   "cell_type": "markdown",
   "id": "396034b7-a340-4975-a5a4-9c23f7decf5e",
   "metadata": {},
   "source": [
    "# Python Tuples and Tuple Methods\n",
    "\n",
    "## What is a Tuple?\n",
    "A **tuple** in Python is an ordered, immutable collection of elements. It is similar to a list, but once created, its elements cannot be modified.\n",
    "\n",
    "### Creating a Tuple:\n",
    "```python\n",
    "# Empty tuple\n",
    "empty_tuple = ()\n",
    "\n",
    "# Tuple with elements\n",
    "numbers = (1, 2, 3, 4, 5)\n",
    "\n",
    "# Mixed data types\n",
    "mixed_tuple = (1, \"Hello\", 3.14, True)\n",
    "\n",
    "# Single element tuple (comma is necessary)\n",
    "single_element = (42,)\n",
    "```"
   ]
  },
  {
   "cell_type": "code",
   "execution_count": 1,
   "id": "109f3bff-e4f3-4c45-ae7f-74754e079e3b",
   "metadata": {},
   "outputs": [],
   "source": [
    "e = ()"
   ]
  },
  {
   "cell_type": "code",
   "execution_count": 2,
   "id": "1e1ff2cd-ec8e-4d91-b44f-e7d6c28440ed",
   "metadata": {},
   "outputs": [
    {
     "data": {
      "text/plain": [
       "()"
      ]
     },
     "execution_count": 2,
     "metadata": {},
     "output_type": "execute_result"
    }
   ],
   "source": [
    "e"
   ]
  },
  {
   "cell_type": "code",
   "execution_count": 3,
   "id": "6990c7ed-042e-4fae-ae83-bd6d88548c4e",
   "metadata": {},
   "outputs": [
    {
     "data": {
      "text/plain": [
       "tuple"
      ]
     },
     "execution_count": 3,
     "metadata": {},
     "output_type": "execute_result"
    }
   ],
   "source": [
    "type(e)"
   ]
  },
  {
   "cell_type": "code",
   "execution_count": 4,
   "id": "e1d0067e-13a4-4476-941a-6cec38205e4e",
   "metadata": {},
   "outputs": [],
   "source": [
    "l = []"
   ]
  },
  {
   "cell_type": "code",
   "execution_count": 5,
   "id": "8021fc1f-79ef-4119-b527-b98366c9ad93",
   "metadata": {},
   "outputs": [
    {
     "data": {
      "text/plain": [
       "[]"
      ]
     },
     "execution_count": 5,
     "metadata": {},
     "output_type": "execute_result"
    }
   ],
   "source": [
    "l"
   ]
  },
  {
   "cell_type": "code",
   "execution_count": 6,
   "id": "0b60ba3f-470b-4e75-a685-40099a808075",
   "metadata": {},
   "outputs": [
    {
     "data": {
      "text/plain": [
       "list"
      ]
     },
     "execution_count": 6,
     "metadata": {},
     "output_type": "execute_result"
    }
   ],
   "source": [
    "type(l)"
   ]
  },
  {
   "cell_type": "code",
   "execution_count": 7,
   "id": "77ebd6f7-d9c3-4bd5-8d6b-2f45aae2b4e3",
   "metadata": {},
   "outputs": [],
   "source": [
    "t = (12, 21, 15, 34)"
   ]
  },
  {
   "cell_type": "code",
   "execution_count": 8,
   "id": "2479d3a6-dedf-4b31-817d-3a7cdb7bbd58",
   "metadata": {},
   "outputs": [
    {
     "data": {
      "text/plain": [
       "(12, 21, 15, 34)"
      ]
     },
     "execution_count": 8,
     "metadata": {},
     "output_type": "execute_result"
    }
   ],
   "source": [
    "t"
   ]
  },
  {
   "cell_type": "code",
   "execution_count": 9,
   "id": "ec77691a-c46c-45dd-97f9-7ecd1cbb0fba",
   "metadata": {},
   "outputs": [
    {
     "data": {
      "text/plain": [
       "4"
      ]
     },
     "execution_count": 9,
     "metadata": {},
     "output_type": "execute_result"
    }
   ],
   "source": [
    "len(t)"
   ]
  },
  {
   "cell_type": "code",
   "execution_count": 10,
   "id": "b03c9902-36e2-4c5d-864a-e64b064d7509",
   "metadata": {},
   "outputs": [
    {
     "data": {
      "text/plain": [
       "21"
      ]
     },
     "execution_count": 10,
     "metadata": {},
     "output_type": "execute_result"
    }
   ],
   "source": [
    "t[1]"
   ]
  },
  {
   "cell_type": "markdown",
   "id": "3471c901-5e68-4012-86ed-ea8c29d53075",
   "metadata": {},
   "source": [
    "## Tuple Packing and Unpacking\n",
    "```python\n",
    "# Packing\n",
    "person = (\"Alice\", 25, \"Engineer\")\n",
    "\n",
    "# Unpacking\n",
    "name, age, profession = person\n",
    "print(name)  # Alice\n",
    "print(age)   # 25\n",
    "```"
   ]
  },
  {
   "cell_type": "code",
   "execution_count": 11,
   "id": "47ee77de-5054-46ff-adfb-72b986ad002a",
   "metadata": {},
   "outputs": [],
   "source": [
    "person = (\"Dharmik\", 26, \"Data-engineer\")"
   ]
  },
  {
   "cell_type": "code",
   "execution_count": 12,
   "id": "ea827b11-ab5b-4ae3-ab47-f4bdc89aa3da",
   "metadata": {},
   "outputs": [],
   "source": [
    "name, age, profession = person"
   ]
  },
  {
   "cell_type": "code",
   "execution_count": 13,
   "id": "d7ffc7f7-536e-432b-8b04-853a95eff725",
   "metadata": {},
   "outputs": [
    {
     "name": "stdout",
     "output_type": "stream",
     "text": [
      "Dharmik\n",
      "26\n",
      "Data-engineer\n"
     ]
    }
   ],
   "source": [
    "print(name)\n",
    "print(age)\n",
    "print(profession)"
   ]
  },
  {
   "cell_type": "markdown",
   "id": "4f3f9654-395e-495d-ba76-60508690a260",
   "metadata": {},
   "source": [
    "## Common Tuple Methods\n",
    "\n",
    "| Method | Description | Example |\n",
    "|--------|------------|---------|\n",
    "| `count(x)` | Returns the number of times `x` appears in the tuple. | `my_tuple.count(2)` |\n",
    "| `index(x)` | Returns the index of the first occurrence of `x`. | `my_tuple.index(3)` |\n"
   ]
  },
  {
   "cell_type": "code",
   "execution_count": 14,
   "id": "59cad166-23b8-4f14-8418-b975b630c570",
   "metadata": {},
   "outputs": [
    {
     "data": {
      "text/plain": [
       "1"
      ]
     },
     "execution_count": 14,
     "metadata": {},
     "output_type": "execute_result"
    }
   ],
   "source": [
    "person.count(26)"
   ]
  },
  {
   "cell_type": "code",
   "execution_count": 17,
   "id": "82c26a44-5a30-41d1-a33e-0ae724b96c84",
   "metadata": {},
   "outputs": [
    {
     "data": {
      "text/plain": [
       "2"
      ]
     },
     "execution_count": 17,
     "metadata": {},
     "output_type": "execute_result"
    }
   ],
   "source": [
    "person.index(\"Data-engineer\")"
   ]
  },
  {
   "cell_type": "markdown",
   "id": "8d09a3ac-b909-4756-b681-cef262dd7cb4",
   "metadata": {},
   "source": [
    "## Accessing Tuple Elements\n",
    "```python\n",
    "my_tuple = (10, 20, 30, 40)\n",
    "\n",
    "# Indexing\n",
    "print(my_tuple[1])  # 20\n",
    "\n",
    "# Slicing\n",
    "print(my_tuple[1:3])  # (20, 30)\n",
    "```"
   ]
  },
  {
   "cell_type": "code",
   "execution_count": 21,
   "id": "c66f7ed7-d530-496e-a758-089135e92408",
   "metadata": {},
   "outputs": [],
   "source": [
    "tuple1 = (10, 20, 40, 80, 30)"
   ]
  },
  {
   "cell_type": "code",
   "execution_count": 23,
   "id": "2d0907da-0d01-4e3b-a050-73c08d9be25d",
   "metadata": {},
   "outputs": [
    {
     "name": "stdout",
     "output_type": "stream",
     "text": [
      "20\n"
     ]
    }
   ],
   "source": [
    "print(tuple1[1])"
   ]
  },
  {
   "cell_type": "code",
   "execution_count": 25,
   "id": "0aa6f3d0-f17e-42b7-9f8a-2cdb427e02c9",
   "metadata": {},
   "outputs": [
    {
     "name": "stdout",
     "output_type": "stream",
     "text": [
      "(20, 40)\n"
     ]
    }
   ],
   "source": [
    "print(tuple1[1:3]) #1st element is count but 3rd element is not count."
   ]
  },
  {
   "cell_type": "code",
   "execution_count": null,
   "id": "c488fe78-6d84-4255-97f3-4674b73e9ce8",
   "metadata": {},
   "outputs": [],
   "source": []
  }
 ],
 "metadata": {
  "kernelspec": {
   "display_name": "Python 3 (ipykernel)",
   "language": "python",
   "name": "python3"
  },
  "language_info": {
   "codemirror_mode": {
    "name": "ipython",
    "version": 3
   },
   "file_extension": ".py",
   "mimetype": "text/x-python",
   "name": "python",
   "nbconvert_exporter": "python",
   "pygments_lexer": "ipython3",
   "version": "3.13.5"
  }
 },
 "nbformat": 4,
 "nbformat_minor": 5
}
