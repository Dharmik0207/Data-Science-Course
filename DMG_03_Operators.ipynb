{
 "cells": [
  {
   "cell_type": "markdown",
   "id": "155aab95-1387-45a8-a78e-b94878968149",
   "metadata": {},
   "source": [
    "### Aithmatic Operator"
   ]
  },
  {
   "cell_type": "code",
   "execution_count": 1,
   "id": "170cbf33-d47b-4189-bad9-83f4b8e30baf",
   "metadata": {},
   "outputs": [],
   "source": [
    "a = 10\n",
    "b = 5"
   ]
  },
  {
   "cell_type": "code",
   "execution_count": 2,
   "id": "07374b9a-88bd-4b29-b1aa-3b38bc9ccf5f",
   "metadata": {},
   "outputs": [
    {
     "data": {
      "text/plain": [
       "15"
      ]
     },
     "execution_count": 2,
     "metadata": {},
     "output_type": "execute_result"
    }
   ],
   "source": [
    "a + b"
   ]
  },
  {
   "cell_type": "code",
   "execution_count": 3,
   "id": "63f6ed7f-f52b-4bad-a296-0b2eab0f6b4b",
   "metadata": {},
   "outputs": [
    {
     "data": {
      "text/plain": [
       "5"
      ]
     },
     "execution_count": 3,
     "metadata": {},
     "output_type": "execute_result"
    }
   ],
   "source": [
    "a - b"
   ]
  },
  {
   "cell_type": "code",
   "execution_count": 4,
   "id": "373c4edc-950c-4c05-aceb-3023969f1bb0",
   "metadata": {},
   "outputs": [
    {
     "data": {
      "text/plain": [
       "50"
      ]
     },
     "execution_count": 4,
     "metadata": {},
     "output_type": "execute_result"
    }
   ],
   "source": [
    "a * b"
   ]
  },
  {
   "cell_type": "code",
   "execution_count": 5,
   "id": "f348cdd2-cc4f-4900-be0c-bd390f920378",
   "metadata": {},
   "outputs": [
    {
     "data": {
      "text/plain": [
       "2.0"
      ]
     },
     "execution_count": 5,
     "metadata": {},
     "output_type": "execute_result"
    }
   ],
   "source": [
    "a / b"
   ]
  },
  {
   "cell_type": "code",
   "execution_count": 6,
   "id": "05182f66-809d-482a-abd4-5bb25a992e71",
   "metadata": {},
   "outputs": [
    {
     "data": {
      "text/plain": [
       "2"
      ]
     },
     "execution_count": 6,
     "metadata": {},
     "output_type": "execute_result"
    }
   ],
   "source": [
    "a // b"
   ]
  },
  {
   "cell_type": "code",
   "execution_count": 7,
   "id": "89a7163d-d05a-4674-b3c9-ddc61ac98a23",
   "metadata": {},
   "outputs": [
    {
     "data": {
      "text/plain": [
       "0"
      ]
     },
     "execution_count": 7,
     "metadata": {},
     "output_type": "execute_result"
    }
   ],
   "source": [
    "a % b"
   ]
  },
  {
   "cell_type": "code",
   "execution_count": 8,
   "id": "b553b1b9-7ab9-4fd2-9458-75cbe4ca0df0",
   "metadata": {},
   "outputs": [
    {
     "data": {
      "text/plain": [
       "100000"
      ]
     },
     "execution_count": 8,
     "metadata": {},
     "output_type": "execute_result"
    }
   ],
   "source": [
    "a ** b"
   ]
  },
  {
   "cell_type": "markdown",
   "id": "958e26d2-dd28-4899-b176-fc201d24044c",
   "metadata": {},
   "source": [
    "### Comparison Operator | Always returns True or False."
   ]
  },
  {
   "cell_type": "code",
   "execution_count": 9,
   "id": "f63c7ab5-0abb-493e-b529-3a1b87e853a6",
   "metadata": {},
   "outputs": [],
   "source": [
    "a = 45"
   ]
  },
  {
   "cell_type": "code",
   "execution_count": 10,
   "id": "f4cc3915-c682-4b41-8690-77dea8dadc43",
   "metadata": {},
   "outputs": [],
   "source": [
    "b = 20"
   ]
  },
  {
   "cell_type": "code",
   "execution_count": 15,
   "id": "21c88def-f96f-4d64-9ff3-58d2ba61af89",
   "metadata": {},
   "outputs": [
    {
     "data": {
      "text/plain": [
       "False"
      ]
     },
     "execution_count": 15,
     "metadata": {},
     "output_type": "execute_result"
    }
   ],
   "source": [
    "a == b"
   ]
  },
  {
   "cell_type": "code",
   "execution_count": 16,
   "id": "eeb20ee7-cf45-4dbd-a4b8-a297f56dab08",
   "metadata": {},
   "outputs": [
    {
     "data": {
      "text/plain": [
       "True"
      ]
     },
     "execution_count": 16,
     "metadata": {},
     "output_type": "execute_result"
    }
   ],
   "source": [
    "a != b"
   ]
  },
  {
   "cell_type": "code",
   "execution_count": 11,
   "id": "8f82cd55-4df1-4996-b569-9a06f00a6eb4",
   "metadata": {},
   "outputs": [
    {
     "data": {
      "text/plain": [
       "False"
      ]
     },
     "execution_count": 11,
     "metadata": {},
     "output_type": "execute_result"
    }
   ],
   "source": [
    "a < b"
   ]
  },
  {
   "cell_type": "code",
   "execution_count": 14,
   "id": "157b7baa-929b-4f80-83a4-135097e04ead",
   "metadata": {},
   "outputs": [
    {
     "data": {
      "text/plain": [
       "False"
      ]
     },
     "execution_count": 14,
     "metadata": {},
     "output_type": "execute_result"
    }
   ],
   "source": [
    "a <= b"
   ]
  },
  {
   "cell_type": "code",
   "execution_count": 12,
   "id": "dce1538d-08a5-4b9e-9fe2-8bed5fd35fde",
   "metadata": {},
   "outputs": [
    {
     "data": {
      "text/plain": [
       "True"
      ]
     },
     "execution_count": 12,
     "metadata": {},
     "output_type": "execute_result"
    }
   ],
   "source": [
    "a > b"
   ]
  },
  {
   "cell_type": "code",
   "execution_count": 13,
   "id": "be2969cc-ee67-4f42-93da-5a19b0f273f9",
   "metadata": {},
   "outputs": [
    {
     "data": {
      "text/plain": [
       "True"
      ]
     },
     "execution_count": 13,
     "metadata": {},
     "output_type": "execute_result"
    }
   ],
   "source": [
    "a >= b"
   ]
  },
  {
   "cell_type": "code",
   "execution_count": 17,
   "id": "a3f5ff85-32ca-4030-b981-590f4099716d",
   "metadata": {},
   "outputs": [],
   "source": [
    "c = 3"
   ]
  },
  {
   "cell_type": "code",
   "execution_count": 18,
   "id": "c51c66f7-6b85-463d-a939-01cf23c11fa1",
   "metadata": {},
   "outputs": [
    {
     "data": {
      "text/plain": [
       "False"
      ]
     },
     "execution_count": 18,
     "metadata": {},
     "output_type": "execute_result"
    }
   ],
   "source": [
    "a == c #is a equal to c?"
   ]
  },
  {
   "cell_type": "code",
   "execution_count": 19,
   "id": "794dcba8-5ec6-4887-a4a9-0188962acd90",
   "metadata": {},
   "outputs": [
    {
     "data": {
      "text/plain": [
       "True"
      ]
     },
     "execution_count": 19,
     "metadata": {},
     "output_type": "execute_result"
    }
   ],
   "source": [
    "a != c #is a is not equal to c?"
   ]
  },
  {
   "cell_type": "code",
   "execution_count": 20,
   "id": "bbe6a783-af84-46bd-868a-77107e48cf7e",
   "metadata": {},
   "outputs": [],
   "source": [
    "a = 5\n",
    "b = 5"
   ]
  },
  {
   "cell_type": "code",
   "execution_count": 21,
   "id": "293d130e-fbb4-4bb4-b964-89b3b56d2027",
   "metadata": {},
   "outputs": [
    {
     "data": {
      "text/plain": [
       "True"
      ]
     },
     "execution_count": 21,
     "metadata": {},
     "output_type": "execute_result"
    }
   ],
   "source": [
    "a == b"
   ]
  },
  {
   "cell_type": "markdown",
   "id": "47018bc6-8303-43a1-a3e8-320b720ed9c3",
   "metadata": {},
   "source": [
    "### Logical Operator | Only operates in booleans."
   ]
  },
  {
   "cell_type": "markdown",
   "id": "f61483e5-03fa-4447-80b9-d642ffbd12b4",
   "metadata": {},
   "source": [
    "#### NOT Operators."
   ]
  },
  {
   "cell_type": "code",
   "execution_count": 22,
   "id": "f846e8e2-5754-420e-b16f-185675a53055",
   "metadata": {},
   "outputs": [],
   "source": [
    "a1 = True\n",
    "a2 = False"
   ]
  },
  {
   "cell_type": "code",
   "execution_count": 23,
   "id": "7cfe0c0e-95bc-4b2b-96f9-d2d7eea06eb5",
   "metadata": {},
   "outputs": [
    {
     "data": {
      "text/plain": [
       "False"
      ]
     },
     "execution_count": 23,
     "metadata": {},
     "output_type": "execute_result"
    }
   ],
   "source": [
    "not(a1)"
   ]
  },
  {
   "cell_type": "code",
   "execution_count": 24,
   "id": "d712b0f9-1f03-4a98-ad92-9de0fa859f7c",
   "metadata": {},
   "outputs": [
    {
     "data": {
      "text/plain": [
       "True"
      ]
     },
     "execution_count": 24,
     "metadata": {},
     "output_type": "execute_result"
    }
   ],
   "source": [
    "not(a2)"
   ]
  },
  {
   "cell_type": "markdown",
   "id": "ff2925a6-646a-4cd3-a49f-f3e660cd82e7",
   "metadata": {},
   "source": [
    "#### OR Operators."
   ]
  },
  {
   "cell_type": "code",
   "execution_count": 25,
   "id": "90d8635f-3441-4f88-be5e-afd410bb64ae",
   "metadata": {},
   "outputs": [
    {
     "data": {
      "text/plain": [
       "True"
      ]
     },
     "execution_count": 25,
     "metadata": {},
     "output_type": "execute_result"
    }
   ],
   "source": [
    "a1 or a2"
   ]
  },
  {
   "cell_type": "markdown",
   "id": "f964eaec-5fc5-4261-9bda-7d599abc2d17",
   "metadata": {},
   "source": [
    "#### AND Operators."
   ]
  },
  {
   "cell_type": "code",
   "execution_count": 26,
   "id": "af960412-1c80-4aa2-af16-0e44eb21b0c0",
   "metadata": {},
   "outputs": [
    {
     "data": {
      "text/plain": [
       "False"
      ]
     },
     "execution_count": 26,
     "metadata": {},
     "output_type": "execute_result"
    }
   ],
   "source": [
    "a1 and a2"
   ]
  },
  {
   "cell_type": "markdown",
   "id": "dde39982-97a7-4624-89bb-2045c7d297da",
   "metadata": {},
   "source": [
    "### Bitwise Operator | perform bit-level operations."
   ]
  },
  {
   "cell_type": "code",
   "execution_count": 28,
   "id": "7699774b-c7e3-44ab-9b54-15f134650391",
   "metadata": {},
   "outputs": [],
   "source": [
    "a = 5\n",
    "b = 3"
   ]
  },
  {
   "cell_type": "code",
   "execution_count": 31,
   "id": "552b1312-97e8-4bdd-82ad-72922e5f7334",
   "metadata": {},
   "outputs": [
    {
     "data": {
      "text/plain": [
       "1"
      ]
     },
     "execution_count": 31,
     "metadata": {},
     "output_type": "execute_result"
    }
   ],
   "source": [
    "a & b #bitwise AND Operator"
   ]
  },
  {
   "cell_type": "code",
   "execution_count": 32,
   "id": "a28c9aec-3f5f-4963-99a8-6519e088b775",
   "metadata": {},
   "outputs": [
    {
     "data": {
      "text/plain": [
       "7"
      ]
     },
     "execution_count": 32,
     "metadata": {},
     "output_type": "execute_result"
    }
   ],
   "source": [
    "a | b #bitwise OR Operator"
   ]
  },
  {
   "cell_type": "markdown",
   "id": "7d5f4c6e-c868-47a3-94d3-4d529112ebcc",
   "metadata": {},
   "source": [
    "### Assignment Operator | Used to assign values to variables."
   ]
  },
  {
   "cell_type": "code",
   "execution_count": 33,
   "id": "2dc0f338-faa5-4368-92b8-a1b79cce4bc0",
   "metadata": {},
   "outputs": [],
   "source": [
    "a = 45"
   ]
  },
  {
   "cell_type": "code",
   "execution_count": 39,
   "id": "577c4ce1-e8be-43c5-bcce-f21bb7a49626",
   "metadata": {},
   "outputs": [
    {
     "data": {
      "text/plain": [
       "45"
      ]
     },
     "execution_count": 39,
     "metadata": {},
     "output_type": "execute_result"
    }
   ],
   "source": [
    "a += 4\n",
    "a"
   ]
  },
  {
   "cell_type": "code",
   "execution_count": 38,
   "id": "e6efc4ec-a9dc-46bc-bd77-53f15c45c728",
   "metadata": {},
   "outputs": [
    {
     "data": {
      "text/plain": [
       "41"
      ]
     },
     "execution_count": 38,
     "metadata": {},
     "output_type": "execute_result"
    }
   ],
   "source": [
    "a -= 4\n",
    "a"
   ]
  },
  {
   "cell_type": "code",
   "execution_count": 40,
   "id": "d41598a4-4185-4231-a01b-42e0b89b4b21",
   "metadata": {},
   "outputs": [
    {
     "data": {
      "text/plain": [
       "180"
      ]
     },
     "execution_count": 40,
     "metadata": {},
     "output_type": "execute_result"
    }
   ],
   "source": [
    "a *= 4\n",
    "a"
   ]
  },
  {
   "cell_type": "code",
   "execution_count": 41,
   "id": "225d39c9-a709-4b5f-86e9-b7298ac14dc8",
   "metadata": {},
   "outputs": [
    {
     "data": {
      "text/plain": [
       "45.0"
      ]
     },
     "execution_count": 41,
     "metadata": {},
     "output_type": "execute_result"
    }
   ],
   "source": [
    "a /= 4\n",
    "a"
   ]
  },
  {
   "cell_type": "code",
   "execution_count": 42,
   "id": "58e0d158-2b61-45cc-a372-8d27e157025b",
   "metadata": {},
   "outputs": [
    {
     "data": {
      "text/plain": [
       "11.0"
      ]
     },
     "execution_count": 42,
     "metadata": {},
     "output_type": "execute_result"
    }
   ],
   "source": [
    "a //= 4\n",
    "a"
   ]
  },
  {
   "cell_type": "code",
   "execution_count": 43,
   "id": "5daff717-475f-4cec-889c-9490aab13a7d",
   "metadata": {},
   "outputs": [
    {
     "data": {
      "text/plain": [
       "3.0"
      ]
     },
     "execution_count": 43,
     "metadata": {},
     "output_type": "execute_result"
    }
   ],
   "source": [
    "a %= 4\n",
    "a"
   ]
  },
  {
   "cell_type": "code",
   "execution_count": 44,
   "id": "640b6395-68fa-4f1f-b105-9cde142ef291",
   "metadata": {},
   "outputs": [
    {
     "data": {
      "text/plain": [
       "81.0"
      ]
     },
     "execution_count": 44,
     "metadata": {},
     "output_type": "execute_result"
    }
   ],
   "source": [
    "a **= 4\n",
    "a"
   ]
  },
  {
   "cell_type": "markdown",
   "id": "4b37e170-3f9b-48c3-b0a9-cc8033638516",
   "metadata": {},
   "source": [
    "### Membership & Identity Operators."
   ]
  },
  {
   "cell_type": "code",
   "execution_count": 45,
   "id": "5e544d69-46b6-4836-ac55-53c1fbe8e037",
   "metadata": {},
   "outputs": [],
   "source": [
    "list = [1,2,3,4]"
   ]
  },
  {
   "cell_type": "code",
   "execution_count": 46,
   "id": "9a363089-aded-4a1f-b0f6-1d467a00262d",
   "metadata": {},
   "outputs": [],
   "source": [
    "x = 2"
   ]
  },
  {
   "cell_type": "code",
   "execution_count": 47,
   "id": "4c8ddb78-f9fd-4341-a6b9-50f7b1648e8e",
   "metadata": {},
   "outputs": [
    {
     "data": {
      "text/plain": [
       "True"
      ]
     },
     "execution_count": 47,
     "metadata": {},
     "output_type": "execute_result"
    }
   ],
   "source": [
    "x in list # presence in sequence"
   ]
  },
  {
   "cell_type": "code",
   "execution_count": 48,
   "id": "1c306935-5cd0-4477-8682-ee5944d75b02",
   "metadata": {},
   "outputs": [
    {
     "data": {
      "text/plain": [
       "False"
      ]
     },
     "execution_count": 48,
     "metadata": {},
     "output_type": "execute_result"
    }
   ],
   "source": [
    "x not in list # Not presence in sequence"
   ]
  },
  {
   "cell_type": "code",
   "execution_count": 49,
   "id": "c983363e-263d-4536-b611-f58918724433",
   "metadata": {},
   "outputs": [],
   "source": [
    "a = 7\n",
    "b = 9"
   ]
  },
  {
   "cell_type": "code",
   "execution_count": 50,
   "id": "870948d1-714a-49da-a3f2-08b43cd7449f",
   "metadata": {},
   "outputs": [
    {
     "data": {
      "text/plain": [
       "False"
      ]
     },
     "execution_count": 50,
     "metadata": {},
     "output_type": "execute_result"
    }
   ],
   "source": [
    "a is b # same object"
   ]
  },
  {
   "cell_type": "code",
   "execution_count": 51,
   "id": "599e7594-975b-4d74-ab03-c39b976a1c09",
   "metadata": {},
   "outputs": [
    {
     "data": {
      "text/plain": [
       "True"
      ]
     },
     "execution_count": 51,
     "metadata": {},
     "output_type": "execute_result"
    }
   ],
   "source": [
    "a is not b  # Different Object"
   ]
  },
  {
   "cell_type": "code",
   "execution_count": null,
   "id": "6e8d2ec3-5293-4a79-bf99-b37658904778",
   "metadata": {},
   "outputs": [],
   "source": [
    "    "
   ]
  }
 ],
 "metadata": {
  "kernelspec": {
   "display_name": "Python 3 (ipykernel)",
   "language": "python",
   "name": "python3"
  },
  "language_info": {
   "codemirror_mode": {
    "name": "ipython",
    "version": 3
   },
   "file_extension": ".py",
   "mimetype": "text/x-python",
   "name": "python",
   "nbconvert_exporter": "python",
   "pygments_lexer": "ipython3",
   "version": "3.13.5"
  }
 },
 "nbformat": 4,
 "nbformat_minor": 5
}
