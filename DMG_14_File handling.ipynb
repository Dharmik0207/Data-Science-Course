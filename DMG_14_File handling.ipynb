{
 "cells": [
  {
   "cell_type": "markdown",
   "id": "4e2468e5-fe17-496f-bf5b-c6929c297aaf",
   "metadata": {},
   "source": [
    "## Opening a File\n",
    "Python uses the `open()` function to open a file."
   ]
  },
  {
   "cell_type": "markdown",
   "id": "5ad6c375-e922-43cc-87d8-8a76c6894c48",
   "metadata": {},
   "source": [
    "### **Syntax**\n",
    "```python\n",
    "file = open(\"filename\", mode)\n",
    "```\n",
    "- **`filename`** → The name of the file to open.\n",
    "- **`mode`** → Specifies how the file should be opened."
   ]
  },
  {
   "cell_type": "markdown",
   "id": "3938d6bf-3033-495e-a55f-9496587c5e6a",
   "metadata": {},
   "source": [
    "### **File Modes**\n",
    "| Mode | Description |\n",
    "|------|-------------|\n",
    "| `'r'` | Read (default) – Opens file for reading, **raises an error if file does not exist**. |\n",
    "| `'w'` | Write – Opens file for writing, **creates a new file if not found**, and **overwrites existing content**. |\n",
    "| `'a'` | Append – Opens file for writing, **creates a new file if not found**, and appends content instead of overwriting. |\n",
    "| `'x'` | Create – Creates a new file, but **fails if the file already exists**. |\n",
    "| `'b'` | Binary mode – Used with `rb`, `wb`, `ab`, etc., for working with non-text files (e.g., images, PDFs). |\n",
    "| `'t'` | Text mode (default) – Used for text files (e.g., `rt`, `wt`). |"
   ]
  },
  {
   "cell_type": "markdown",
   "id": "e35a9e88-7063-44fc-8866-2b3bde8dc17b",
   "metadata": {},
   "source": [
    "## Reading Files"
   ]
  },
  {
   "cell_type": "code",
   "execution_count": 19,
   "id": "dba5df6f-a68c-447e-98de-3fd020d80cdc",
   "metadata": {},
   "outputs": [],
   "source": [
    "f = open(\"text.txt\", \"r\")"
   ]
  },
  {
   "cell_type": "code",
   "execution_count": 20,
   "id": "5ced4a00-5839-4431-b2df-1a1b4075162e",
   "metadata": {},
   "outputs": [
    {
     "data": {
      "text/plain": [
       "'Dharmik\\nis \\ngood\\nboy\\n'"
      ]
     },
     "execution_count": 20,
     "metadata": {},
     "output_type": "execute_result"
    }
   ],
   "source": [
    "f.read()"
   ]
  },
  {
   "cell_type": "code",
   "execution_count": 27,
   "id": "708501a5-a180-4215-bace-f8b033c278da",
   "metadata": {},
   "outputs": [],
   "source": [
    "s = \"This is a nice way to learn Data Science\""
   ]
  },
  {
   "cell_type": "code",
   "execution_count": 28,
   "id": "88f6698b-352b-481e-a620-4a5a232bce9a",
   "metadata": {},
   "outputs": [],
   "source": [
    "f.close()"
   ]
  },
  {
   "cell_type": "code",
   "execution_count": 29,
   "id": "e5361675-f113-4db0-925e-b185c56b948e",
   "metadata": {},
   "outputs": [],
   "source": [
    "f = open(\"dharmik.txt\", \"w\")"
   ]
  },
  {
   "cell_type": "code",
   "execution_count": 30,
   "id": "288cb6e0-9f69-42e6-9d56-b5c83d894d63",
   "metadata": {},
   "outputs": [
    {
     "data": {
      "text/plain": [
       "40"
      ]
     },
     "execution_count": 30,
     "metadata": {},
     "output_type": "execute_result"
    }
   ],
   "source": [
    "f.write(s)"
   ]
  },
  {
   "cell_type": "code",
   "execution_count": 31,
   "id": "c5dde055-4938-4e5d-b807-54185bc00262",
   "metadata": {},
   "outputs": [],
   "source": [
    "f.close()"
   ]
  },
  {
   "cell_type": "markdown",
   "id": "2a9c7d80-f659-47f5-afb1-b49045009f9a",
   "metadata": {},
   "source": [
    "### **Using `readline()` – Read Line by Line**"
   ]
  },
  {
   "cell_type": "code",
   "execution_count": 32,
   "id": "1d5ce809-78c7-4dd5-a2e4-a237458ba68d",
   "metadata": {},
   "outputs": [],
   "source": [
    "f = open(\"dharmik.txt\", \"r\")"
   ]
  },
  {
   "cell_type": "code",
   "execution_count": 33,
   "id": "81d67d6b-66ec-400d-b5ef-ad110c50294b",
   "metadata": {},
   "outputs": [
    {
     "data": {
      "text/plain": [
       "'This is a nice way to learn Data Science'"
      ]
     },
     "execution_count": 33,
     "metadata": {},
     "output_type": "execute_result"
    }
   ],
   "source": [
    "f.readline()"
   ]
  },
  {
   "cell_type": "code",
   "execution_count": 36,
   "id": "a52fc564-2869-4b69-a7a4-5bcfdeec02fb",
   "metadata": {},
   "outputs": [],
   "source": [
    "f = open(\"dharmik.txt\", \"r\")"
   ]
  },
  {
   "cell_type": "code",
   "execution_count": 37,
   "id": "d339b156-5989-4686-b13d-694dba18625b",
   "metadata": {},
   "outputs": [
    {
     "data": {
      "text/plain": [
       "['This is a nice way to learn Data Science\\n',\n",
       " 'I am excited to apply for the Trainee System Engineering position at adesso as a service GmbH With 3years of experience in architecting and deploying high-performance Java applications, I haveconsistently delivered solutions that enhance efficiency and scalability.\\n',\n",
       " 'As a Working Student Trainee System Engineering JavaScript, TypeScript at LoopDrill Pvt. Ltd., I helpeddevelop SmartMail, an AI-powered add-on for the Thunderbird email client. I worked with JavaScript,TypeScript, Spring Boot, Hibernate, and RESTful APIs to enhance functionality and streamlinecommunication. The role involved solving complex problems, optimizing workflows, and collaboratingacross teams.\\n',\n",
       " 'I am passionate about engineering transformative software solutions, and joining adesso as a serviceGmbH aligns perfectly with my career goals. I am eager to bring my analytical mindset, innovativeapproach, and technical precision to your team.']"
      ]
     },
     "execution_count": 37,
     "metadata": {},
     "output_type": "execute_result"
    }
   ],
   "source": [
    "f.readlines()"
   ]
  },
  {
   "cell_type": "markdown",
   "id": "f160d5bc-f380-4a99-a437-2e957292bfd6",
   "metadata": {},
   "source": [
    "## Writing to Files"
   ]
  },
  {
   "cell_type": "code",
   "execution_count": 42,
   "id": "d91d7904-dab8-4fdd-bca7-b1812ee10e33",
   "metadata": {},
   "outputs": [],
   "source": [
    "f = open(\"dharmik.txt\", \"w\")"
   ]
  },
  {
   "cell_type": "code",
   "execution_count": 43,
   "id": "92577c46-6653-4056-9843-3efaf5418db7",
   "metadata": {},
   "outputs": [
    {
     "data": {
      "text/plain": [
       "13"
      ]
     },
     "execution_count": 43,
     "metadata": {},
     "output_type": "execute_result"
    }
   ],
   "source": [
    "f.write(\"Hello, World!\")"
   ]
  },
  {
   "cell_type": "code",
   "execution_count": 44,
   "id": "5211ad47-cc71-4ac0-a2ee-a1db7decbd21",
   "metadata": {},
   "outputs": [],
   "source": [
    "f.close()"
   ]
  },
  {
   "cell_type": "code",
   "execution_count": 45,
   "id": "f81c54f8-f1c2-450d-b462-246d15efd0b6",
   "metadata": {},
   "outputs": [],
   "source": [
    "f = open(\"text.txt\", \"w\")"
   ]
  },
  {
   "cell_type": "code",
   "execution_count": 46,
   "id": "b604ac47-b230-439b-a244-be8ecea5499b",
   "metadata": {},
   "outputs": [
    {
     "data": {
      "text/plain": [
       "14"
      ]
     },
     "execution_count": 46,
     "metadata": {},
     "output_type": "execute_result"
    }
   ],
   "source": [
    "f.write(\"Hello Dharmik!\")"
   ]
  },
  {
   "cell_type": "code",
   "execution_count": 47,
   "id": "2ebd2ad7-6009-48eb-911d-fdf3fc56df11",
   "metadata": {},
   "outputs": [],
   "source": [
    "f.close()"
   ]
  },
  {
   "cell_type": "code",
   "execution_count": 53,
   "id": "d1b1a30e-3b98-467e-bea2-6263e40c52b7",
   "metadata": {},
   "outputs": [],
   "source": [
    "lines = [\"Hello\\n\", \"Welcome to python\\n\", \"File handling\\n\"]"
   ]
  },
  {
   "cell_type": "code",
   "execution_count": 54,
   "id": "099b5c6c-ff34-484e-8c9f-8b0ccd7d0b91",
   "metadata": {},
   "outputs": [],
   "source": [
    "f = open(\"text.txt\", \"w\")"
   ]
  },
  {
   "cell_type": "code",
   "execution_count": 55,
   "id": "f75f54a0-f2cb-4fd5-b91c-65f0cffc08d5",
   "metadata": {},
   "outputs": [],
   "source": [
    "f.writelines(lines)"
   ]
  },
  {
   "cell_type": "code",
   "execution_count": 56,
   "id": "e838e25b-735e-4c0e-9e7d-128c0ccd1b8b",
   "metadata": {},
   "outputs": [],
   "source": [
    "f.close()"
   ]
  },
  {
   "cell_type": "code",
   "execution_count": 86,
   "id": "0159d267-25dc-44de-bc32-c7e8c5ba9c2f",
   "metadata": {},
   "outputs": [],
   "source": [
    "para2 = [\"My name is Dharmik\\n\", \"I am 26 years old\\n\", \"I live in Germany\\n\"]"
   ]
  },
  {
   "cell_type": "code",
   "execution_count": 87,
   "id": "dcfe494c-08cb-4882-b804-7831f6579a47",
   "metadata": {},
   "outputs": [],
   "source": [
    "f = open(\"text.txt\", \"w\")"
   ]
  },
  {
   "cell_type": "code",
   "execution_count": 88,
   "id": "6d051cd1-f309-44fa-afe5-f1fc06e925c8",
   "metadata": {},
   "outputs": [],
   "source": [
    "f.writelines(para2)"
   ]
  },
  {
   "cell_type": "code",
   "execution_count": 89,
   "id": "7a61f7f9-764f-4f4a-8400-31ff1491e317",
   "metadata": {},
   "outputs": [],
   "source": [
    "f.close()"
   ]
  },
  {
   "cell_type": "markdown",
   "id": "4910d7aa-1768-490d-987b-04182a30b0b1",
   "metadata": {},
   "source": [
    "## Using `with` Statement (Best Practice)\n",
    "Using `with open()` ensures the file is **automatically closed** after execution.\n",
    "\n",
    "```python\n",
    "with open(\"example.txt\", \"r\") as file:\n",
    "    content = file.read()\n",
    "    print(content)  # No need to manually close the file\n",
    "```"
   ]
  },
  {
   "cell_type": "code",
   "execution_count": 90,
   "id": "b428e1b2-dc1e-42f5-b27f-40bbca2cb552",
   "metadata": {},
   "outputs": [
    {
     "name": "stdout",
     "output_type": "stream",
     "text": [
      "My name is Dharmik\n",
      "I am 26 years old\n",
      "I live in Germany\n",
      "\n"
     ]
    }
   ],
   "source": [
    "with open(\"text.txt\", \"r\") as file:\n",
    "    content = file.read()\n",
    "    print(content)"
   ]
  },
  {
   "cell_type": "markdown",
   "id": "9d67ae16-2a98-4f18-8d47-e378be267333",
   "metadata": {},
   "source": [
    "## Appending to a File\n",
    "The **`a` (append) mode** is used to add content to an existing file without erasing previous data.\n",
    "\n",
    "```python\n",
    "file = open(\"example.txt\", \"a\")\n",
    "file.write(\"\\nThis is an additional line.\")\n",
    "file.close()\n",
    "```"
   ]
  },
  {
   "cell_type": "code",
   "execution_count": 91,
   "id": "0399d1df-1919-46db-b6a9-a679aa70f84d",
   "metadata": {},
   "outputs": [],
   "source": [
    "f = open(\"text.txt\", \"a\")"
   ]
  },
  {
   "cell_type": "code",
   "execution_count": 92,
   "id": "117f0ec0-3cc1-4b53-8b86-96f12c44da05",
   "metadata": {},
   "outputs": [
    {
     "data": {
      "text/plain": [
       "29"
      ]
     },
     "execution_count": 92,
     "metadata": {},
     "output_type": "execute_result"
    }
   ],
   "source": [
    "f.write(\"\\n This is an additional line.\")"
   ]
  },
  {
   "cell_type": "code",
   "execution_count": 93,
   "id": "9f742e1e-fc21-43cc-a3cb-4a7c6f16eb65",
   "metadata": {},
   "outputs": [],
   "source": [
    "f.close()"
   ]
  },
  {
   "cell_type": "code",
   "execution_count": 94,
   "id": "59de5278-f31d-4ea0-8501-5ccaa959838c",
   "metadata": {},
   "outputs": [],
   "source": [
    "f = open(\"text.txt\", \"r\")"
   ]
  },
  {
   "cell_type": "code",
   "execution_count": 95,
   "id": "1c01f0e1-57be-402a-9fdf-2b009d7fdc30",
   "metadata": {},
   "outputs": [
    {
     "data": {
      "text/plain": [
       "['My name is Dharmik\\n',\n",
       " 'I am 26 years old\\n',\n",
       " 'I live in Germany\\n',\n",
       " '\\n',\n",
       " ' This is an additional line.']"
      ]
     },
     "execution_count": 95,
     "metadata": {},
     "output_type": "execute_result"
    }
   ],
   "source": [
    "f.readlines()"
   ]
  },
  {
   "cell_type": "code",
   "execution_count": 98,
   "id": "fb3a48ee-fd41-4170-b22f-76bb7fcc5e05",
   "metadata": {},
   "outputs": [
    {
     "name": "stdout",
     "output_type": "stream",
     "text": [
      "My name is Dharmik\n",
      "I am 26 years old\n",
      "I live in Germany\n",
      "\n",
      " This is an additional line.\n"
     ]
    }
   ],
   "source": [
    "with open(\"text.txt\", \"r\") as file:\n",
    "    content = file.read()\n",
    "    print(content)"
   ]
  },
  {
   "cell_type": "markdown",
   "id": "27b47e10-6290-405e-8107-523aafd402a6",
   "metadata": {},
   "source": [
    "## Summary of File Operations\n",
    "\n",
    "| Operation | Description | Example |\n",
    "|-----------|-------------|---------|\n",
    "| Open file | Open a file | `file = open(\"example.txt\", \"r\")` |\n",
    "| Read file | Read all content | `file.read()` |\n",
    "| Read line | Read one line | `file.readline()` |\n",
    "| Read lines | Read all lines into list | `file.readlines()` |\n",
    "| Write file | Write content (overwrite) | `file.write(\"Hello\")` |\n",
    "| Append file | Add content to the end | `file.write(\"\\nMore text\")` |\n",
    "| Check file existence | Check before opening/deleting | `os.path.exists(\"file.txt\")` |\n",
    "| Delete file | Remove a file | `os.remove(\"file.txt\")` |"
   ]
  },
  {
   "cell_type": "code",
   "execution_count": null,
   "id": "a0ca0c26-e15e-46c6-8b98-f3fccd90346d",
   "metadata": {},
   "outputs": [],
   "source": []
  }
 ],
 "metadata": {
  "kernelspec": {
   "display_name": "Python 3 (ipykernel)",
   "language": "python",
   "name": "python3"
  },
  "language_info": {
   "codemirror_mode": {
    "name": "ipython",
    "version": 3
   },
   "file_extension": ".py",
   "mimetype": "text/x-python",
   "name": "python",
   "nbconvert_exporter": "python",
   "pygments_lexer": "ipython3",
   "version": "3.13.5"
  }
 },
 "nbformat": 4,
 "nbformat_minor": 5
}
