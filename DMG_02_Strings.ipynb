{
 "cells": [
  {
   "cell_type": "code",
   "execution_count": 2,
   "id": "c125b28e-dff5-40d3-a5a3-f349f3292470",
   "metadata": {},
   "outputs": [],
   "source": [
    "name = \"Dharmik\""
   ]
  },
  {
   "cell_type": "code",
   "execution_count": 3,
   "id": "b0058418-b04f-416e-9d69-5f12ab711eab",
   "metadata": {},
   "outputs": [
    {
     "data": {
      "text/plain": [
       "'Dharmik'"
      ]
     },
     "execution_count": 3,
     "metadata": {},
     "output_type": "execute_result"
    }
   ],
   "source": [
    "name"
   ]
  },
  {
   "cell_type": "markdown",
   "id": "27b05426-9ca9-4a69-b0d6-43b4200ea9f9",
   "metadata": {},
   "source": [
    "## String Methods"
   ]
  },
  {
   "cell_type": "markdown",
   "id": "381c3b60-93e1-4fc0-99ec-0d322e32c8b8",
   "metadata": {},
   "source": [
    "### Case conversion : upper() & lower() "
   ]
  },
  {
   "cell_type": "code",
   "execution_count": 4,
   "id": "98595f58-34bf-4f28-bb05-9f91b9355183",
   "metadata": {},
   "outputs": [
    {
     "data": {
      "text/plain": [
       "'DHARMIK'"
      ]
     },
     "execution_count": 4,
     "metadata": {},
     "output_type": "execute_result"
    }
   ],
   "source": [
    "name.upper()"
   ]
  },
  {
   "cell_type": "code",
   "execution_count": 5,
   "id": "13ce20c4-89f7-4b9d-8d88-de88fdbf8c71",
   "metadata": {},
   "outputs": [
    {
     "data": {
      "text/plain": [
       "False"
      ]
     },
     "execution_count": 5,
     "metadata": {},
     "output_type": "execute_result"
    }
   ],
   "source": [
    "name.endswith(\"ry\")"
   ]
  },
  {
   "cell_type": "code",
   "execution_count": 6,
   "id": "efcf1c18-744c-4e0a-9e64-e75feafe1103",
   "metadata": {},
   "outputs": [
    {
     "data": {
      "text/plain": [
       "True"
      ]
     },
     "execution_count": 6,
     "metadata": {},
     "output_type": "execute_result"
    }
   ],
   "source": [
    "name.endswith(\"ik\")"
   ]
  },
  {
   "cell_type": "markdown",
   "id": "e4e1f04c-1526-4344-a776-84cee99211fb",
   "metadata": {},
   "source": [
    "name.lower()"
   ]
  },
  {
   "cell_type": "markdown",
   "id": "cdc30afc-a8cf-41b9-95e6-b788593ae91f",
   "metadata": {},
   "source": [
    "### count() :"
   ]
  },
  {
   "cell_type": "code",
   "execution_count": 9,
   "id": "60e33d96-3ff6-4aa7-9084-4ef411e88f80",
   "metadata": {},
   "outputs": [
    {
     "data": {
      "text/plain": [
       "1"
      ]
     },
     "execution_count": 9,
     "metadata": {},
     "output_type": "execute_result"
    }
   ],
   "source": [
    "name.count(\"a\")"
   ]
  },
  {
   "cell_type": "code",
   "execution_count": 10,
   "id": "e1737a1f-f909-4536-bdaa-7c349f50c28d",
   "metadata": {},
   "outputs": [
    {
     "data": {
      "text/plain": [
       "1"
      ]
     },
     "execution_count": 10,
     "metadata": {},
     "output_type": "execute_result"
    }
   ],
   "source": [
    "name.count(\"r\")"
   ]
  },
  {
   "cell_type": "code",
   "execution_count": 11,
   "id": "8e737421-5931-42e8-ad20-bc465a8c85e9",
   "metadata": {},
   "outputs": [
    {
     "name": "stdout",
     "output_type": "stream",
     "text": [
      "15\n"
     ]
    }
   ],
   "source": [
    "s = \"CodeWithDharmik\"\n",
    "print(len(s))"
   ]
  },
  {
   "cell_type": "markdown",
   "id": "a8a8ab17-bc66-4a0a-ab08-fcce9f273a02",
   "metadata": {},
   "source": [
    "### Removes leading & trailling spaces. :- strip()"
   ]
  },
  {
   "cell_type": "code",
   "execution_count": 13,
   "id": "d77ebc51-a8c0-43ad-a138-d7fa31744b63",
   "metadata": {},
   "outputs": [
    {
     "name": "stdout",
     "output_type": "stream",
     "text": [
      "CodeWithDharmik\n"
     ]
    }
   ],
   "source": [
    "s = \"  CodeWithDharmik   \"\n",
    "print(s.strip())"
   ]
  },
  {
   "cell_type": "markdown",
   "id": "ab751b9a-d139-4eca-a180-9a8980eb6035",
   "metadata": {},
   "source": [
    "### lower() & upper()"
   ]
  },
  {
   "cell_type": "code",
   "execution_count": 15,
   "id": "dffedc70-2fe6-4b58-9608-14200060d4d0",
   "metadata": {},
   "outputs": [
    {
     "name": "stdout",
     "output_type": "stream",
     "text": [
      "codewithdharmik\n",
      "CODEWITHDHARMIK\n"
     ]
    }
   ],
   "source": [
    "s = \"CodeWithDharmik\"\n",
    "print(s.lower())\n",
    "print(s.upper())"
   ]
  },
  {
   "cell_type": "markdown",
   "id": "0f6c1782-4d44-4a2f-96dc-04d16f7f9cdc",
   "metadata": {},
   "source": [
    "### replace() : Replace a substring with another :"
   ]
  },
  {
   "cell_type": "code",
   "execution_count": 1,
   "id": "4b98be13-ccc9-477d-a6d7-288db9d93747",
   "metadata": {},
   "outputs": [
    {
     "name": "stdout",
     "output_type": "stream",
     "text": [
      "Hello Python\n"
     ]
    }
   ],
   "source": [
    "s = \"Hello World\"\n",
    "print(s.replace(\"World\",\"Python\"))"
   ]
  },
  {
   "cell_type": "markdown",
   "id": "a2790fbe-0d4b-4dfc-a4f4-aae1cfce382b",
   "metadata": {},
   "source": [
    "### split() : Splits a string into a list based on a delimiter."
   ]
  },
  {
   "cell_type": "code",
   "execution_count": 5,
   "id": "0e6b32f9-0422-4e2f-bad9-039964acb1dd",
   "metadata": {},
   "outputs": [
    {
     "name": "stdout",
     "output_type": "stream",
     "text": [
      "['apple', 'banana', 'cherry']\n"
     ]
    }
   ],
   "source": [
    "s = \"apple,banana,cherry\"\n",
    "print(s.split(\",\"))"
   ]
  },
  {
   "cell_type": "markdown",
   "id": "adbfd775-d0ed-4120-a9b7-5c414beb484f",
   "metadata": {},
   "source": [
    "### \"-\".join(list) : join a string into a list based on a delimiter."
   ]
  },
  {
   "cell_type": "code",
   "execution_count": 13,
   "id": "a132dcfb-51c2-417e-8ee5-ae6e95aea3d7",
   "metadata": {},
   "outputs": [
    {
     "name": "stdout",
     "output_type": "stream",
     "text": [
      "aapple,banana,cherrybapple,banana,cherryc\n"
     ]
    }
   ],
   "source": [
    "s = \"apple,banana,cherry\"\n",
    "print(s.join([\"a\", \"b\", \"c\"]))"
   ]
  },
  {
   "cell_type": "markdown",
   "id": "d1720160-a670-4a83-90c2-cc6c880165ce",
   "metadata": {},
   "source": [
    "### f\"{}\" (f-string) : String formatting."
   ]
  },
  {
   "cell_type": "code",
   "execution_count": 7,
   "id": "4124efdc-a4b8-4c55-9c49-c5283c0b27b7",
   "metadata": {},
   "outputs": [
    {
     "data": {
      "text/plain": [
       "'Dharmik scored 95'"
      ]
     },
     "execution_count": 7,
     "metadata": {},
     "output_type": "execute_result"
    }
   ],
   "source": [
    "name, score = \"Dharmik\", 95\n",
    "f\"{name} scored {score}\""
   ]
  },
  {
   "cell_type": "markdown",
   "id": "f8e8d073-de6f-4a83-8a79-cde6d408bfee",
   "metadata": {},
   "source": [
    "### find() : Locate substrings "
   ]
  },
  {
   "cell_type": "code",
   "execution_count": 14,
   "id": "31b0c572-784f-4728-a451-e38793fb7520",
   "metadata": {},
   "outputs": [
    {
     "name": "stdout",
     "output_type": "stream",
     "text": [
      "5\n"
     ]
    }
   ],
   "source": [
    "s = \"CodeWithDharmik\"\n",
    "print(s.find(\"i\"))"
   ]
  },
  {
   "cell_type": "markdown",
   "id": "0e7e5211-9757-42a3-9471-fbd33c01a51a",
   "metadata": {},
   "source": [
    "### isalpha() | isdigit() | isalnum() | isspace() : Check string type."
   ]
  },
  {
   "cell_type": "code",
   "execution_count": 19,
   "id": "4869bc29-c2a5-42b6-8c1b-db25212c4a04",
   "metadata": {},
   "outputs": [
    {
     "name": "stdout",
     "output_type": "stream",
     "text": [
      "True\n",
      "True\n"
     ]
    }
   ],
   "source": [
    "s = \"Hello\"\n",
    "print(s.isalpha())\n",
    "print(s.isalnum())"
   ]
  },
  {
   "cell_type": "code",
   "execution_count": 22,
   "id": "28818fa0-5105-4b4a-a40e-1e0f815b86da",
   "metadata": {},
   "outputs": [
    {
     "name": "stdout",
     "output_type": "stream",
     "text": [
      "True\n",
      "False\n"
     ]
    }
   ],
   "source": [
    "i = \"123\"\n",
    "print(i.isdigit())\n",
    "print(i.isspace())"
   ]
  },
  {
   "cell_type": "markdown",
   "id": "18628bed-3c3f-4ad9-b6f5-896ecf721387",
   "metadata": {},
   "source": [
    "### title() | Capitalize each word."
   ]
  },
  {
   "cell_type": "code",
   "execution_count": 23,
   "id": "0a09d970-1aaf-4124-a545-bcea5c12d4fe",
   "metadata": {},
   "outputs": [
    {
     "name": "stdout",
     "output_type": "stream",
     "text": [
      "Hello World!\n"
     ]
    }
   ],
   "source": [
    "s = \"hello world!\"\n",
    "print(s.title())"
   ]
  },
  {
   "cell_type": "code",
   "execution_count": 25,
   "id": "3e005fa9-afb3-42d2-ba22-6cc9fbcbd512",
   "metadata": {},
   "outputs": [
    {
     "data": {
      "text/plain": [
       "'hello'"
      ]
     },
     "execution_count": 25,
     "metadata": {},
     "output_type": "execute_result"
    }
   ],
   "source": [
    "s[0:5]"
   ]
  },
  {
   "cell_type": "code",
   "execution_count": 26,
   "id": "8ad677b2-2db9-435c-82e0-c9c5947f0c19",
   "metadata": {},
   "outputs": [
    {
     "data": {
      "text/plain": [
       "'ello world'"
      ]
     },
     "execution_count": 26,
     "metadata": {},
     "output_type": "execute_result"
    }
   ],
   "source": [
    "s[1:-1]"
   ]
  },
  {
   "cell_type": "code",
   "execution_count": 27,
   "id": "e809bfb3-caf9-406a-b9bd-5cc0ffa573f8",
   "metadata": {},
   "outputs": [
    {
     "data": {
      "text/plain": [
       "'ello world!'"
      ]
     },
     "execution_count": 27,
     "metadata": {},
     "output_type": "execute_result"
    }
   ],
   "source": [
    "s[1:12]"
   ]
  },
  {
   "cell_type": "code",
   "execution_count": 28,
   "id": "263abfa8-ddab-4cf8-a478-ba2493cbe9bf",
   "metadata": {},
   "outputs": [
    {
     "data": {
      "text/plain": [
       "'hello world'"
      ]
     },
     "execution_count": 28,
     "metadata": {},
     "output_type": "execute_result"
    }
   ],
   "source": [
    "s[-12:-1]"
   ]
  }
 ],
 "metadata": {
  "kernelspec": {
   "display_name": "Python 3 (ipykernel)",
   "language": "python",
   "name": "python3"
  },
  "language_info": {
   "codemirror_mode": {
    "name": "ipython",
    "version": 3
   },
   "file_extension": ".py",
   "mimetype": "text/x-python",
   "name": "python",
   "nbconvert_exporter": "python",
   "pygments_lexer": "ipython3",
   "version": "3.13.5"
  }
 },
 "nbformat": 4,
 "nbformat_minor": 5
}
