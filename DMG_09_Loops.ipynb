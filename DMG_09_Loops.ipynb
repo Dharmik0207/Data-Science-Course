{
 "cells": [
  {
   "cell_type": "markdown",
   "id": "741dc886-8ff6-4197-badc-7e9518689530",
   "metadata": {},
   "source": [
    "## Loops in Python :"
   ]
  },
  {
   "cell_type": "markdown",
   "id": "d8c9b049-f8db-4392-b9a0-7e9d4aee7e20",
   "metadata": {},
   "source": [
    "##### Python has two main loops : for and while."
   ]
  },
  {
   "cell_type": "markdown",
   "id": "d47bbbcc-5287-4968-8004-0502e8cebd10",
   "metadata": {},
   "source": [
    "## 1. For Loop"
   ]
  },
  {
   "cell_type": "code",
   "execution_count": 6,
   "id": "98ca494c-6ae9-4c32-9f78-734e1d6b8831",
   "metadata": {},
   "outputs": [
    {
     "name": "stdout",
     "output_type": "stream",
     "text": [
      "Apple\n",
      "Banana\n",
      "Cherry\n"
     ]
    }
   ],
   "source": [
    "fruits = [\"Apple\", \"Banana\", \"Cherry\"]\n",
    "for items in fruits:\n",
    "    print(items)"
   ]
  },
  {
   "cell_type": "code",
   "execution_count": 3,
   "id": "a1f40292-e6e6-40e8-b1a1-dcc05482a125",
   "metadata": {},
   "outputs": [],
   "source": [
    "l = [3,5,7,9]"
   ]
  },
  {
   "cell_type": "code",
   "execution_count": 5,
   "id": "63737e57-413f-47d2-b46e-d45853a3c7a4",
   "metadata": {},
   "outputs": [
    {
     "name": "stdout",
     "output_type": "stream",
     "text": [
      "3\n",
      "5\n",
      "7\n",
      "9\n"
     ]
    }
   ],
   "source": [
    "for items in l:\n",
    "    print(items)"
   ]
  },
  {
   "cell_type": "markdown",
   "id": "7f024b8f-7603-4ee3-a24c-71b69144fc7b",
   "metadata": {},
   "source": [
    "#### For Loop using Range :"
   ]
  },
  {
   "cell_type": "code",
   "execution_count": 13,
   "id": "242a378c-ec06-40f7-905e-c5dac3811ec0",
   "metadata": {},
   "outputs": [
    {
     "name": "stdout",
     "output_type": "stream",
     "text": [
      "1\n",
      "2\n",
      "3\n",
      "4\n",
      "5\n",
      "6\n",
      "7\n",
      "8\n",
      "9\n"
     ]
    }
   ],
   "source": [
    "for i in range(1,10):\n",
    "    print(i)"
   ]
  },
  {
   "cell_type": "markdown",
   "id": "a092b595-7418-4b5e-aaae-e27509736363",
   "metadata": {},
   "source": [
    "## 2. While Loop"
   ]
  },
  {
   "cell_type": "code",
   "execution_count": 14,
   "id": "fb62ef28-abd5-4ef8-8ee2-dfa9e93701b8",
   "metadata": {},
   "outputs": [
    {
     "name": "stdout",
     "output_type": "stream",
     "text": [
      "0\n",
      "1\n",
      "2\n"
     ]
    }
   ],
   "source": [
    "count = 0\n",
    "while(count<3):\n",
    "    print(count)\n",
    "    count += 1"
   ]
  },
  {
   "cell_type": "code",
   "execution_count": 15,
   "id": "47662cf7-a43e-43fd-a072-390dd2384923",
   "metadata": {},
   "outputs": [
    {
     "name": "stdout",
     "output_type": "stream",
     "text": [
      "0\n",
      "1\n",
      "2\n",
      "3\n",
      "4\n",
      "5\n",
      "6\n",
      "7\n",
      "8\n",
      "9\n",
      "10\n",
      "11\n"
     ]
    }
   ],
   "source": [
    "i = 0\n",
    "while(i<12):\n",
    "    print(i)\n",
    "    i += 1"
   ]
  },
  {
   "cell_type": "markdown",
   "id": "4ff4f00e-79d3-4c50-9a8a-a1b810316f09",
   "metadata": {},
   "source": [
    "## 3. Loop Control Statements :"
   ]
  },
  {
   "cell_type": "code",
   "execution_count": 22,
   "id": "35946a3c-884f-4475-9a27-bca9e2c96c7f",
   "metadata": {},
   "outputs": [
    {
     "name": "stdout",
     "output_type": "stream",
     "text": [
      "Hello\n"
     ]
    }
   ],
   "source": [
    "for item in l:  \n",
    "    pass         #Don't do anything.\n",
    "print(\"Hello\")"
   ]
  },
  {
   "cell_type": "code",
   "execution_count": 23,
   "id": "3faa1cf2-b73a-4121-9047-a6693ffa1b65",
   "metadata": {},
   "outputs": [
    {
     "name": "stdout",
     "output_type": "stream",
     "text": [
      "apple\n"
     ]
    }
   ],
   "source": [
    "l = [\"apple\", \"banana\", \"cherry\"]\n",
    "for item in l:\n",
    "    if(item == \"banana\"):\n",
    "        break     #Stop this loop right here.\n",
    "    print(item)"
   ]
  },
  {
   "cell_type": "code",
   "execution_count": 24,
   "id": "a8271c18-187e-4f18-9803-90f4d0c763a6",
   "metadata": {},
   "outputs": [
    {
     "name": "stdout",
     "output_type": "stream",
     "text": [
      "apple\n",
      "cherry\n"
     ]
    }
   ],
   "source": [
    "l = [\"apple\", \"banana\", \"cherry\"]\n",
    "for item in l:\n",
    "    if(item == \"banana\"):\n",
    "        continue  #Skip this particular iteration of the loop.\n",
    "    print(item)"
   ]
  },
  {
   "cell_type": "markdown",
   "id": "7bfdd781-a4a6-4564-b6a3-f1b2a0173ae8",
   "metadata": {},
   "source": [
    "##### Excercise "
   ]
  },
  {
   "cell_type": "markdown",
   "id": "da5db0b1-30cf-4827-ba52-58d5da99c623",
   "metadata": {},
   "source": [
    "##### 1. For Loop :"
   ]
  },
  {
   "cell_type": "markdown",
   "id": "b8941217-9c45-4792-a503-52cc76f5a08e",
   "metadata": {},
   "source": [
    "###### 1. For Loop with list."
   ]
  },
  {
   "cell_type": "code",
   "execution_count": 26,
   "id": "1b68d5a2-afcb-4add-b410-dc9f8c5c775f",
   "metadata": {},
   "outputs": [
    {
     "name": "stdout",
     "output_type": "stream",
     "text": [
      "1\n",
      "2\n",
      "3\n",
      "4\n",
      "5\n"
     ]
    }
   ],
   "source": [
    "l = [1, 2, 3, 4, 5]\n",
    "for item in l:\n",
    "    print(item)"
   ]
  },
  {
   "cell_type": "markdown",
   "id": "2d98ae01-5478-45bb-883c-19f99cf6e46a",
   "metadata": {},
   "source": [
    "###### 2. For Loops using Range:"
   ]
  },
  {
   "cell_type": "code",
   "execution_count": 27,
   "id": "dfe67067-8d3e-4fb0-9304-e2d09f3c29db",
   "metadata": {},
   "outputs": [
    {
     "name": "stdout",
     "output_type": "stream",
     "text": [
      "1\n",
      "2\n",
      "3\n",
      "4\n",
      "5\n",
      "6\n",
      "7\n",
      "8\n",
      "9\n"
     ]
    }
   ],
   "source": [
    "for item in range(1,10):\n",
    "    print(item)"
   ]
  },
  {
   "cell_type": "markdown",
   "id": "f5ea93dc-11b4-4c32-a2c1-8398066802cd",
   "metadata": {},
   "source": [
    "##### 2. While Loop."
   ]
  },
  {
   "cell_type": "code",
   "execution_count": 28,
   "id": "c43e295b-5303-4bd1-8cc6-bee817e3cdf0",
   "metadata": {},
   "outputs": [
    {
     "name": "stdout",
     "output_type": "stream",
     "text": [
      "0\n",
      "1\n",
      "2\n"
     ]
    }
   ],
   "source": [
    "count = 0\n",
    "while(count<3):\n",
    "    print(count)\n",
    "    count += 1"
   ]
  },
  {
   "cell_type": "markdown",
   "id": "988f66c8-640d-4ea9-9567-efb5e8be9dfc",
   "metadata": {},
   "source": [
    "##### 3. Loop Control Statements."
   ]
  },
  {
   "cell_type": "raw",
   "id": "d48d7889-904b-43ce-84b6-99d3f329a502",
   "metadata": {},
   "source": [
    "Break --> Exits the loop.\n",
    "continue --> Skips to the next iteration.\n",
    "pass --> Does nothing(used as a placeholder.)"
   ]
  },
  {
   "cell_type": "code",
   "execution_count": 30,
   "id": "c8f2b8e9-ecd5-4dd9-9167-a0de7dbb65fd",
   "metadata": {},
   "outputs": [
    {
     "name": "stdout",
     "output_type": "stream",
     "text": [
      "0\n",
      "1\n",
      "2\n"
     ]
    }
   ],
   "source": [
    "for i in range(5):\n",
    "    if i == 3:\n",
    "        break\n",
    "    print(i)"
   ]
  },
  {
   "cell_type": "code",
   "execution_count": 31,
   "id": "6b91f6dc-a9af-4e43-b863-fee4982a6c07",
   "metadata": {},
   "outputs": [
    {
     "name": "stdout",
     "output_type": "stream",
     "text": [
      "0\n",
      "1\n",
      "2\n",
      "4\n"
     ]
    }
   ],
   "source": [
    "for i in range(5):\n",
    "    if i == 3:\n",
    "        continue\n",
    "    print(i)"
   ]
  },
  {
   "cell_type": "code",
   "execution_count": 32,
   "id": "d392a822-b2e4-4774-be8b-4ef78162799a",
   "metadata": {},
   "outputs": [
    {
     "name": "stdout",
     "output_type": "stream",
     "text": [
      "0\n",
      "1\n",
      "2\n",
      "3\n",
      "4\n"
     ]
    }
   ],
   "source": [
    "for i in range(5):\n",
    "    if i == 3:\n",
    "        pass\n",
    "    print(i)"
   ]
  },
  {
   "cell_type": "code",
   "execution_count": null,
   "id": "45a2d13e-251b-4f0b-83ac-4bba0cae20fe",
   "metadata": {},
   "outputs": [],
   "source": []
  }
 ],
 "metadata": {
  "kernelspec": {
   "display_name": "Python 3 (ipykernel)",
   "language": "python",
   "name": "python3"
  },
  "language_info": {
   "codemirror_mode": {
    "name": "ipython",
    "version": 3
   },
   "file_extension": ".py",
   "mimetype": "text/x-python",
   "name": "python",
   "nbconvert_exporter": "python",
   "pygments_lexer": "ipython3",
   "version": "3.13.5"
  }
 },
 "nbformat": 4,
 "nbformat_minor": 5
}
