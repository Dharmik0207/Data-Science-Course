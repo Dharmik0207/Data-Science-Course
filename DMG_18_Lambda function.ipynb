{
 "cells": [
  {
   "cell_type": "markdown",
   "id": "5c639a6c-1689-422c-a81f-3d4dcd76471e",
   "metadata": {},
   "source": [
    "# Lambda Functions in Python\n",
    "\n",
    "A **lambda function** in Python is an **anonymous, single-expression function** defined using the `lambda` keyword. It is commonly used for **short, throwaway functions** where a full function definition is unnecessary.\n",
    "\n",
    "---\n",
    "\n",
    "## 1. Syntax of Lambda Functions\n",
    "\n",
    "```python\n",
    "lambda arguments: expression\n",
    "```\n",
    "\n",
    "- `lambda` → Keyword to define a lambda function  \n",
    "- `arguments` → Input parameters (comma-separated)  \n",
    "- `expression` → The operation performed (must be a **single** expression, not multiple statements)  \n",
    "\n",
    "### **Example: Simple Lambda Function**\n",
    "```python\n",
    "square = lambda x: x ** 2\n",
    "print(square(5))  # Output: 25\n",
    "```\n",
    "\n",
    "---\n",
    "\n",
    "## 2. Using Lambda Functions with `map()`, `filter()`, and `reduce()`\n",
    "\n",
    "### **2.1 Using `map()` with Lambda**\n",
    "Applies a function to each element of an iterable.\n",
    "\n",
    "```python\n",
    "numbers = [1, 2, 3, 4]\n",
    "squared = list(map(lambda x: x**2, numbers))\n",
    "print(squared)  # Output: [1, 4, 9, 16]\n",
    "```\n",
    "\n",
    "---\n",
    "\n",
    "### **2.2 Using `filter()` with Lambda**\n",
    "Filters elements based on a condition.\n",
    "\n",
    "```python\n",
    "numbers = [1, 2, 3, 4, 5, 6]\n",
    "evens = list(filter(lambda x: x % 2 == 0, numbers))\n",
    "print(evens)  # Output: [2, 4, 6]\n",
    "```\n",
    "\n",
    "---\n",
    "\n",
    "### **2.3 Using `reduce()` with Lambda**\n",
    "Reduces an iterable to a single value (requires `functools.reduce`).\n",
    "\n",
    "```python\n",
    "from functools import reduce\n",
    "\n",
    "numbers = [1, 2, 3, 4]\n",
    "product = reduce(lambda x, y: x * y, numbers)\n",
    "print(product)  # Output: 24\n",
    "```\n",
    "\n",
    "---\n",
    "\n",
    "## 3. Lambda with Multiple Arguments\n",
    "\n",
    "### **Example: Adding Two Numbers**\n",
    "```python\n",
    "add = lambda x, y: x + y\n",
    "print(add(3, 7))  # Output: 10\n",
    "```\n",
    "\n",
    "### **Example: Finding the Maximum of Two Numbers**\n",
    "```python\n",
    "maximum = lambda x, y: x if x > y else y\n",
    "print(maximum(10, 5))  # Output: 10\n",
    "```\n",
    "\n",
    "---\n",
    "\n",
    "## 4. Lambda in Sorting Functions\n",
    "\n",
    "### **Sorting a List of Tuples**\n",
    "```python\n",
    "students = [(\"Alice\", 85), (\"Bob\", 78), (\"Charlie\", 92)]\n",
    "students.sort(key=lambda student: student[1])  # Sort by score\n",
    "print(students)  # Output: [('Bob', 78), ('Alice', 85), ('Charlie', 92)]\n",
    "```\n",
    "\n",
    "---\n",
    "\n",
    "## 5. When to Use Lambda Functions?\n",
    "\n",
    " **Use Lambda Functions When:**\n",
    "- The function is **short and simple**.\n",
    "- Used **temporarily** inside another function (e.g., `map`, `filter`).\n",
    "- Avoiding defining a full function with `def`.\n",
    "\n",
    " **Avoid Lambda Functions When:**\n",
    "- The function is **complex** (use `def` for readability).\n",
    "- Multiple operations/statements are needed.\n",
    "\n",
    "---\n",
    " "
   ]
  },
  {
   "cell_type": "markdown",
   "id": "3dc4f905-1d42-420b-bc66-b630313d597e",
   "metadata": {},
   "source": [
    "### Practice Of Lambda function :"
   ]
  },
  {
   "cell_type": "code",
   "execution_count": 1,
   "id": "22c79425-af71-4a96-a169-9362f4284cc3",
   "metadata": {},
   "outputs": [],
   "source": [
    "cube = lambda x:x*x*x"
   ]
  },
  {
   "cell_type": "markdown",
   "id": "f81d778e-2b55-4a9e-9df5-c95dea8e6fbc",
   "metadata": {},
   "source": [
    "cube(3)"
   ]
  },
  {
   "cell_type": "code",
   "execution_count": 3,
   "id": "67521834-3ce1-4f4e-9463-cb5f0f7f609c",
   "metadata": {},
   "outputs": [],
   "source": [
    "s = lambda a, b : a+b"
   ]
  },
  {
   "cell_type": "code",
   "execution_count": 4,
   "id": "f3369644-2316-4c8f-8aa8-69fbd8f01590",
   "metadata": {},
   "outputs": [
    {
     "data": {
      "text/plain": [
       "10"
      ]
     },
     "execution_count": 4,
     "metadata": {},
     "output_type": "execute_result"
    }
   ],
   "source": [
    "s(4, 6)"
   ]
  },
  {
   "cell_type": "markdown",
   "id": "20c3d9a9-c2c9-4cd6-84de-e77c7bec72f6",
   "metadata": {},
   "source": [
    "#### Example: 1. Simple Lambda Function"
   ]
  },
  {
   "cell_type": "code",
   "execution_count": 5,
   "id": "5e07efe7-fc32-4a0b-b8c0-d5e8341c80aa",
   "metadata": {},
   "outputs": [],
   "source": [
    "square = lambda x: x**2"
   ]
  },
  {
   "cell_type": "code",
   "execution_count": 7,
   "id": "cf3a9697-bc1c-41fc-a294-379ac4ba4e80",
   "metadata": {},
   "outputs": [
    {
     "name": "stdout",
     "output_type": "stream",
     "text": [
      "25\n"
     ]
    }
   ],
   "source": [
    "print(square(5))"
   ]
  },
  {
   "cell_type": "markdown",
   "id": "439ce9ab-e3aa-40a8-9503-644ffdd3ce7a",
   "metadata": {},
   "source": [
    "#### 2. Using Lambda Functions with map(), filter(), and reduce()"
   ]
  },
  {
   "cell_type": "code",
   "execution_count": 13,
   "id": "55492001-8c43-4ada-a6fb-90e19125df13",
   "metadata": {},
   "outputs": [
    {
     "name": "stdout",
     "output_type": "stream",
     "text": [
      "[1, 4, 9, 16]\n"
     ]
    }
   ],
   "source": [
    "#map(): Applies a function to each element of an iterable.\n",
    "numbers = [1, 2, 3, 4]\n",
    "squared = list(map(lambda x: x**2, numbers))\n",
    "print(squared)"
   ]
  },
  {
   "cell_type": "code",
   "execution_count": 16,
   "id": "3dc19435-455f-4399-8982-e5d3dcb6cbcb",
   "metadata": {},
   "outputs": [
    {
     "name": "stdout",
     "output_type": "stream",
     "text": [
      "[2, 4, 6]\n"
     ]
    }
   ],
   "source": [
    "#filter(): Filters elements based on a condition.\n",
    "numbers = [1, 2, 3, 4, 5, 6]\n",
    "evens = list(filter(lambda x: x % 2 == 0, numbers))\n",
    "print(evens)"
   ]
  },
  {
   "cell_type": "code",
   "execution_count": 17,
   "id": "016a021d-0a0b-4ce9-b5af-bab823438d0b",
   "metadata": {},
   "outputs": [
    {
     "name": "stdout",
     "output_type": "stream",
     "text": [
      "24\n"
     ]
    }
   ],
   "source": [
    "#reduce(): Reduces an iterable to a single value (requires functools.reduce).\n",
    "from functools import reduce\n",
    "\n",
    "numbers = [1, 2, 3, 4]\n",
    "products = reduce(lambda x, y: x * y, numbers)\n",
    "print(products)"
   ]
  },
  {
   "cell_type": "markdown",
   "id": "4a57439b-195c-432e-a9f6-777564cc5e1a",
   "metadata": {},
   "source": [
    "#### 3. Lambda with Multiple Arguments"
   ]
  },
  {
   "cell_type": "code",
   "execution_count": 19,
   "id": "45ba086d-ca55-48ac-8368-182e0be7fc2f",
   "metadata": {},
   "outputs": [
    {
     "name": "stdout",
     "output_type": "stream",
     "text": [
      "10\n"
     ]
    }
   ],
   "source": [
    "#Example: Adding Two Numbers\n",
    "addition = lambda x, y: x + y\n",
    "print(addition(3, 7))"
   ]
  },
  {
   "cell_type": "code",
   "execution_count": 20,
   "id": "a5cde788-db97-4f15-a6bd-c048e2a81f1f",
   "metadata": {},
   "outputs": [
    {
     "name": "stdout",
     "output_type": "stream",
     "text": [
      "15\n"
     ]
    }
   ],
   "source": [
    "#Example: Finding the Maximum of Two Numbers\n",
    "maximum = lambda x, y: x if x > y else y\n",
    "print(maximum(10, 15))"
   ]
  },
  {
   "cell_type": "markdown",
   "id": "9283f36b-b330-4b2f-9df4-89d2aed4d663",
   "metadata": {},
   "source": [
    "#### 4. Lambda in Sorting Functions"
   ]
  },
  {
   "cell_type": "code",
   "execution_count": 22,
   "id": "10b8efd5-d744-4598-a13c-261ba2965103",
   "metadata": {},
   "outputs": [
    {
     "name": "stdout",
     "output_type": "stream",
     "text": [
      "[('Bob', 78), ('Alice', 85), ('Charlie', 92)]\n"
     ]
    }
   ],
   "source": [
    "#Sorting a List of Tuples\n",
    "students = [(\"Alice\", 85),(\"Bob\", 78),(\"Charlie\", 92)]\n",
    "students.sort(key = lambda student : student[1])   # Sort by score\n",
    "print(students)"
   ]
  },
  {
   "cell_type": "markdown",
   "id": "f6490c51-8af4-411b-8117-34984d586bfd",
   "metadata": {},
   "source": [
    "---\n",
    "\n",
    "## Summary\n",
    "\n",
    "| Feature | Example |\n",
    "|---------|---------|\n",
    "| **Basic Lambda Function** | `lambda x: x**2` |\n",
    "| **With `map()`** | `map(lambda x: x**2, numbers)` |\n",
    "| **With `filter()`** | `filter(lambda x: x % 2 == 0, numbers)` |\n",
    "| **With `reduce()`** | `reduce(lambda x, y: x * y, numbers)` |\n",
    "| **Multiple Arguments** | `lambda x, y: x + y` |\n",
    "| **Sorting with Lambda** | `sort(key=lambda x: x[1])` |"
   ]
  },
  {
   "cell_type": "markdown",
   "id": "6a961cb0-b581-48bc-a374-781112e31c0c",
   "metadata": {},
   "source": []
  }
 ],
 "metadata": {
  "kernelspec": {
   "display_name": "Python 3 (ipykernel)",
   "language": "python",
   "name": "python3"
  },
  "language_info": {
   "codemirror_mode": {
    "name": "ipython",
    "version": 3
   },
   "file_extension": ".py",
   "mimetype": "text/x-python",
   "name": "python",
   "nbconvert_exporter": "python",
   "pygments_lexer": "ipython3",
   "version": "3.13.5"
  }
 },
 "nbformat": 4,
 "nbformat_minor": 5
}
