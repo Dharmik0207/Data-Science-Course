{
 "cells": [
  {
   "cell_type": "markdown",
   "id": "592532e2-9fd5-435a-9488-e5157a24a60e",
   "metadata": {},
   "source": [
    "# Core Data Structures in Pandas\n",
    "\n",
    "Pandas is built on **two main data structures**:\n",
    "\n",
    "1. **Series** → One-dimensional (like a single column in Excel)\n",
    "2. **DataFrame** → Two-dimensional (like a full spreadsheet or SQL table)\n",
    "\n",
    "***"
   ]
  },
  {
   "cell_type": "markdown",
   "id": "f509b3de-65ae-4ed1-87d0-3c4895ae9c93",
   "metadata": {},
   "source": [
    "## Series — 1D Labeled Array\n",
    "\n",
    "A `Series` is like a list with **labels (index)**.\n",
    "\n",
    "```python\n",
    "\n"
   ]
  },
  {
   "cell_type": "markdown",
   "id": "989e6029-213f-492b-9301-b8f35f2f4a91",
   "metadata": {},
   "source": [
    "\n",
    "```python\n",
    "import pandas as pd\n",
    "\n",
    "s = pd.Series([10, 20, 30, 40])\n",
    "print(s)\n",
    "```\n",
    "\n",
    "**Output:**\n",
    "\n",
    "```\n",
    "0    10\n",
    "1    20\n",
    "2    30\n",
    "3    40\n",
    "dtype: int64\n",
    "```\n",
    "\n",
    "Notice the **automatic index**: 0, 1, 2, 3\n",
    "\n",
    "You can also define a custom index:\n",
    "\n",
    "```python\n",
    "s = pd.Series([10, 20, 30], index=[\"a\", \"b\", \"c\"])\n",
    "```\n",
    "\n",
    "A `pandas.Series` may look similar to a Python dictionary because both store data with labels, but a Series offers much more. Unlike a dictionary, a Series supports fast vectorized operations, automatic index alignment during arithmetic, and handles missing data using `NaN`. It also allows both label-based and position-based access, and integrates seamlessly with the pandas ecosystem, especially DataFrames. While a dictionary is great for simple key–value storage, a Series is better suited for data analysis and manipulation tasks where performance, flexibility, and built-in functionality matter.\n",
    "\n",
    "***\n",
    "\n"
   ]
  },
  {
   "cell_type": "markdown",
   "id": "704b3e74-1bcd-4e47-acac-17de1742bd33",
   "metadata": {},
   "source": [
    "## DataFrame — 2D Labeled Table\n",
    "\n",
    "A `DataFrame` is like a **dictionary of Series** — multiple columns with labels.\n",
    "\n",
    "```python\n",
    "data = {\n",
    "    \"name\": [\"Alice\", \"Bob\", \"Charlie\"],\n",
    "    \"age\": [25, 30, 35],\n",
    "    \"city\": [\"Delhi\", \"Mumbai\", \"Bangalore\"]\n",
    "}\n",
    "\n",
    "df = pd.DataFrame(data)\n",
    "print(df)\n",
    "```\n",
    "\n",
    "**Output:**\n",
    "\n",
    "```\n",
    "     name  age      city\n",
    "0   Alice   25     Delhi\n",
    "1     Bob   30    Mumbai\n",
    "2  Charlie   35  Bangalore\n",
    "```\n",
    "\n",
    "Each column in a `DataFrame` is a `Series`.\n",
    "\n",
    "***\n",
    "\n"
   ]
  },
  {
   "cell_type": "markdown",
   "id": "518ce017-0463-467a-bfeb-c0887e3d4d15",
   "metadata": {},
   "source": [
    "## Index and Labels\n",
    "\n",
    "Every Series and DataFrame has an **Index** — it helps with:\n",
    "\n",
    "* Fast lookups\n",
    "* Aligning data\n",
    "* Merging & joining\n",
    "* Time series operations\n",
    "\n",
    "```python\n",
    "df.index         # Row labels\n",
    "df.columns       # Column labels\n",
    "```\n",
    "\n",
    "You can change them using:\n",
    "\n",
    "```python\n",
    "df.index = [\"a\", \"b\", \"c\"]\n",
    "df.columns = [\"Name\", \"Age\", \"City\"]\n",
    "```\n",
    "\n",
    "***"
   ]
  },
  {
   "cell_type": "markdown",
   "id": "2946d95c-796d-4d60-8e3c-541557726328",
   "metadata": {},
   "source": [
    "## Why Learn These Well?\n",
    "\n",
    "Most Pandas operations are built on these foundations:\n",
    "\n",
    "* Selection\n",
    "* Filtering\n",
    "* Merging\n",
    "* Aggregation\n",
    "\n",
    "Understanding Series & DataFrames will make everything else easier.\n",
    "\n",
    "***"
   ]
  },
  {
   "cell_type": "markdown",
   "id": "06ea08fc-4c62-45e7-87ee-116f2689fc5a",
   "metadata": {},
   "source": [
    "## Summary\n",
    "\n",
    "* `Series` = 1D array with labels\n",
    "* `DataFrame` = 2D table with rows + columns\n",
    "* Both come with index and are the heart of Pandas"
   ]
  },
  {
   "cell_type": "code",
   "execution_count": 1,
   "id": "8e1a6c72-fbb1-4d39-9775-a6de815bfe6b",
   "metadata": {},
   "outputs": [],
   "source": [
    "import pandas as pd"
   ]
  },
  {
   "cell_type": "code",
   "execution_count": 7,
   "id": "75f9a343-353d-4925-9476-fe7d063b62d9",
   "metadata": {},
   "outputs": [
    {
     "data": {
      "text/plain": [
       "0    72\n",
       "1    75\n",
       "2    94\n",
       "3    59\n",
       "4    83\n",
       "5    61\n",
       "dtype: int64"
      ]
     },
     "execution_count": 7,
     "metadata": {},
     "output_type": "execute_result"
    }
   ],
   "source": [
    "s1 = pd.Series([72, 75, 94, 59, 83, 61])\n",
    "s1"
   ]
  },
  {
   "cell_type": "code",
   "execution_count": 8,
   "id": "c8e18096-eab3-47f2-955d-6b17dd7089ec",
   "metadata": {},
   "outputs": [
    {
     "data": {
      "text/plain": [
       "pandas.core.series.Series"
      ]
     },
     "execution_count": 8,
     "metadata": {},
     "output_type": "execute_result"
    }
   ],
   "source": [
    "type(s1)    "
   ]
  },
  {
   "cell_type": "code",
   "execution_count": 10,
   "id": "90a33891-7f7a-4d26-94c4-8adb03daaef6",
   "metadata": {},
   "outputs": [
    {
     "data": {
      "text/plain": [
       "Dharmik    72\n",
       "Kirti      75\n",
       "Harsh      94\n",
       "Khushi     59\n",
       "Mayur      83\n",
       "Brijesh    61\n",
       "dtype: int64"
      ]
     },
     "execution_count": 10,
     "metadata": {},
     "output_type": "execute_result"
    }
   ],
   "source": [
    "s2 = pd.Series([72, 75, 94, 59, 83, 61], index=[\"Dharmik\", \"Kirti\", \"Harsh\", \"Khushi\", \"Mayur\", \"Brijesh\"])\n",
    "s2"
   ]
  },
  {
   "cell_type": "code",
   "execution_count": 11,
   "id": "2ce11da2-e223-4c0a-af40-9301e3b2d227",
   "metadata": {},
   "outputs": [
    {
     "data": {
      "text/plain": [
       "np.int64(72)"
      ]
     },
     "execution_count": 11,
     "metadata": {},
     "output_type": "execute_result"
    }
   ],
   "source": [
    "s2[\"Dharmik\"]"
   ]
  },
  {
   "cell_type": "code",
   "execution_count": 12,
   "id": "20867839-a217-4224-bb47-90ed3e7053bf",
   "metadata": {},
   "outputs": [],
   "source": [
    "data = {\"name\": [\"Dharmik\", \"Kirti\", \"Vishwa\"], \"age\": [26, 25, 26], \"City\": [\"Frankfurt\", \"Surat\", \"Surat\"]}"
   ]
  },
  {
   "cell_type": "code",
   "execution_count": 14,
   "id": "2aa19316-f1b0-475a-a38f-0eada280ad36",
   "metadata": {},
   "outputs": [],
   "source": [
    "df = pd.DataFrame(data)"
   ]
  },
  {
   "cell_type": "code",
   "execution_count": 15,
   "id": "88bf2252-7921-4a2a-8d78-3a1042c39030",
   "metadata": {},
   "outputs": [
    {
     "data": {
      "text/html": [
       "<div>\n",
       "<style scoped>\n",
       "    .dataframe tbody tr th:only-of-type {\n",
       "        vertical-align: middle;\n",
       "    }\n",
       "\n",
       "    .dataframe tbody tr th {\n",
       "        vertical-align: top;\n",
       "    }\n",
       "\n",
       "    .dataframe thead th {\n",
       "        text-align: right;\n",
       "    }\n",
       "</style>\n",
       "<table border=\"1\" class=\"dataframe\">\n",
       "  <thead>\n",
       "    <tr style=\"text-align: right;\">\n",
       "      <th></th>\n",
       "      <th>name</th>\n",
       "      <th>age</th>\n",
       "      <th>City</th>\n",
       "    </tr>\n",
       "  </thead>\n",
       "  <tbody>\n",
       "    <tr>\n",
       "      <th>0</th>\n",
       "      <td>Dharmik</td>\n",
       "      <td>26</td>\n",
       "      <td>Frankfurt</td>\n",
       "    </tr>\n",
       "    <tr>\n",
       "      <th>1</th>\n",
       "      <td>Kirti</td>\n",
       "      <td>25</td>\n",
       "      <td>Surat</td>\n",
       "    </tr>\n",
       "    <tr>\n",
       "      <th>2</th>\n",
       "      <td>Vishwa</td>\n",
       "      <td>26</td>\n",
       "      <td>Surat</td>\n",
       "    </tr>\n",
       "  </tbody>\n",
       "</table>\n",
       "</div>"
      ],
      "text/plain": [
       "      name  age       City\n",
       "0  Dharmik   26  Frankfurt\n",
       "1    Kirti   25      Surat\n",
       "2   Vishwa   26      Surat"
      ]
     },
     "execution_count": 15,
     "metadata": {},
     "output_type": "execute_result"
    }
   ],
   "source": [
    "df"
   ]
  },
  {
   "cell_type": "code",
   "execution_count": 16,
   "id": "be9e900a-9e77-4f71-9f77-7fcb741df7b2",
   "metadata": {},
   "outputs": [
    {
     "data": {
      "text/plain": [
       "RangeIndex(start=0, stop=3, step=1)"
      ]
     },
     "execution_count": 16,
     "metadata": {},
     "output_type": "execute_result"
    }
   ],
   "source": [
    "df.index"
   ]
  },
  {
   "cell_type": "code",
   "execution_count": 17,
   "id": "980f70d9-96d5-462f-8e1a-7218a90a6d96",
   "metadata": {},
   "outputs": [
    {
     "data": {
      "text/plain": [
       "Index(['name', 'age', 'City'], dtype='object')"
      ]
     },
     "execution_count": 17,
     "metadata": {},
     "output_type": "execute_result"
    }
   ],
   "source": [
    "df.columns"
   ]
  },
  {
   "cell_type": "code",
   "execution_count": null,
   "id": "e38b1532-b2d5-4fad-8085-efb732540679",
   "metadata": {},
   "outputs": [],
   "source": []
  }
 ],
 "metadata": {
  "kernelspec": {
   "display_name": "Python 3 (ipykernel)",
   "language": "python",
   "name": "python3"
  },
  "language_info": {
   "codemirror_mode": {
    "name": "ipython",
    "version": 3
   },
   "file_extension": ".py",
   "mimetype": "text/x-python",
   "name": "python",
   "nbconvert_exporter": "python",
   "pygments_lexer": "ipython3",
   "version": "3.13.5"
  }
 },
 "nbformat": 4,
 "nbformat_minor": 5
}
