{
 "cells": [
  {
   "cell_type": "markdown",
   "id": "9e27df8b-3782-42ec-98aa-73ebc530ead1",
   "metadata": {},
   "source": [
    "## Conditional Statements in Python."
   ]
  },
  {
   "cell_type": "markdown",
   "id": "2f8327ff-ac33-4653-bae8-5c6d5f2f7b67",
   "metadata": {},
   "source": [
    "##### In Python, conditional statements (`if`, `elif`, and `else`) are used to control the flow of a program based on conditions. These are essential in data science for handling different scenarios in data processing, decision-making, and logic execution."
   ]
  },
  {
   "cell_type": "markdown",
   "id": "2541508e-a9e7-4756-9322-9c4492a28771",
   "metadata": {},
   "source": [
    "## Basic `if` Statement\n",
    "The `if` statement allows you to execute a block of code only if a condition is `True`."
   ]
  },
  {
   "cell_type": "markdown",
   "id": "42ad30ea-8723-46e6-8cb4-21eb33f680c9",
   "metadata": {},
   "source": [
    "```python\n",
    "x = 10\n",
    "if x > 5:\n",
    "    print(\"x is greater than 5\")\n",
    "```"
   ]
  },
  {
   "cell_type": "markdown",
   "id": "8f1f0901-c23d-429c-b85c-5ea84f528b28",
   "metadata": {},
   "source": [
    "### Explanation:"
   ]
  },
  {
   "cell_type": "markdown",
   "id": "2127bb1d-57ee-43d2-ba6f-32c557c71f43",
   "metadata": {},
   "source": [
    "- The condition `x > 5` is checked.\n",
    "- If `True`, the indented block under `if` runs.\n",
    "- If `False`, nothing happens."
   ]
  },
  {
   "cell_type": "markdown",
   "id": "015b3019-8971-4f1c-8716-7ac12bb4a487",
   "metadata": {},
   "source": [
    "## `if-else` Statement\n",
    "The `else` block executes when the `if` condition is `False`.\n",
    "\n",
    "```python\n",
    "x = 3\n",
    "if x > 5:\n",
    "    print(\"x is greater than 5\")\n",
    "else:\n",
    "    print(\"x is not greater than 5\")\n",
    "```"
   ]
  },
  {
   "cell_type": "markdown",
   "id": "13b71574-7493-4afa-90a5-d46f3af00979",
   "metadata": {},
   "source": [
    "### Explanation:\n",
    "- If `x > 5`, it prints the first message.\n",
    "- Otherwise, the `else` block executes."
   ]
  },
  {
   "cell_type": "markdown",
   "id": "e015159c-83aa-4fe1-a3c4-8b8907c1f378",
   "metadata": {},
   "source": [
    "## `if-elif-else` Statement\n",
    "When multiple conditions need to be checked sequentially, use `elif` (short for \"else if\").\n",
    "\n",
    "```python\n",
    "x = 5\n",
    "if x > 10:\n",
    "    print(\"x is greater than 10\")\n",
    "elif x > 5:\n",
    "    print(\"x is greater than 5 but not more than 10\")\n",
    "elif x == 5:\n",
    "    print(\"x is exactly 5\")\n",
    "else:\n",
    "    print(\"x is less than 5\")\n",
    "```\n"
   ]
  },
  {
   "cell_type": "markdown",
   "id": "ef5d9cdd-ace1-4461-8007-9d432c023e55",
   "metadata": {},
   "source": [
    "### Explanation:\n",
    "- The conditions are checked from top to bottom.\n",
    "- The first `True` condition executes, and the rest are skipped."
   ]
  },
  {
   "cell_type": "markdown",
   "id": "2eecfc57-f33e-4420-ad66-382d088b5a75",
   "metadata": {},
   "source": [
    "## Using `if-else` in Data Science\n",
    "Conditional statements are widely used in data science for filtering, cleaning, and decision-making.\n",
    "\n",
    "### Example: Categorizing Data\n",
    "```python\n",
    "age = 25\n",
    "if age < 18:\n",
    "    category = \"Minor\"\n",
    "elif age < 65:\n",
    "    category = \"Adult\"\n",
    "else:\n",
    "    category = \"Senior Citizen\"\n",
    "\n",
    "print(\"Category:\", category)"
   ]
  },
  {
   "cell_type": "code",
   "execution_count": 4,
   "id": "58b97ffd-7469-4c5a-921e-57453750d922",
   "metadata": {},
   "outputs": [],
   "source": [
    "a = 400"
   ]
  },
  {
   "cell_type": "code",
   "execution_count": 5,
   "id": "570e68f6-af55-4e10-85ea-437ea3ac7239",
   "metadata": {},
   "outputs": [
    {
     "name": "stdout",
     "output_type": "stream",
     "text": [
      "Greater!\n"
     ]
    }
   ],
   "source": [
    "if(a > 53):\n",
    "     print(\"Greater!\")\n",
    "else:\n",
    "     print(\"Smaller!\")\n"
   ]
  },
  {
   "cell_type": "code",
   "execution_count": 6,
   "id": "a40fec84-ece9-4127-9f14-19c02e8a1ece",
   "metadata": {},
   "outputs": [],
   "source": [
    "a = 33"
   ]
  },
  {
   "cell_type": "code",
   "execution_count": 7,
   "id": "eb47bde5-85e1-4d1c-a3e0-8ccf05dfa19c",
   "metadata": {},
   "outputs": [
    {
     "name": "stdout",
     "output_type": "stream",
     "text": [
      "Greater than 30\n"
     ]
    }
   ],
   "source": [
    "if(a>50):\n",
    "    print(\"Greater than 50\")\n",
    "elif(a>40):\n",
    "    print(\"Greater than 40\")\n",
    "elif(a>30):\n",
    "    print(\"Greater than 30\")\n",
    "else:\n",
    "    print(\"Done!\")"
   ]
  },
  {
   "cell_type": "markdown",
   "id": "b8eec039-956f-4a37-8212-4b73f3f51c3b",
   "metadata": {},
   "source": [
    "## Functions in Python. "
   ]
  },
  {
   "cell_type": "markdown",
   "id": "9dee0ec0-ae4a-409f-9597-c4926b41be76",
   "metadata": {},
   "source": [
    "### 1. Defining a Function."
   ]
  },
  {
   "cell_type": "code",
   "execution_count": 8,
   "id": "9f6621ef-b37b-4d1a-bdf1-d82e9ec7659a",
   "metadata": {},
   "outputs": [],
   "source": [
    "def greet(name):\n",
    "    return f\"Hello, {name}!\""
   ]
  },
  {
   "cell_type": "markdown",
   "id": "1adf8e7e-a20f-431e-8567-366203fc7340",
   "metadata": {},
   "source": [
    "### 2. Calling a Function."
   ]
  },
  {
   "cell_type": "code",
   "execution_count": 9,
   "id": "b1578acb-06aa-42e9-9b8e-15b40f2b2edb",
   "metadata": {},
   "outputs": [
    {
     "name": "stdout",
     "output_type": "stream",
     "text": [
      "Hello, Alice!\n"
     ]
    }
   ],
   "source": [
    "print(greet(\"Alice\"))"
   ]
  },
  {
   "cell_type": "markdown",
   "id": "cd6ed388-7ce2-4a23-88c9-1cfb64be3bdc",
   "metadata": {},
   "source": [
    "##### Example :"
   ]
  },
  {
   "cell_type": "code",
   "execution_count": 11,
   "id": "37884e76-4a4a-4a62-91a7-ab1c669d26e1",
   "metadata": {},
   "outputs": [
    {
     "name": "stdout",
     "output_type": "stream",
     "text": [
      "Hello, Kirti!\n"
     ]
    }
   ],
   "source": [
    "def greet(name):\n",
    "    return f\"Hello, {name}!\"\n",
    "print(greet(\"Kirti\"))"
   ]
  },
  {
   "cell_type": "markdown",
   "id": "e3a89714-0605-4f59-9a80-76ace69ad6f9",
   "metadata": {},
   "source": [
    "### 3. Function with Default Argument."
   ]
  },
  {
   "cell_type": "code",
   "execution_count": 14,
   "id": "98f1c736-5dbb-4d28-b9d3-80e42007c964",
   "metadata": {},
   "outputs": [
    {
     "name": "stdout",
     "output_type": "stream",
     "text": [
      "Hello, Dharmik!\n"
     ]
    }
   ],
   "source": [
    "def greet(name=\"Dharmik\"):\n",
    "    return f\"Hello, {name}!\"\n",
    "print(greet())"
   ]
  },
  {
   "cell_type": "markdown",
   "id": "6a3d1f80-e31b-46c1-b26a-f7d1377678e2",
   "metadata": {},
   "source": [
    "### 4. Function with Multiple Arguments."
   ]
  },
  {
   "cell_type": "code",
   "execution_count": 16,
   "id": "cac642a2-9311-45a3-b477-e6ff0e390634",
   "metadata": {},
   "outputs": [
    {
     "name": "stdout",
     "output_type": "stream",
     "text": [
      "8\n"
     ]
    }
   ],
   "source": [
    "def add(a, b):\n",
    "    return a + b\n",
    "print(add(3, 5))"
   ]
  },
  {
   "cell_type": "code",
   "execution_count": 17,
   "id": "17f5fc9c-c77a-4126-bfbf-43a5e447cd35",
   "metadata": {},
   "outputs": [],
   "source": [
    "def avg(a, b=10):\n",
    "    return (a+b)/2"
   ]
  },
  {
   "cell_type": "code",
   "execution_count": 18,
   "id": "871a25c1-3dc4-4311-8456-bae331a3af56",
   "metadata": {},
   "outputs": [
    {
     "data": {
      "text/plain": [
       "5.0"
      ]
     },
     "execution_count": 18,
     "metadata": {},
     "output_type": "execute_result"
    }
   ],
   "source": [
    "avg(4,6)"
   ]
  },
  {
   "cell_type": "code",
   "execution_count": 19,
   "id": "c0ab587e-e486-43c1-8259-ff6a6e2e8ec9",
   "metadata": {},
   "outputs": [
    {
     "data": {
      "text/plain": [
       "7.0"
      ]
     },
     "execution_count": 19,
     "metadata": {},
     "output_type": "execute_result"
    }
   ],
   "source": [
    "avg(4)"
   ]
  },
  {
   "cell_type": "code",
   "execution_count": 21,
   "id": "70080aef-5f6d-4f33-8060-7b88b32fe821",
   "metadata": {},
   "outputs": [
    {
     "name": "stdout",
     "output_type": "stream",
     "text": [
      "Hello Good Morning\n"
     ]
    }
   ],
   "source": [
    "def greet():\n",
    "    print(\"Hello Good Morning\")\n",
    "greet()"
   ]
  },
  {
   "cell_type": "code",
   "execution_count": null,
   "id": "6c732d24-0a9b-46de-8b22-db87f99c8271",
   "metadata": {},
   "outputs": [],
   "source": []
  }
 ],
 "metadata": {
  "kernelspec": {
   "display_name": "Python 3 (ipykernel)",
   "language": "python",
   "name": "python3"
  },
  "language_info": {
   "codemirror_mode": {
    "name": "ipython",
    "version": 3
   },
   "file_extension": ".py",
   "mimetype": "text/x-python",
   "name": "python",
   "nbconvert_exporter": "python",
   "pygments_lexer": "ipython3",
   "version": "3.13.5"
  }
 },
 "nbformat": 4,
 "nbformat_minor": 5
}
