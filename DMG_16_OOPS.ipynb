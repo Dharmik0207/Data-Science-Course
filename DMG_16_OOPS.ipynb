{
 "cells": [
  {
   "cell_type": "code",
   "execution_count": 11,
   "id": "6a12379e-867d-4aba-88b7-a43b410c1c2e",
   "metadata": {},
   "outputs": [
    {
     "name": "stdout",
     "output_type": "stream",
     "text": [
      "The company of Dharmik is CGI with salary $52000\n"
     ]
    }
   ],
   "source": [
    "class Employee:\n",
    "    company = \"CGI\"\n",
    "    def __init__(self, name, salary):\n",
    "        self.name = name\n",
    "        self.salary = salary\n",
    "\n",
    "    def printDetails(self):\n",
    "        print(f\"The company of {self.name} is {self.company} with salary ${self.salary}\")\n",
    "\n",
    "e = Employee(\"Dharmik\", 52000)\n",
    "e.printDetails()"
   ]
  },
  {
   "cell_type": "code",
   "execution_count": 14,
   "id": "c686c6fb-1b8b-4993-9dd7-ea8da62bbdf7",
   "metadata": {},
   "outputs": [
    {
     "name": "stdout",
     "output_type": "stream",
     "text": [
      "The company of Kirti is ZARA with salary $45000\n",
      "The time is now\n",
      "The company is ZARA\n"
     ]
    }
   ],
   "source": [
    "class Employee:\n",
    "    company = \"ZARA\"\n",
    "    def __init__(self, name, salary):\n",
    "        self.name = name\n",
    "        self.salary = salary\n",
    "\n",
    "    def printDetails(self):\n",
    "        print(f\"The company of {self.name} is {self.company} with salary ${self.salary}\")\n",
    "\n",
    "    @staticmethod  #Shows we don't need to use the self method; you can use it independently.\n",
    "    def printTime():\n",
    "        print(f\"The time is now\")\n",
    "\n",
    "    @classmethod\n",
    "    def printClassDetails(cls):\n",
    "        print(f\"The company is {cls.company}\")\n",
    "            \n",
    "\n",
    "e = Employee(\"Kirti\", 45000)\n",
    "e.printDetails()\n",
    "e.printTime()\n",
    "e.printClassDetails()"
   ]
  },
  {
   "cell_type": "markdown",
   "id": "93ddd90a-4681-4416-b66a-55b186f74f89",
   "metadata": {},
   "source": [
    "# Object-Oriented Programming (OOP) in Python\n",
    "\n",
    "Object-Oriented Programming (OOP) is a **programming paradigm** that organizes code into objects that contain both **data (attributes)** and **behavior (methods)**.\n",
    "\n",
    "---\n",
    "\n",
    "## Key Concepts of OOP\n",
    "\n",
    "| Concept | Description |\n",
    "|---------|-------------|\n",
    "| **Class** | A blueprint for creating objects. |\n",
    "| **Object** | An instance of a class with specific data and behavior. |\n",
    "| **Attributes** | Variables that store data for an object. |\n",
    "| **Methods** | Functions inside a class that define object behavior. |\n",
    "| **Encapsulation** | Restricting direct access to an object's data. |\n",
    "| **Inheritance** | Creating a new class from an existing class. |\n",
    "| **Polymorphism** | Using the same method name for different classes. |\n",
    "\n",
    "---"
   ]
  },
  {
   "cell_type": "markdown",
   "id": "770ca8e1-b6e5-48ed-90f0-d55ba9c32ccc",
   "metadata": {},
   "source": [
    "## 1. Defining a Class and Creating an Object\n",
    "\n",
    "### **Creating a Class**\n",
    "```python\n",
    "class Car:\n",
    "    def __init__(self, brand, model):\n",
    "        self.brand = brand  # Attribute\n",
    "        self.model = model  # Attribute\n",
    "\n",
    "    def display_info(self):  # Method\n",
    "        return f\"{self.brand} {self.model}\"\n",
    "\n",
    "# Creating an Object (Instance)\n",
    "car1 = Car(\"Toyota\", \"Camry\")\n",
    "print(car1.display_info())  # Output: Toyota Camry\n",
    "```"
   ]
  },
  {
   "cell_type": "markdown",
   "id": "f69a2794-a71f-43bb-9ccd-d76951f66958",
   "metadata": {},
   "source": [
    "### Practice: Defining and Creating a class"
   ]
  },
  {
   "cell_type": "code",
   "execution_count": 29,
   "id": "da95468b-c12c-4a6c-a371-b58fdaa55923",
   "metadata": {},
   "outputs": [
    {
     "name": "stdout",
     "output_type": "stream",
     "text": [
      "The train called The Intercity Express departs at 10:30 AM\n"
     ]
    }
   ],
   "source": [
    "class StationDetails:\n",
    "    def __init__(self, train, time):\n",
    "        self.train = train   # Attribute\n",
    "        self.time = time  # Attribute\n",
    "\n",
    "    def display_info(self):\n",
    "        print(f\"The train called {self.train} departs at {self.time}\")\n",
    "\n",
    "t = StationDetails(\"The Intercity Express\", \"10:30 AM\")\n",
    "t.display_info()\n"
   ]
  },
  {
   "cell_type": "markdown",
   "id": "2c068c59-9bcc-41f1-bba6-892d5f7cb33c",
   "metadata": {},
   "source": [
    "## 2. **Encapsulation** (Data Hiding)\n",
    "Encapsulation prevents direct modification of attributes and allows controlled access using **getter and setter methods**.\n",
    "\n",
    "```python\n",
    "class BankAccount:\n",
    "    def __init__(self, balance):\n",
    "        self.__balance = balance  # Private Attribute\n",
    "\n",
    "    def get_balance(self):  # Getter\n",
    "        return self.__balance\n",
    "\n",
    "    def deposit(self, amount):  # Setter\n",
    "        if amount > 0:\n",
    "            self.__balance += amount\n",
    "\n",
    "# Using Encapsulation\n",
    "account = BankAccount(1000)\n",
    "account.deposit(500)\n",
    "print(account.get_balance())  # Output: 1500\n",
    "```\n",
    "🔹 **Why use encapsulation?**  \n",
    "It protects data by restricting direct modification.\n",
    "\n",
    "---"
   ]
  },
  {
   "cell_type": "code",
   "execution_count": 47,
   "id": "afac2e41-60a1-44c4-add7-c6512877bae0",
   "metadata": {},
   "outputs": [
    {
     "ename": "AttributeError",
     "evalue": "'BankAccount' object has no attribute 'get__balance'",
     "output_type": "error",
     "traceback": [
      "\u001b[31m---------------------------------------------------------------------------\u001b[39m",
      "\u001b[31mAttributeError\u001b[39m                            Traceback (most recent call last)",
      "\u001b[36mCell\u001b[39m\u001b[36m \u001b[39m\u001b[32mIn[47]\u001b[39m\u001b[32m, line 16\u001b[39m\n\u001b[32m     14\u001b[39m account = BankAccount()\n\u001b[32m     15\u001b[39m account.deposit(\u001b[32m500\u001b[39m)\n\u001b[32m---> \u001b[39m\u001b[32m16\u001b[39m \u001b[38;5;28mprint\u001b[39m(account.get_balance())\n",
      "\u001b[36mCell\u001b[39m\u001b[36m \u001b[39m\u001b[32mIn[47]\u001b[39m\u001b[32m, line 6\u001b[39m, in \u001b[36mBankAccount.get_balance\u001b[39m\u001b[34m(self)\u001b[39m\n\u001b[32m      5\u001b[39m \u001b[38;5;28;01mdef\u001b[39;00m\u001b[38;5;250m \u001b[39m\u001b[34mget_balance\u001b[39m(\u001b[38;5;28mself\u001b[39m):   \u001b[38;5;66;03m# Getter\u001b[39;00m\n\u001b[32m----> \u001b[39m\u001b[32m6\u001b[39m     \u001b[38;5;28;01mreturn\u001b[39;00m \u001b[38;5;28mself\u001b[39m.get__balance\n",
      "\u001b[31mAttributeError\u001b[39m: 'BankAccount' object has no attribute 'get__balance'"
     ]
    }
   ],
   "source": [
    "class BankAccount:\n",
    "    def __init__(self, balance=0):\n",
    "        self.__balance = balance  # Private Attribute\n",
    "        \n",
    "    def get_balance(self):   # Getter\n",
    "        return self.get__balance\n",
    "\n",
    "    def deposit(self, amount):   # Setter\n",
    "        if amount > 0:\n",
    "            self.__balance += amount\n",
    "        else:\n",
    "            print(\"Deposit must be positive\")\n",
    "\n",
    "account = BankAccount()\n",
    "account.deposit(500)\n",
    "print(account.get_balance())"
   ]
  },
  {
   "cell_type": "markdown",
   "id": "2be20bdf-f1ff-404f-a153-d8c42b043f78",
   "metadata": {},
   "source": [
    "## 3. **Inheritance** (Reusing Code)\n",
    "Inheritance allows a class (**child**) to inherit attributes and methods from another class (**parent**).\n",
    "\n",
    "### **Example of Single Inheritance**\n",
    "```python\n",
    "class Animal:\n",
    "    def speak(self):\n",
    "        return \"Animal makes a sound\"\n",
    "\n",
    "class Dog(Animal):  # Inheriting from Animal\n",
    "    def speak(self):\n",
    "        return \"Bark\"\n",
    "\n",
    "dog = Dog()\n",
    "print(dog.speak())  # Output: Bark\n",
    "```\n",
    "\n",
    "🔹 **Why use inheritance?**  \n",
    "It promotes **code reusability** and maintains a cleaner code structure.\n",
    "\n",
    "---"
   ]
  },
  {
   "cell_type": "code",
   "execution_count": null,
   "id": "706f2988-d225-4f10-9824-5a0879868aa6",
   "metadata": {},
   "outputs": [],
   "source": []
  }
 ],
 "metadata": {
  "kernelspec": {
   "display_name": "Python 3 (ipykernel)",
   "language": "python",
   "name": "python3"
  },
  "language_info": {
   "codemirror_mode": {
    "name": "ipython",
    "version": 3
   },
   "file_extension": ".py",
   "mimetype": "text/x-python",
   "name": "python",
   "nbconvert_exporter": "python",
   "pygments_lexer": "ipython3",
   "version": "3.13.5"
  }
 },
 "nbformat": 4,
 "nbformat_minor": 5
}
