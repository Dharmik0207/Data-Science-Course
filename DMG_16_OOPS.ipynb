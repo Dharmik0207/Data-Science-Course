{
 "cells": [
  {
   "cell_type": "code",
   "execution_count": 11,
   "id": "6a12379e-867d-4aba-88b7-a43b410c1c2e",
   "metadata": {},
   "outputs": [
    {
     "name": "stdout",
     "output_type": "stream",
     "text": [
      "The company of Dharmik is CGI with salary $52000\n"
     ]
    }
   ],
   "source": [
    "class Employee:\n",
    "    company = \"CGI\"\n",
    "    def __init__(self, name, salary):\n",
    "        self.name = name\n",
    "        self.salary = salary\n",
    "\n",
    "    def printDetails(self):\n",
    "        print(f\"The company of {self.name} is {self.company} with salary ${self.salary}\")\n",
    "\n",
    "e = Employee(\"Dharmik\", 52000)\n",
    "e.printDetails()"
   ]
  },
  {
   "cell_type": "code",
   "execution_count": 14,
   "id": "c686c6fb-1b8b-4993-9dd7-ea8da62bbdf7",
   "metadata": {},
   "outputs": [
    {
     "name": "stdout",
     "output_type": "stream",
     "text": [
      "The company of Kirti is ZARA with salary $45000\n",
      "The time is now\n",
      "The company is ZARA\n"
     ]
    }
   ],
   "source": [
    "class Employee:\n",
    "    company = \"ZARA\"\n",
    "    def __init__(self, name, salary):\n",
    "        self.name = name\n",
    "        self.salary = salary\n",
    "\n",
    "    def printDetails(self):\n",
    "        print(f\"The company of {self.name} is {self.company} with salary ${self.salary}\")\n",
    "\n",
    "    @staticmethod  #Shows we don't need to use the self method; you can use it independently.\n",
    "    def printTime():\n",
    "        print(f\"The time is now\")\n",
    "\n",
    "    @classmethod\n",
    "    def printClassDetails(cls):\n",
    "        print(f\"The company is {cls.company}\")\n",
    "            \n",
    "\n",
    "e = Employee(\"Kirti\", 45000)\n",
    "e.printDetails()\n",
    "e.printTime()\n",
    "e.printClassDetails()"
   ]
  },
  {
   "cell_type": "markdown",
   "id": "93ddd90a-4681-4416-b66a-55b186f74f89",
   "metadata": {},
   "source": [
    "# Object-Oriented Programming (OOP) in Python\n",
    "\n",
    "Object-Oriented Programming (OOP) is a **programming paradigm** that organizes code into objects that contain both **data (attributes)** and **behavior (methods)**.\n",
    "\n",
    "---\n",
    "\n",
    "## Key Concepts of OOP\n",
    "\n",
    "| Concept | Description |\n",
    "|---------|-------------|\n",
    "| **Class** | A blueprint for creating objects. |\n",
    "| **Object** | An instance of a class with specific data and behavior. |\n",
    "| **Attributes** | Variables that store data for an object. |\n",
    "| **Methods** | Functions inside a class that define object behavior. |\n",
    "| **Encapsulation** | Restricting direct access to an object's data. |\n",
    "| **Inheritance** | Creating a new class from an existing class. |\n",
    "| **Polymorphism** | Using the same method name for different classes. |\n",
    "\n",
    "---"
   ]
  },
  {
   "cell_type": "markdown",
   "id": "770ca8e1-b6e5-48ed-90f0-d55ba9c32ccc",
   "metadata": {},
   "source": [
    "## 1. Defining a Class and Creating an Object\n",
    "\n",
    "### **Creating a Class**\n",
    "```python\n",
    "class Car:\n",
    "    def __init__(self, brand, model):\n",
    "        self.brand = brand  # Attribute\n",
    "        self.model = model  # Attribute\n",
    "\n",
    "    def display_info(self):  # Method\n",
    "        return f\"{self.brand} {self.model}\"\n",
    "\n",
    "# Creating an Object (Instance)\n",
    "car1 = Car(\"Toyota\", \"Camry\")\n",
    "print(car1.display_info())  # Output: Toyota Camry\n",
    "```"
   ]
  },
  {
   "cell_type": "code",
   "execution_count": 1,
   "id": "36081e21-c85f-4ff6-b336-c37db85abbcd",
   "metadata": {},
   "outputs": [
    {
     "name": "stdout",
     "output_type": "stream",
     "text": [
      "Kia Carrens\n"
     ]
    }
   ],
   "source": [
    "class car:\n",
    "    def __init__(self, brand, model):\n",
    "        self.brand = brand\n",
    "        self.model = model\n",
    "\n",
    "    def display_info(self):\n",
    "        return f\"{self.brand} {self.model}\"\n",
    "\n",
    "car1 = car(\"Kia\", \"Carrens\")\n",
    "print(car1.display_info())\n",
    "        "
   ]
  },
  {
   "cell_type": "markdown",
   "id": "f69a2794-a71f-43bb-9ccd-d76951f66958",
   "metadata": {},
   "source": [
    "### Practice: Defining and Creating a class"
   ]
  },
  {
   "cell_type": "code",
   "execution_count": 29,
   "id": "da95468b-c12c-4a6c-a371-b58fdaa55923",
   "metadata": {},
   "outputs": [
    {
     "name": "stdout",
     "output_type": "stream",
     "text": [
      "The train called The Intercity Express departs at 10:30 AM\n"
     ]
    }
   ],
   "source": [
    "class StationDetails:\n",
    "    def __init__(self, train, time):\n",
    "        self.train = train   # Attribute\n",
    "        self.time = time  # Attribute\n",
    "\n",
    "    def display_info(self):\n",
    "        print(f\"The train called {self.train} departs at {self.time}\")\n",
    "\n",
    "t = StationDetails(\"The Intercity Express\", \"10:30 AM\")\n",
    "t.display_info()\n"
   ]
  },
  {
   "cell_type": "markdown",
   "id": "2c068c59-9bcc-41f1-bba6-892d5f7cb33c",
   "metadata": {},
   "source": [
    "## 2. **Encapsulation** (Data Hiding)\n",
    "Encapsulation prevents direct modification of attributes and allows controlled access using **getter and setter methods**.\n",
    "\n",
    "```python\n",
    "class BankAccount:\n",
    "    def __init__(self, balance):\n",
    "        self.__balance = balance  # Private Attribute\n",
    "\n",
    "    def get_balance(self):  # Getter\n",
    "        return self.__balance\n",
    "\n",
    "    def deposit(self, amount):  # Setter\n",
    "        if amount > 0:\n",
    "            self.__balance += amount\n",
    "\n",
    "# Using Encapsulation\n",
    "account = BankAccount(1000)\n",
    "account.deposit(500)\n",
    "print(account.get_balance())  # Output: 1500\n",
    "```\n",
    "🔹 **Why use encapsulation?**  \n",
    "It protects data by restricting direct modification.\n",
    "\n",
    "---"
   ]
  },
  {
   "cell_type": "code",
   "execution_count": 6,
   "id": "afac2e41-60a1-44c4-add7-c6512877bae0",
   "metadata": {},
   "outputs": [
    {
     "name": "stdout",
     "output_type": "stream",
     "text": [
      "The current balance is: 500\n"
     ]
    }
   ],
   "source": [
    "class BankAccount:\n",
    "    \"\"\"A simple bank account class to demonstrate encapsulation.\"\"\"\n",
    "    def __init__(self, balance=0):   # Default balance = 0\n",
    "        self.__balance = balance     # Private Attribute\n",
    "        \n",
    "    def get_balance(self):           # Getter\n",
    "        return self.__balance\n",
    "\n",
    "    def deposit(self, amount):       # Setter\n",
    "        if amount > 0:\n",
    "            self.__balance += amount\n",
    "        else:\n",
    "            print(\"Deposit must be a positive amount.\")\n",
    "\n",
    "account = BankAccount()\n",
    "account.deposit(500)\n",
    "print(f\"The current balance is: {account.get_balance()}\")"
   ]
  },
  {
   "cell_type": "markdown",
   "id": "822a0c3e-e761-4fb9-8749-800a166e8f66",
   "metadata": {},
   "source": [
    "#### Practice : "
   ]
  },
  {
   "cell_type": "code",
   "execution_count": 9,
   "id": "1596d7df-d052-4b0d-9dca-0a0f9f13cf1e",
   "metadata": {},
   "outputs": [
    {
     "name": "stdout",
     "output_type": "stream",
     "text": [
      "The total balance is 5000\n"
     ]
    }
   ],
   "source": [
    "class BankAccount:\n",
    "    def __init__(self, balance=0):\n",
    "        self.__balance = balance\n",
    "\n",
    "    def get_balance(self):\n",
    "        return self.__balance\n",
    "\n",
    "    def deposit(self, amount):\n",
    "        if amount > 0:\n",
    "            self.__balance += amount\n",
    "        else:\n",
    "            print(\"Deposit must be a positive amount.\")\n",
    "\n",
    "account = BankAccount()\n",
    "account.deposit(5000)\n",
    "print(f\"The total balance is {account.get_balance()}\")"
   ]
  },
  {
   "cell_type": "markdown",
   "id": "2be20bdf-f1ff-404f-a153-d8c42b043f78",
   "metadata": {},
   "source": [
    "## 3. **Inheritance** (Reusing Code)\n",
    "Inheritance allows a class (**child**) to inherit attributes and methods from another class (**parent**).\n",
    "\n",
    "### **Example of Single Inheritance**\n",
    "```python\n",
    "class Animal:\n",
    "    def speak(self):\n",
    "        return \"Animal makes a sound\"\n",
    "\n",
    "class Dog(Animal):  # Inheriting from Animal\n",
    "    def speak(self):\n",
    "        return \"Bark\"\n",
    "\n",
    "dog = Dog()\n",
    "print(dog.speak())  # Output: Bark\n",
    "```\n",
    "\n",
    "🔹 **Why use inheritance?**  \n",
    "It promotes **code reusability** and maintains a cleaner code structure.\n",
    "\n",
    "---"
   ]
  },
  {
   "cell_type": "code",
   "execution_count": 10,
   "id": "706f2988-d225-4f10-9824-5a0879868aa6",
   "metadata": {},
   "outputs": [
    {
     "name": "stdout",
     "output_type": "stream",
     "text": [
      "Bark\n"
     ]
    }
   ],
   "source": [
    "class Animal:\n",
    "    def speak(self):\n",
    "        return \"Animal makes a sound\"\n",
    "\n",
    "class Dog(Animal):     # Inheriting from Animal\n",
    "    def speak(self):\n",
    "        return \"Bark\"   \n",
    "\n",
    "dog = Dog()\n",
    "print(dog.speak())"
   ]
  },
  {
   "cell_type": "markdown",
   "id": "ef423dc4-3db7-4b86-a5bd-8c8bec439593",
   "metadata": {},
   "source": [
    "# 4. **Multiple Inheritance**\n",
    "A class can inherit from multiple parent classes.\n",
    "\n",
    "```python\n",
    "class A:\n",
    "    def method_a(self):\n",
    "        return \"Method A\"\n",
    "\n",
    "class B:\n",
    "    def method_b(self):\n",
    "        return \"Method B\"\n",
    "\n",
    "class C(A, B):  # Multiple Inheritance\n",
    "    pass\n",
    "\n",
    "obj = C()\n",
    "print(obj.method_a())  # Output: Method A\n",
    "print(obj.method_b())  # Output: Method B\n",
    "```\n",
    "\n",
    "🔹 **Why use multiple inheritance?**  \n",
    "It allows a class to inherit **features from multiple parent classes**.\n",
    "\n",
    "---"
   ]
  },
  {
   "cell_type": "code",
   "execution_count": 12,
   "id": "33838793-9465-4937-85ca-e8ab3192cad1",
   "metadata": {},
   "outputs": [
    {
     "name": "stdout",
     "output_type": "stream",
     "text": [
      "Method A\n",
      "Method B\n"
     ]
    }
   ],
   "source": [
    "class A:\n",
    "    def method_a(self):\n",
    "        return \"Method A\"\n",
    "\n",
    "class B:\n",
    "    def method_b(self):\n",
    "        return \"Method B\"\n",
    "\n",
    "class C(A,B):    # Multiple Inheritance\n",
    "    pass\n",
    "\n",
    "obj = C()\n",
    "print(obj.method_a())  # Output: Method A\n",
    "print(obj.method_b())  # Output: Method B"
   ]
  },
  {
   "cell_type": "markdown",
   "id": "30b3b5f3-21e4-490e-9602-96edc1027bbe",
   "metadata": {},
   "source": [
    "## 5. **Polymorphism** (Same Method, Different Behavior)\n",
    "Polymorphism allows different classes to use the **same method name**.\n",
    "\n",
    "### **Method Overriding Example**\n",
    "```python\n",
    "class Bird:\n",
    "    def fly(self):\n",
    "        return \"Birds can fly\"\n",
    "\n",
    "class Penguin(Bird):\n",
    "    def fly(self):\n",
    "        return \"Penguins cannot fly\"\n",
    "\n",
    "bird = Bird()\n",
    "penguin = Penguin()\n",
    "\n",
    "print(bird.fly())      # Output: Birds can fly\n",
    "print(penguin.fly())   # Output: Penguins cannot fly\n",
    "```\n",
    "\n",
    "🔹 **Why use polymorphism?**  \n",
    "It provides **flexibility** by allowing different classes to define the same method differently.\n",
    "\n",
    "---\n"
   ]
  },
  {
   "cell_type": "code",
   "execution_count": 13,
   "id": "493482e8-6b31-45bb-a7e6-61a1dea83b45",
   "metadata": {},
   "outputs": [
    {
     "name": "stdout",
     "output_type": "stream",
     "text": [
      "Birds can fly\n",
      "Penguins cannot fly\n"
     ]
    }
   ],
   "source": [
    "class Bird:\n",
    "    def fly(self):\n",
    "        return \"Birds can fly\"\n",
    "\n",
    "class Penguin(Bird):\n",
    "    def fly(self):\n",
    "        return \"Penguins cannot fly\"\n",
    "\n",
    "bird = Bird()\n",
    "penguin = Penguin()\n",
    "\n",
    "print(bird.fly())     # Output: Birds can fly\n",
    "print(penguin.fly())  # Output: Penguins cannot fly"
   ]
  },
  {
   "cell_type": "markdown",
   "id": "8299c63a-ff32-4092-bc7b-128e05713b38",
   "metadata": {},
   "source": [
    "## 6. **Abstraction** (Hiding Implementation Details)\n",
    "Abstraction is used to define a method **without implementing it** in the base class.  \n",
    "It is achieved using **abstract base classes** (`ABC` module).\n",
    "\n",
    "```python\n",
    "from abc import ABC, abstractmethod\n",
    "\n",
    "class Shape(ABC):\n",
    "    @abstractmethod\n",
    "    def area(self):\n",
    "        pass  # No implementation\n",
    "\n",
    "class Square(Shape):\n",
    "    def __init__(self, side):\n",
    "        self.side = side\n",
    "\n",
    "    def area(self):\n",
    "        return self.side * self.side  # Implemented in child class\n",
    "\n",
    "square = Square(4)\n",
    "print(square.area())  # Output: 16\n",
    "```\n",
    "\n",
    "🔹 **Why use abstraction?**  \n",
    "It enforces **consistent implementation** across child classes.\n",
    "\n",
    "---"
   ]
  },
  {
   "cell_type": "code",
   "execution_count": 14,
   "id": "8a222e87-8e00-442b-938b-560be80fff81",
   "metadata": {},
   "outputs": [
    {
     "name": "stdout",
     "output_type": "stream",
     "text": [
      "16\n"
     ]
    }
   ],
   "source": [
    "from abc import ABC, abstractmethod\n",
    "\n",
    "class Shape(ABC):\n",
    "    @abstractmethod\n",
    "    def area(self):\n",
    "        pass        # No Implementation\n",
    "\n",
    "class Square(Shape):\n",
    "    def __init__(self, side):\n",
    "        self.side = side\n",
    "\n",
    "    def area(self):\n",
    "        return self.side * self.side  # Implemented in child class\n",
    "\n",
    "square = Square(4)\n",
    "print(square.area())"
   ]
  },
  {
   "cell_type": "markdown",
   "id": "1d34809e-d102-453c-83db-1182d9b5e5e8",
   "metadata": {},
   "source": [
    "## 7. **Magic Methods (Dunder Methods)**\n",
    "Magic methods allow objects to behave like **built-in types**.\n",
    "\n",
    "### **Example: `__str__()` and `__len__()`**\n",
    "```python\n",
    "class Book:\n",
    "    def __init__(self, title, pages):\n",
    "        self.title = title\n",
    "        self.pages = pages\n",
    "\n",
    "    def __str__(self):  # String representation\n",
    "        return f\"Book: {self.title}\"\n",
    "\n",
    "    def __len__(self):  # Define behavior for len()\n",
    "        return self.pages\n",
    "\n",
    "book = Book(\"Python Basics\", 300)\n",
    "print(str(book))  # Output: Book: Python Basics\n",
    "print(len(book))  # Output: 300"
   ]
  },
  {
   "cell_type": "code",
   "execution_count": 16,
   "id": "47ed2758-b0bd-48ce-abf1-bd8ded05859c",
   "metadata": {},
   "outputs": [
    {
     "name": "stdout",
     "output_type": "stream",
     "text": [
      "Book: Python Basics\n",
      "300\n"
     ]
    }
   ],
   "source": [
    "class Book:\n",
    "    def __init__(self, title, pages):\n",
    "        self.title = title\n",
    "        self.pages = pages\n",
    "\n",
    "    def __str__(self):\n",
    "        return f\"Book: {self.title}\"\n",
    "\n",
    "    def __len__(self): \n",
    "        return self.pages\n",
    "\n",
    "book = Book(\"Python Basics\", 300)\n",
    "print(str(book))\n",
    "print(len(book))\n",
    "\n",
    "    "
   ]
  },
  {
   "cell_type": "markdown",
   "id": "69b8efce-a89b-4c63-8c70-d1adf5b7f4d5",
   "metadata": {},
   "source": [
    "## 8. **Class vs. Static Methods**\n",
    "| Method Type | Description | Uses `self`? | Uses `cls`? |\n",
    "|------------|-------------|------------|------------|\n",
    "| **Instance Method** | Works with instance attributes | ✅ | ❌ |\n",
    "| **Class Method** | Works with class attributes | ❌ | ✅ |\n",
    "| **Static Method** | Does not use class or instance variables | ❌ | ❌ |\n",
    "\n",
    "### **Example**\n",
    "```python\n",
    "class Example:\n",
    "    class_var = \"I am a class variable\"\n",
    "\n",
    "    def instance_method(self):\n",
    "        return \"Instance Method\"\n",
    "\n",
    "    @classmethod\n",
    "    def class_method(cls):\n",
    "        return cls.class_var\n",
    "\n",
    "    @staticmethod\n",
    "    def static_method():\n",
    "        return \"Static Method\"\n",
    "\n",
    "obj = Example()\n",
    "print(obj.instance_method())  # Output: Instance Method\n",
    "print(Example.class_method()) # Output: I am a class variable\n",
    "print(Example.static_method()) # Output: Static Method\n",
    "```\n",
    "\n",
    "---\n"
   ]
  },
  {
   "cell_type": "code",
   "execution_count": 17,
   "id": "bcafb611-133e-4f2d-8add-f49cb58ca970",
   "metadata": {},
   "outputs": [
    {
     "name": "stdout",
     "output_type": "stream",
     "text": [
      "Instance Method\n",
      "I am a class variable\n",
      "Static Method\n"
     ]
    }
   ],
   "source": [
    "class Example :\n",
    "    class_var = \"I am a class variable\"\n",
    "\n",
    "    def instance_method(self):\n",
    "        return \"Instance Method\"\n",
    "\n",
    "    @classmethod\n",
    "    def class_method(cls):\n",
    "        return cls.class_var\n",
    "\n",
    "    @staticmethod\n",
    "    def static_method():\n",
    "        return \"Static Method\"\n",
    "\n",
    "obj = Example()\n",
    "print(obj.instance_method())\n",
    "print(Example.class_method())\n",
    "print(Example.static_method())"
   ]
  },
  {
   "cell_type": "markdown",
   "id": "92063e35-a78b-4583-99ff-f34bd7fdd5f0",
   "metadata": {},
   "source": [
    "## Summary of OOP Concepts\n",
    "\n",
    "| Concept | Description | Example |\n",
    "|---------|-------------|---------|\n",
    "| **Class** | A blueprint for creating objects | `class Car:` |\n",
    "| **Object** | An instance of a class | `car1 = Car()` |\n",
    "| **Encapsulation** | Restrict direct access to data | `self.__balance` |\n",
    "| **Inheritance** | A class inherits from another class | `class Dog(Animal)` |\n",
    "| **Polymorphism** | Using the same method in different ways | `def fly(self)` |\n",
    "| **Abstraction** | Hiding implementation details | `@abstractmethod` |\n",
    "| **Magic Methods** | Special methods like `__str__()` | `def __len__(self)` |\n",
    "| **Class Methods** | Works with class variables | `@classmethod` |\n",
    "| **Static Methods** | Independent of class and instance | `@staticmethod` |\n"
   ]
  },
  {
   "cell_type": "code",
   "execution_count": null,
   "id": "1f2ae60b-9c33-45ad-b5d9-77b7ad2a1dab",
   "metadata": {},
   "outputs": [],
   "source": []
  }
 ],
 "metadata": {
  "kernelspec": {
   "display_name": "Python 3 (ipykernel)",
   "language": "python",
   "name": "python3"
  },
  "language_info": {
   "codemirror_mode": {
    "name": "ipython",
    "version": 3
   },
   "file_extension": ".py",
   "mimetype": "text/x-python",
   "name": "python",
   "nbconvert_exporter": "python",
   "pygments_lexer": "ipython3",
   "version": "3.13.5"
  }
 },
 "nbformat": 4,
 "nbformat_minor": 5
}
