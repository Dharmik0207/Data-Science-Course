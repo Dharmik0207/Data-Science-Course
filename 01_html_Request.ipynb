{
 "cells": [
  {
   "cell_type": "code",
   "execution_count": 18,
   "id": "66017dc4-1b2e-41b0-83c5-7ac39a904c79",
   "metadata": {},
   "outputs": [
    {
     "name": "stdout",
     "output_type": "stream",
     "text": [
      "Requirement already satisfied: requests in c:\\users\\dharm\\anaconda3\\envs\\dharmikenv\\lib\\site-packages (2.32.5)\n",
      "Requirement already satisfied: charset_normalizer<4,>=2 in c:\\users\\dharm\\anaconda3\\envs\\dharmikenv\\lib\\site-packages (from requests) (3.3.2)\n",
      "Requirement already satisfied: idna<4,>=2.5 in c:\\users\\dharm\\anaconda3\\envs\\dharmikenv\\lib\\site-packages (from requests) (3.7)\n",
      "Requirement already satisfied: urllib3<3,>=1.21.1 in c:\\users\\dharm\\anaconda3\\envs\\dharmikenv\\lib\\site-packages (from requests) (2.5.0)\n",
      "Requirement already satisfied: certifi>=2017.4.17 in c:\\users\\dharm\\anaconda3\\envs\\dharmikenv\\lib\\site-packages (from requests) (2025.8.3)\n"
     ]
    }
   ],
   "source": [
    "!pip install requests"
   ]
  },
  {
   "cell_type": "code",
   "execution_count": 19,
   "id": "1f494711-00d6-4d79-9d99-8d9bc5d9744d",
   "metadata": {},
   "outputs": [],
   "source": [
    "import requests"
   ]
  },
  {
   "cell_type": "code",
   "execution_count": 20,
   "id": "7f050de9-8508-467f-919d-a1c3ed969eeb",
   "metadata": {},
   "outputs": [],
   "source": [
    "a = requests.get(\"https://books.toscrape.com/\")"
   ]
  },
  {
   "cell_type": "code",
   "execution_count": 21,
   "id": "0144685f-5b19-4418-9a7c-9c1874eaf123",
   "metadata": {},
   "outputs": [
    {
     "name": "stdout",
     "output_type": "stream",
     "text": [
      "Downloaded page {i} Successfully\n"
     ]
    }
   ],
   "source": [
    "for i in range(1, 51):\n",
    "    a = requests.get(f\"https://books.toscrape.com/catalogue/page-{i}.html\")\n",
    "with open(f\"htmls/page{i}.html\", \"w\", encoding=\"utf-8\") as f:\n",
    "    f.write(a.text)\n",
    "    print(\"Downloaded page {i} Successfully\")"
   ]
  },
  {
   "cell_type": "code",
   "execution_count": null,
   "id": "498052e8-5a0a-4e3e-a44c-f9978b4bec88",
   "metadata": {},
   "outputs": [],
   "source": []
  }
 ],
 "metadata": {
  "kernelspec": {
   "display_name": "Python 3 (ipykernel)",
   "language": "python",
   "name": "python3"
  },
  "language_info": {
   "codemirror_mode": {
    "name": "ipython",
    "version": 3
   },
   "file_extension": ".py",
   "mimetype": "text/x-python",
   "name": "python",
   "nbconvert_exporter": "python",
   "pygments_lexer": "ipython3",
   "version": "3.13.5"
  }
 },
 "nbformat": 4,
 "nbformat_minor": 5
}
