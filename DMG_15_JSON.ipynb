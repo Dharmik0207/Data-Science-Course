{
 "cells": [
  {
   "cell_type": "markdown",
   "id": "2c75ac5d-60c1-4e40-a75b-4709d4885185",
   "metadata": {},
   "source": [
    "# Python `json` Module – Working with JSON Data\n",
    "\n",
    "## What is JSON?\n",
    "JSON (**JavaScript Object Notation**) is a lightweight data format used for data exchange between servers and applications. It is widely used in **APIs, web applications, and configurations**.\n",
    "\n",
    "Python provides the `json` module to work with JSON data.\n",
    "\n",
    "---\n",
    "\n",
    "## Importing the JSON Module\n",
    "```python\n",
    "import json\n",
    "```\n",
    "\n",
    "---"
   ]
  },
  {
   "cell_type": "markdown",
   "id": "0c5897bc-17b1-41ef-87f3-3024df8f72f7",
   "metadata": {},
   "source": [
    "## Converting Python Objects to JSON (Serialization)\n",
    "Serialization (also called **encoding or dumping**) is converting a Python object into a JSON-formatted string.\n",
    "\n",
    "### **`json.dumps()`** – Convert Python object to JSON string\n",
    "```python\n",
    "import json\n",
    "\n",
    "data = {\"name\": \"Alice\", \"age\": 25, \"city\": \"New York\"}\n",
    "\n",
    "json_string = json.dumps(data)\n",
    "print(json_string)  # Output: {\"name\": \"Alice\", \"age\": 25, \"city\": \"New York\"}\n",
    "print(type(json_string))  # <class 'str'>\n",
    "```"
   ]
  },
  {
   "cell_type": "code",
   "execution_count": 1,
   "id": "5bab81f9-1078-454c-a26e-bebfc2fb2492",
   "metadata": {},
   "outputs": [],
   "source": [
    "import json"
   ]
  },
  {
   "cell_type": "markdown",
   "id": "7fb2be30-9c41-4772-9290-dbc40534ebe1",
   "metadata": {},
   "source": [
    "##### Dumps converts a Python object into a JSON-formatted string."
   ]
  },
  {
   "cell_type": "code",
   "execution_count": 13,
   "id": "80402a0f-d32c-4a63-a01f-d170196820a9",
   "metadata": {},
   "outputs": [
    {
     "data": {
      "text/plain": [
       "'{\"name\": \"Dharmik\", \"age\": 26, \"city\": \"Frankfurt am main\"}'"
      ]
     },
     "execution_count": 13,
     "metadata": {},
     "output_type": "execute_result"
    }
   ],
   "source": [
    "object = {\"name\": \"Dharmik\", \"age\": 26, \"city\": \"Frankfurt am main\"}\n",
    "json.dumps(object)   #dumps = dump on s string."
   ]
  },
  {
   "cell_type": "code",
   "execution_count": 17,
   "id": "82c3a4b2-99e3-4494-85d7-f860d9b7f368",
   "metadata": {},
   "outputs": [
    {
     "data": {
      "text/plain": [
       "str"
      ]
     },
     "execution_count": 17,
     "metadata": {},
     "output_type": "execute_result"
    }
   ],
   "source": [
    "s = json.dumps(object)\n",
    "type(s)"
   ]
  },
  {
   "cell_type": "code",
   "execution_count": 18,
   "id": "3b82c137-6ee2-4a9e-9b27-3c1d9a231f2c",
   "metadata": {},
   "outputs": [
    {
     "name": "stdout",
     "output_type": "stream",
     "text": [
      "{\"name\": \"Dharmik\", \"age\": 26, \"city\": \"Frankfurt am main\"}\n"
     ]
    }
   ],
   "source": [
    "print(s)"
   ]
  },
  {
   "cell_type": "markdown",
   "id": "aaa2a6d6-42cd-4e70-844f-4d9bb961aa3d",
   "metadata": {},
   "source": [
    "### **`json.dump()`** – Write JSON data to a file\n",
    "```python\n",
    "with open(\"data.json\", \"w\") as file:\n",
    "    json.dump(data, file)\n",
    "```\n",
    "\n",
    "---"
   ]
  },
  {
   "cell_type": "code",
   "execution_count": 26,
   "id": "1199e5c0-a70c-4164-9a84-249ed5f95864",
   "metadata": {},
   "outputs": [],
   "source": [
    "file = open(\"data.json\", \"w\")"
   ]
  },
  {
   "cell_type": "code",
   "execution_count": 31,
   "id": "bb426478-e5cd-43f7-8b1f-18329bc55df8",
   "metadata": {},
   "outputs": [],
   "source": [
    "with open(\"data.json\", \"w\") as file:\n",
    "    json.dump(object, file)"
   ]
  },
  {
   "cell_type": "markdown",
   "id": "60e5aaa2-e257-4e8e-a516-a7d5a27933ff",
   "metadata": {},
   "source": [
    "## Converting JSON to Python Objects (Deserialization)\n",
    "Deserialization (also called **decoding or loading**) is converting JSON-formatted data into Python objects.\n",
    "\n",
    "### **`json.loads()`** – Convert JSON string to Python object\n",
    "```python\n",
    "json_data = '{\"name\": \"Alice\", \"age\": 25, \"city\": \"New York\"}'\n",
    "\n",
    "python_obj = json.loads(json_data)\n",
    "print(python_obj)  # Output: {'name': 'Alice', 'age': 25, 'city': 'New York'}\n",
    "print(type(python_obj))  # <class 'dict'>\n",
    "```\n"
   ]
  },
  {
   "cell_type": "code",
   "execution_count": 32,
   "id": "cb345497-2401-4486-8ce3-89ef3ab5a185",
   "metadata": {},
   "outputs": [],
   "source": [
    "d = json.loads('{\"name\": \"Dharmik\", \"age\": 26, \"city\": \"Frankfurt am main\"}')"
   ]
  },
  {
   "cell_type": "code",
   "execution_count": 33,
   "id": "90bd60ad-da36-4dc9-aec5-2e845ceaa2ea",
   "metadata": {},
   "outputs": [
    {
     "data": {
      "text/plain": [
       "dict"
      ]
     },
     "execution_count": 33,
     "metadata": {},
     "output_type": "execute_result"
    }
   ],
   "source": [
    "type(d)"
   ]
  },
  {
   "cell_type": "markdown",
   "id": "976ef9e8-ffca-48db-a77c-0bb11f98e51f",
   "metadata": {},
   "source": [
    "### **`json.load()`** – Read JSON data from a file\n",
    "```python\n",
    "with open(\"data.json\", \"r\") as file:\n",
    "    python_data = json.load(file)\n",
    "\n",
    "print(python_data)  # Output: {'name': 'Alice', 'age': 25, 'city': 'New York'}\n",
    "```\n",
    "\n",
    "---"
   ]
  },
  {
   "cell_type": "code",
   "execution_count": 34,
   "id": "cc462fed-3209-43de-8736-6c66fb067ff0",
   "metadata": {},
   "outputs": [],
   "source": [
    "with open(\"data.json\", \"r\") as file:\n",
    "    python_data = json.load(file)"
   ]
  },
  {
   "cell_type": "code",
   "execution_count": 35,
   "id": "722c4266-bc28-46bf-b43e-3362add87d97",
   "metadata": {},
   "outputs": [
    {
     "name": "stdout",
     "output_type": "stream",
     "text": [
      "{'name': 'Dharmik', 'age': 26, 'city': 'Frankfurt am main'}\n"
     ]
    }
   ],
   "source": [
    "print(python_data)"
   ]
  },
  {
   "cell_type": "markdown",
   "id": "c64365f0-8b8f-4f37-9ce4-345815004e1d",
   "metadata": {},
   "source": [
    "## Formatting JSON Output\n",
    "You can format JSON for better readability using **indentation**.\n",
    "\n",
    "```python\n",
    "formatted_json = json.dumps(data, indent=4)\n",
    "print(formatted_json)\n",
    "```\n",
    "**Output:**\n",
    "```json\n",
    "{\n",
    "    \"name\": \"Alice\",\n",
    "    \"age\": 25,\n",
    "    \"city\": \"New York\"\n",
    "}\n",
    "```\n",
    "\n",
    "---"
   ]
  },
  {
   "cell_type": "code",
   "execution_count": 41,
   "id": "f346cd90-7bd8-45ca-938a-8aad50d7999d",
   "metadata": {},
   "outputs": [
    {
     "name": "stdout",
     "output_type": "stream",
     "text": [
      "{\n",
      "    \"name\": \"Dharmik\",\n",
      "    \"age\": 26,\n",
      "    \"city\": \"Frankfurt am main\"\n",
      "}\n"
     ]
    }
   ],
   "source": [
    "formatted_json = json.dumps(object, indent=4)\n",
    "print(formatted_json)"
   ]
  },
  {
   "cell_type": "markdown",
   "id": "946c97ca-0a0f-4c54-a28d-6c028655e2d7",
   "metadata": {},
   "source": [
    "## Summary of Common JSON Methods\n",
    "\n",
    "| Method | Description | Example |\n",
    "|--------|------------|---------|\n",
    "| `json.dumps(obj)` | Converts Python object to JSON string | `json.dumps(data)` |\n",
    "| `json.dump(obj, file)` | Writes JSON to a file | `json.dump(data, file)` |\n",
    "| `json.loads(json_string)` | Converts JSON string to Python object | `json.loads(json_data)` |\n",
    "| `json.load(file)` | Reads JSON from a file | `json.load(file)` |"
   ]
  },
  {
   "cell_type": "markdown",
   "id": "df0b2d4f-febd-42db-bf9c-78934101d65e",
   "metadata": {},
   "source": [
    "###### Practice"
   ]
  },
  {
   "cell_type": "code",
   "execution_count": 43,
   "id": "80f17209-bc23-4f39-9688-1a7329b8e4fb",
   "metadata": {},
   "outputs": [],
   "source": [
    "import json"
   ]
  },
  {
   "cell_type": "markdown",
   "id": "49233267-4b2c-4b45-9070-082685f80ca9",
   "metadata": {},
   "source": [
    "### json.dumps()"
   ]
  },
  {
   "cell_type": "code",
   "execution_count": 44,
   "id": "f3b51069-27ac-4e18-866f-15e9305b20bc",
   "metadata": {},
   "outputs": [
    {
     "data": {
      "text/plain": [
       "'{\"name\": \"Dharmik\", \"Age\": 26, \"University\": \"Frankfurt University of Applied Sciences.\"}'"
      ]
     },
     "execution_count": 44,
     "metadata": {},
     "output_type": "execute_result"
    }
   ],
   "source": [
    "data = {\"name\": \"Dharmik\", \"Age\": 26, \"University\": \"Frankfurt University of Applied Sciences.\"}\n",
    "json.dumps(data)"
   ]
  },
  {
   "cell_type": "markdown",
   "id": "c68c6dbe-6680-4ac6-a01e-72890d124136",
   "metadata": {},
   "source": [
    "### json.dump()"
   ]
  },
  {
   "cell_type": "code",
   "execution_count": 47,
   "id": "ad92adaf-0574-42ee-8fe3-d4169582881c",
   "metadata": {},
   "outputs": [],
   "source": [
    "with open(\"data.json\", \"w\") as file:\n",
    "    json.dump(data, file)"
   ]
  },
  {
   "cell_type": "markdown",
   "id": "f6cfe37e-76f7-4bb3-b572-656c7bb39a56",
   "metadata": {},
   "source": [
    "### json.loads()"
   ]
  },
  {
   "cell_type": "code",
   "execution_count": 48,
   "id": "98e90dbc-3b63-4943-8e7c-349b28de3ed0",
   "metadata": {},
   "outputs": [],
   "source": [
    "d = json.loads('{\"name\": \"Dharmik\", \"Age\": 26, \"University\": \"Frankfurt University of Applied Sciences.\"}')"
   ]
  },
  {
   "cell_type": "code",
   "execution_count": 49,
   "id": "2537fd11-ea39-4419-bc42-dda8ed713e0c",
   "metadata": {},
   "outputs": [
    {
     "data": {
      "text/plain": [
       "dict"
      ]
     },
     "execution_count": 49,
     "metadata": {},
     "output_type": "execute_result"
    }
   ],
   "source": [
    "type(d)"
   ]
  },
  {
   "cell_type": "markdown",
   "id": "45b0df83-d13f-4602-8c6f-353ae45a521c",
   "metadata": {},
   "source": [
    "### json.load()"
   ]
  },
  {
   "cell_type": "code",
   "execution_count": 51,
   "id": "3cd88eb1-98a5-4a37-beec-789c8a6dbb7a",
   "metadata": {},
   "outputs": [
    {
     "name": "stdout",
     "output_type": "stream",
     "text": [
      "{'name': 'Dharmik', 'Age': 26, 'University': 'Frankfurt University of Applied Sciences.'}\n"
     ]
    }
   ],
   "source": [
    "with open(\"data.json\", \"r\") as file:\n",
    "    python_data = json.load(file)\n",
    "print(python_data)"
   ]
  },
  {
   "cell_type": "markdown",
   "id": "68a5e2f1-8a2e-4f9d-b1bc-599acf64bea3",
   "metadata": {},
   "source": [
    "### Formatting JSON Output"
   ]
  },
  {
   "cell_type": "code",
   "execution_count": 50,
   "id": "dc550ccd-3f9f-4c61-9d9e-a833679ebdf0",
   "metadata": {},
   "outputs": [
    {
     "name": "stdout",
     "output_type": "stream",
     "text": [
      "{\n",
      "    \"name\": \"Dharmik\",\n",
      "    \"Age\": 26,\n",
      "    \"University\": \"Frankfurt University of Applied Sciences.\"\n",
      "}\n"
     ]
    }
   ],
   "source": [
    "p = json.dumps(data, indent=4)\n",
    "print(p)"
   ]
  },
  {
   "cell_type": "code",
   "execution_count": null,
   "id": "5237b3b7-77e8-414e-8911-4fe38e59b9b5",
   "metadata": {},
   "outputs": [],
   "source": []
  }
 ],
 "metadata": {
  "kernelspec": {
   "display_name": "Python 3 (ipykernel)",
   "language": "python",
   "name": "python3"
  },
  "language_info": {
   "codemirror_mode": {
    "name": "ipython",
    "version": 3
   },
   "file_extension": ".py",
   "mimetype": "text/x-python",
   "name": "python",
   "nbconvert_exporter": "python",
   "pygments_lexer": "ipython3",
   "version": "3.13.5"
  }
 },
 "nbformat": 4,
 "nbformat_minor": 5
}
