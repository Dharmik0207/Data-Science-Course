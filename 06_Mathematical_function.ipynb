{
 "cells": [
  {
   "cell_type": "code",
   "execution_count": 28,
   "id": "60f7bda1-12aa-4c89-8269-2618a42fcb8b",
   "metadata": {},
   "outputs": [],
   "source": [
    "import numpy as np"
   ]
  },
  {
   "cell_type": "code",
   "execution_count": 29,
   "id": "1083f1e6-73eb-4eb7-b78d-646d62f0cec9",
   "metadata": {},
   "outputs": [],
   "source": [
    "arr = np.array([2, 3, 62, 16, 96])"
   ]
  },
  {
   "cell_type": "code",
   "execution_count": 30,
   "id": "70c594bf-3fe1-4c0d-8ca5-0b5bbbb99516",
   "metadata": {},
   "outputs": [
    {
     "name": "stdout",
     "output_type": "stream",
     "text": [
      "35.8\n"
     ]
    }
   ],
   "source": [
    "print(np.mean(arr)) # Compute the mean (average) of an array."
   ]
  },
  {
   "cell_type": "code",
   "execution_count": 31,
   "id": "237f7a25-f7f3-49a9-9b6b-6b836dda12c8",
   "metadata": {},
   "outputs": [
    {
     "name": "stdout",
     "output_type": "stream",
     "text": [
      "2\n"
     ]
    }
   ],
   "source": [
    "print(np.min(arr)) # Compute the minimum value of an array."
   ]
  },
  {
   "cell_type": "code",
   "execution_count": 32,
   "id": "344cc2e0-99b0-4dd6-9080-8af125cdec9d",
   "metadata": {},
   "outputs": [
    {
     "name": "stdout",
     "output_type": "stream",
     "text": [
      "96\n"
     ]
    }
   ],
   "source": [
    "print(np.max(arr)) # Compute the maximum value of an array."
   ]
  },
  {
   "cell_type": "code",
   "execution_count": 33,
   "id": "880d9025-240f-4cd3-abc0-3f96c6f7e1b1",
   "metadata": {},
   "outputs": [
    {
     "name": "stdout",
     "output_type": "stream",
     "text": [
      "37.20430082665175\n"
     ]
    }
   ],
   "source": [
    "print(np.std(arr)) # Compute the standard deviation of an array."
   ]
  },
  {
   "cell_type": "code",
   "execution_count": 34,
   "id": "b25a1957-8faf-449a-a103-a1d8ef7080cd",
   "metadata": {},
   "outputs": [
    {
     "name": "stdout",
     "output_type": "stream",
     "text": [
      "1384.16\n"
     ]
    }
   ],
   "source": [
    "print(np.var(arr)) # Compute the variance of an array."
   ]
  },
  {
   "cell_type": "code",
   "execution_count": 35,
   "id": "f79a76c8-d048-45c7-a96d-feaf12e75c6a",
   "metadata": {},
   "outputs": [
    {
     "name": "stdout",
     "output_type": "stream",
     "text": [
      "179\n"
     ]
    }
   ],
   "source": [
    "print(np.sum(arr)) #  Compute the sum of all elements in an array."
   ]
  },
  {
   "cell_type": "code",
   "execution_count": 36,
   "id": "38400684-49a8-4502-94ea-027ab145b005",
   "metadata": {},
   "outputs": [
    {
     "name": "stdout",
     "output_type": "stream",
     "text": [
      "571392\n"
     ]
    }
   ],
   "source": [
    "print(np.prod(arr)) # Compute the product of all elements in an array."
   ]
  },
  {
   "cell_type": "code",
   "execution_count": 37,
   "id": "1cd0fecb-a1a7-417c-9afd-c0e19ca38bfd",
   "metadata": {},
   "outputs": [
    {
     "name": "stdout",
     "output_type": "stream",
     "text": [
      "16.0\n"
     ]
    }
   ],
   "source": [
    "print(np.median(arr)) #  Compute the median of an array."
   ]
  },
  {
   "cell_type": "code",
   "execution_count": 38,
   "id": "cdddaa14-639e-48f4-968a-1ce39f6fecf8",
   "metadata": {},
   "outputs": [
    {
     "name": "stdout",
     "output_type": "stream",
     "text": [
      "16.0\n"
     ]
    }
   ],
   "source": [
    "print(np.percentile(arr, 50)) # for the 50th percentile(median)"
   ]
  },
  {
   "cell_type": "code",
   "execution_count": 39,
   "id": "68cccd85-67c4-4fd4-a54f-f266e7b57c68",
   "metadata": {},
   "outputs": [
    {
     "name": "stdout",
     "output_type": "stream",
     "text": [
      "0\n"
     ]
    }
   ],
   "source": [
    "print(np.argmin(arr)) # Return the index of the minimum value in an array."
   ]
  },
  {
   "cell_type": "code",
   "execution_count": 40,
   "id": "06042be2-cbb4-42ae-852d-29598b4ac920",
   "metadata": {},
   "outputs": [
    {
     "name": "stdout",
     "output_type": "stream",
     "text": [
      "4\n"
     ]
    }
   ],
   "source": [
    "print(np.argmax(arr)) # Return the index of the maximum value in an array."
   ]
  },
  {
   "cell_type": "code",
   "execution_count": 41,
   "id": "51aa2b5c-b0c9-4ea0-8f17-a0dd198d2ae1",
   "metadata": {},
   "outputs": [],
   "source": [
    "arr1 = np.array([1, 2, 3, 4, 5])\n",
    "arr2 = np.array([6, 7, 8, 9, 10])"
   ]
  },
  {
   "cell_type": "code",
   "execution_count": 42,
   "id": "e45afa1e-8189-4a2a-be90-988ba6c87c2c",
   "metadata": {},
   "outputs": [
    {
     "name": "stdout",
     "output_type": "stream",
     "text": [
      "[[1. 1.]\n",
      " [1. 1.]]\n"
     ]
    }
   ],
   "source": [
    "print(np.corrcoef(arr1, arr2)) # Compute the correlation coefficient matrix of two arrays."
   ]
  },
  {
   "cell_type": "code",
   "execution_count": 43,
   "id": "1e9815c2-1a69-43be-91f0-cdd61634a42f",
   "metadata": {},
   "outputs": [],
   "source": [
    "arr = np.array([2, 3, 62, 16, 96, 62, 1, 2])"
   ]
  },
  {
   "cell_type": "code",
   "execution_count": 44,
   "id": "0d64aa3d-c9fd-4baf-be14-0af9b8f81935",
   "metadata": {},
   "outputs": [
    {
     "name": "stdout",
     "output_type": "stream",
     "text": [
      "[ 1  2  3 16 62 96]\n"
     ]
    }
   ],
   "source": [
    "print(np.unique(arr)) # Find the unique elements of an array."
   ]
  },
  {
   "cell_type": "code",
   "execution_count": 46,
   "id": "f6390397-2e1f-432a-a3d6-c5f757941f90",
   "metadata": {},
   "outputs": [
    {
     "name": "stdout",
     "output_type": "stream",
     "text": [
      "[  2   5  67  83 179 241 242 244]\n"
     ]
    }
   ],
   "source": [
    "print(np.cumsum(arr)) # Compute the cumulative sum of an array."
   ]
  },
  {
   "cell_type": "code",
   "execution_count": 48,
   "id": "d9cd3dbf-ddc1-465a-9801-dc66c8394997",
   "metadata": {},
   "outputs": [
    {
     "name": "stdout",
     "output_type": "stream",
     "text": [
      "[  1  59 -46  80 -34 -61   1]\n"
     ]
    }
   ],
   "source": [
    "print(np.diff(arr)) # Compute the n-th differences of an array."
   ]
  },
  {
   "cell_type": "code",
   "execution_count": null,
   "id": "e3c3a0e5-4efe-4af4-9bb0-23d8abb31b3e",
   "metadata": {},
   "outputs": [],
   "source": []
  }
 ],
 "metadata": {
  "kernelspec": {
   "display_name": "Python 3 (ipykernel)",
   "language": "python",
   "name": "python3"
  },
  "language_info": {
   "codemirror_mode": {
    "name": "ipython",
    "version": 3
   },
   "file_extension": ".py",
   "mimetype": "text/x-python",
   "name": "python",
   "nbconvert_exporter": "python",
   "pygments_lexer": "ipython3",
   "version": "3.13.5"
  }
 },
 "nbformat": 4,
 "nbformat_minor": 5
}
