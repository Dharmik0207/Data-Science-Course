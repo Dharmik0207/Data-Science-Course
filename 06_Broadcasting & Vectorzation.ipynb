{
 "cells": [
  {
   "cell_type": "markdown",
   "id": "b37c9c2a-8e25-44be-9efd-ed9b6868b0db",
   "metadata": {},
   "source": [
    "### Broadcasting in NumPy"
   ]
  },
  {
   "cell_type": "code",
   "execution_count": 1,
   "id": "1c7b220a-a8cf-462d-8054-4d3e3e745d34",
   "metadata": {},
   "outputs": [],
   "source": [
    "import numpy as np"
   ]
  },
  {
   "cell_type": "markdown",
   "id": "6649e0c7-30a2-4381-bbe9-69d675edbe42",
   "metadata": {},
   "source": [
    "Now, we'll explore how to make your code faster with vectorization and broadcasting in NumPy. These techniques are key to boosting performance in numerical operations by avoiding slow loops and memory inefficiency.\n",
    "\n",
    "### 1. Why Loops Are Slow\n",
    "In Python, loops are typically slow because:\n",
    "\n",
    "- Python’s interpreter: Every iteration of the loop requires Python to interpret the loop logic, which is inherently slower than lower-level, compiled code.\n",
    "- High overhead: Each loop iteration in Python involves additional overhead for function calls, memory access, and index management."
   ]
  },
  {
   "cell_type": "markdown",
   "id": "47142014-5c0b-44ae-abe5-17f9cd817ed5",
   "metadata": {},
   "source": [
    "### 2. Vectorization: Fixing the Loop Problem\n",
    "\n",
    "Vectorization allows you to perform operations on entire arrays at once, instead of iterating over elements one by one. This is made possible by NumPy’s optimized C-based backend that executes operations in compiled code, which is much faster than Python loops.\n",
    "\n",
    "Vectorized operations are also more readable and compact, making your code easier to maintain.\n",
    "\n",
    "Example: Vectorized Operation"
   ]
  },
  {
   "cell_type": "code",
   "execution_count": 2,
   "id": "13317159-57de-43ec-ad48-efa3bfd5ba94",
   "metadata": {},
   "outputs": [
    {
     "name": "stdout",
     "output_type": "stream",
     "text": [
      "[ 1  4  9 16 25]\n"
     ]
    }
   ],
   "source": [
    "arr = np.array([1, 2, 3, 4, 5])\n",
    "result = arr ** 2   # Vectorized operation\n",
    "print(result) "
   ]
  },
  {
   "cell_type": "markdown",
   "id": "f9e6eecf-d437-4bab-a3d9-9752b9bef713",
   "metadata": {},
   "source": [
    "### 3. Broadcasting: Scaling Arrays Without Extra Memory\n",
    "\n",
    "Broadcasting is a powerful feature of NumPy that allows you to perform operations on arrays of different shapes without creating copies. It “stretches” smaller arrays across larger arrays in a memory-efficient way, avoiding the overhead of creating multiple copies of data."
   ]
  },
  {
   "cell_type": "code",
   "execution_count": 4,
   "id": "9509aa0a-4eb2-4744-a33e-fbcd8ba04f23",
   "metadata": {},
   "outputs": [
    {
     "data": {
      "text/plain": [
       "array([11, 12, 13, 14, 15])"
      ]
     },
     "execution_count": 4,
     "metadata": {},
     "output_type": "execute_result"
    }
   ],
   "source": [
    "result = arr + 10\n",
    "result"
   ]
  },
  {
   "cell_type": "markdown",
   "id": "e1bf5002-b6c6-4538-8563-d571e183a8f2",
   "metadata": {},
   "source": [
    "### 4. Broadcasting with Arrays of Different Shapes\n",
    "\n",
    "Broadcasting becomes more powerful when you apply operations on arrays of different shapes. NumPy automatically adjusts the shapes of arrays to make them compatible for element-wise operations, without actually copying the data."
   ]
  },
  {
   "cell_type": "code",
   "execution_count": 7,
   "id": "7ba9b84b-2555-4124-b919-a56656c0aaf1",
   "metadata": {},
   "outputs": [
    {
     "name": "stdout",
     "output_type": "stream",
     "text": [
      "[[ 8 10 12]\n",
      " [11 13 15]]\n"
     ]
    }
   ],
   "source": [
    "arr1 = np.array([[1, 2, 3], [4, 5, 6]])\n",
    "arr2 = np.array([7, 8, 9])\n",
    "result = arr1 + arr2   # Broadcasting arr2 across arr1\n",
    "print(result)"
   ]
  },
  {
   "cell_type": "markdown",
   "id": "15f56bd4-f6c8-4d11-9437-1161155118c5",
   "metadata": {},
   "source": [
    "### Simulating a dataset (5 samples, 3 features)"
   ]
  },
  {
   "cell_type": "code",
   "execution_count": 10,
   "id": "f2fe0402-2f88-4b5c-9318-21e8dbf44bff",
   "metadata": {},
   "outputs": [],
   "source": [
    "data = np.array([[10, 20, 30], [15, 25, 35], [20, 30, 40], [25, 35, 45], [30, 40, 50]])"
   ]
  },
  {
   "cell_type": "code",
   "execution_count": 12,
   "id": "1ff40d27-ff73-4462-8654-e4de7aebebad",
   "metadata": {},
   "outputs": [],
   "source": [
    "# Calculating mean and standard deviation for each feature (column)\n",
    "\n",
    "mean = data.mean(axis=0)\n",
    "std = data.std(axis=0)"
   ]
  },
  {
   "cell_type": "code",
   "execution_count": 13,
   "id": "fce27791-701c-4eba-8f2e-fa2555732449",
   "metadata": {},
   "outputs": [
    {
     "name": "stdout",
     "output_type": "stream",
     "text": [
      "[[-1.41421356 -1.41421356 -1.41421356]\n",
      " [-0.70710678 -0.70710678 -0.70710678]\n",
      " [ 0.          0.          0.        ]\n",
      " [ 0.70710678  0.70710678  0.70710678]\n",
      " [ 1.41421356  1.41421356  1.41421356]]\n"
     ]
    }
   ],
   "source": [
    "# Normalizing the data using broadcasting\n",
    "\n",
    "normalized_data = (data - mean)/ std\n",
    "print(normalized_data)"
   ]
  },
  {
   "cell_type": "markdown",
   "id": "33ffff5c-b27a-475e-82c0-ffa14a3650a0",
   "metadata": {},
   "source": [
    "### Summary:\n",
    "- Loops are slow because Python's interpreter adds overhead, making iteration less efficient.\n",
    "- Vectorization allows you to apply operations to entire arrays at once, greatly improving performance by utilizing NumPy’s optimized C backend.\n",
    "- Broadcasting enables operations between arrays of different shapes by automatically stretching the smaller array to match the shape of the -   larger array, without creating additional copies.\n",
    "- Real-world use: Broadcasting can be used in data science tasks, such as normalizing datasets, without sacrificing memory or performance."
   ]
  },
  {
   "cell_type": "code",
   "execution_count": null,
   "id": "acab01d8-6968-4000-a7d8-060102474608",
   "metadata": {},
   "outputs": [],
   "source": []
  }
 ],
 "metadata": {
  "kernelspec": {
   "display_name": "Python 3 (ipykernel)",
   "language": "python",
   "name": "python3"
  },
  "language_info": {
   "codemirror_mode": {
    "name": "ipython",
    "version": 3
   },
   "file_extension": ".py",
   "mimetype": "text/x-python",
   "name": "python",
   "nbconvert_exporter": "python",
   "pygments_lexer": "ipython3",
   "version": "3.13.5"
  }
 },
 "nbformat": 4,
 "nbformat_minor": 5
}
