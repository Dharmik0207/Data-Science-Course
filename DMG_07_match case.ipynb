{
 "cells": [
  {
   "cell_type": "code",
   "execution_count": 35,
   "id": "dc9bc6b0-8bfc-4eaa-acb3-391e46e7bb61",
   "metadata": {},
   "outputs": [
    {
     "name": "stdin",
     "output_type": "stream",
     "text": [
      "Enter the code 40\n"
     ]
    },
    {
     "name": "stdout",
     "output_type": "stream",
     "text": [
      "40\n"
     ]
    }
   ],
   "source": [
    "code = input(\"Enter the code\")\n",
    "print(code)"
   ]
  },
  {
   "cell_type": "code",
   "execution_count": 36,
   "id": "da129a73-35d0-40d3-b5c1-1b48067888f1",
   "metadata": {},
   "outputs": [
    {
     "name": "stdout",
     "output_type": "stream",
     "text": [
      "Nothing matched\n",
      "End of Program\n"
     ]
    }
   ],
   "source": [
    "\n",
    "match code:\n",
    "       case 200:\n",
    "           print(\"Response Okay\")\n",
    "       case 400:\n",
    "           print(\"Bad Response\")\n",
    "       case 404:\n",
    "           print(\"Not found\")\n",
    "       case _:\n",
    "           print(\"Nothing matched\") \n",
    "print(\"End of Program\")"
   ]
  },
  {
   "cell_type": "code",
   "execution_count": null,
   "id": "b05d0b9f-5497-492c-8168-482b7bd8633c",
   "metadata": {},
   "outputs": [],
   "source": []
  }
 ],
 "metadata": {
  "kernelspec": {
   "display_name": "Python 3 (ipykernel)",
   "language": "python",
   "name": "python3"
  },
  "language_info": {
   "codemirror_mode": {
    "name": "ipython",
    "version": 3
   },
   "file_extension": ".py",
   "mimetype": "text/x-python",
   "name": "python",
   "nbconvert_exporter": "python",
   "pygments_lexer": "ipython3",
   "version": "3.13.5"
  }
 },
 "nbformat": 4,
 "nbformat_minor": 5
}
