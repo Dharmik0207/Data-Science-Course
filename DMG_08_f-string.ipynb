{
 "cells": [
  {
   "cell_type": "code",
   "execution_count": 1,
   "id": "58df90ee-f2f8-4d5c-86be-97755379fc31",
   "metadata": {},
   "outputs": [],
   "source": [
    "s = \"Dharmik\""
   ]
  },
  {
   "cell_type": "code",
   "execution_count": 2,
   "id": "c82ebedb-1767-4295-a135-8de56b56eede",
   "metadata": {},
   "outputs": [
    {
     "data": {
      "text/plain": [
       "'D'"
      ]
     },
     "execution_count": 2,
     "metadata": {},
     "output_type": "execute_result"
    }
   ],
   "source": [
    "s[0]"
   ]
  },
  {
   "cell_type": "code",
   "execution_count": 3,
   "id": "10f9150b-cd63-48ab-bed6-c1f526a9d791",
   "metadata": {},
   "outputs": [
    {
     "data": {
      "text/plain": [
       "'h'"
      ]
     },
     "execution_count": 3,
     "metadata": {},
     "output_type": "execute_result"
    }
   ],
   "source": [
    "s[1]"
   ]
  },
  {
   "cell_type": "markdown",
   "id": "3cd992fc-9fb0-4f7f-9ce3-99bf2a696345",
   "metadata": {},
   "source": [
    "## 1. String format() : "
   ]
  },
  {
   "cell_type": "code",
   "execution_count": 8,
   "id": "fdf46fe5-d489-4e30-8009-1c3e80071f51",
   "metadata": {},
   "outputs": [
    {
     "name": "stdout",
     "output_type": "stream",
     "text": [
      "My name is Dharmik and I am 26 years old.\n"
     ]
    }
   ],
   "source": [
    "name = \"Dharmik\"\n",
    "age = 26\n",
    "print(\"My name is {} and I am {} years old.\".format(name,age))"
   ]
  },
  {
   "cell_type": "markdown",
   "id": "84948ba2-f0f7-4a1e-9cb5-15761e280862",
   "metadata": {},
   "source": [
    "## 2. f-String Method :"
   ]
  },
  {
   "cell_type": "code",
   "execution_count": 9,
   "id": "3253d634-a840-4a73-ae03-7c329dcc52a1",
   "metadata": {},
   "outputs": [
    {
     "name": "stdout",
     "output_type": "stream",
     "text": [
      "My name is Dharmik and I am 26 years old.\n"
     ]
    }
   ],
   "source": [
    "print(f\"My name is {name} and I am {age} years old.\")"
   ]
  },
  {
   "cell_type": "markdown",
   "id": "1f1ffbef-b97c-4421-801f-6a7374377865",
   "metadata": {},
   "source": [
    "## 3. Formatting Numbers :"
   ]
  },
  {
   "cell_type": "code",
   "execution_count": 10,
   "id": "d9e038b0-c2b2-4484-bbc2-530cb42a6862",
   "metadata": {},
   "outputs": [
    {
     "name": "stdout",
     "output_type": "stream",
     "text": [
      "Pi rounded to 2 decimal places: 3.14\n"
     ]
    }
   ],
   "source": [
    "pi = 3.14159\n",
    "print(f\"Pi rounded to 2 decimal places: {pi:.2f}\")"
   ]
  },
  {
   "cell_type": "markdown",
   "id": "8a6c13a2-c686-40ac-aa98-548be08cbf95",
   "metadata": {},
   "source": [
    "## 4. Padding and Alignment :"
   ]
  },
  {
   "cell_type": "code",
   "execution_count": 11,
   "id": "6b77923a-58cb-409e-83c7-aec4a7ec1bc6",
   "metadata": {},
   "outputs": [
    {
     "name": "stdout",
     "output_type": "stream",
     "text": [
      "Python    \n",
      "    Python\n",
      "  python  \n"
     ]
    }
   ],
   "source": [
    "print(f\"{'Python':<10}\")  #Left-align\n",
    "print(f\"{'Python':>10}\")  #Right-align\n",
    "print(f\"{'python':^10}\")  #Center-align"
   ]
  },
  {
   "cell_type": "markdown",
   "id": "5dc97f4b-aeb4-48df-a60e-fd14e5f77579",
   "metadata": {},
   "source": [
    "##### :<10 -> The < symbol means left-align the text within a total width of 10 characters."
   ]
  },
  {
   "cell_type": "code",
   "execution_count": 13,
   "id": "7e170bce-2a4c-4a67-8011-e922c0d170dd",
   "metadata": {},
   "outputs": [
    {
     "name": "stdout",
     "output_type": "stream",
     "text": [
      "Dharmik   \n",
      "   Dharmik\n",
      " Dharmik  \n"
     ]
    }
   ],
   "source": [
    "print(f\"{'Dharmik':<10}\")\n",
    "print(f\"{'Dharmik':>10}\")\n",
    "print(f\"{'Dharmik':^10}\")"
   ]
  },
  {
   "cell_type": "markdown",
   "id": "b15b4fa9-4bd7-4bf3-87f2-f973f0cd44b5",
   "metadata": {},
   "source": [
    "# Practice :"
   ]
  },
  {
   "cell_type": "markdown",
   "id": "1782ec79-9542-4e4a-a38f-adc0ad6cb7df",
   "metadata": {},
   "source": [
    "### Using format()"
   ]
  },
  {
   "cell_type": "code",
   "execution_count": 15,
   "id": "ab090e3a-1e10-4559-bc30-6c49f5c88542",
   "metadata": {},
   "outputs": [
    {
     "name": "stdout",
     "output_type": "stream",
     "text": [
      "Dharmik is learning Python\n"
     ]
    }
   ],
   "source": [
    "print(\"{0} is learning {1}\".format(\"Dharmik\",\"Python\"))"
   ]
  },
  {
   "cell_type": "code",
   "execution_count": 16,
   "id": "a934cef3-249f-40f7-95f4-bf3f1258930a",
   "metadata": {},
   "outputs": [
    {
     "name": "stdout",
     "output_type": "stream",
     "text": [
      "Dharmik is learning Python\n"
     ]
    }
   ],
   "source": [
    "print(\"{name} is learning {language}\".format(name=\"Dharmik\", language=\"Python\"))"
   ]
  },
  {
   "cell_type": "markdown",
   "id": "d2a1fac1-aa0f-41b6-8111-f83a823fe0e2",
   "metadata": {},
   "source": [
    "### Using f-string(Recommended)"
   ]
  },
  {
   "cell_type": "code",
   "execution_count": 18,
   "id": "75ccd325-e72f-47ac-b372-d2ec9dad89ef",
   "metadata": {},
   "outputs": [
    {
     "name": "stdout",
     "output_type": "stream",
     "text": [
      "Sum of 5 and 10 is 15\n"
     ]
    }
   ],
   "source": [
    "a = 5\n",
    "b = 10\n",
    "print(f\"Sum of {a} and {b} is {a+b}\")\n"
   ]
  },
  {
   "cell_type": "markdown",
   "id": "b0e81cec-d11e-4c34-ad2b-61e27be32f97",
   "metadata": {},
   "source": [
    "### Padding and Alignment"
   ]
  },
  {
   "cell_type": "code",
   "execution_count": 19,
   "id": "a1dbcc06-267e-404c-9aa1-a6381e8ce735",
   "metadata": {},
   "outputs": [
    {
     "name": "stdout",
     "output_type": "stream",
     "text": [
      "Kirti     \n"
     ]
    }
   ],
   "source": [
    "print(f\"{'Kirti':<10}\")"
   ]
  },
  {
   "cell_type": "code",
   "execution_count": 20,
   "id": "5489a79a-a93e-4153-86c8-fdf8b3afe145",
   "metadata": {},
   "outputs": [
    {
     "name": "stdout",
     "output_type": "stream",
     "text": [
      "     Kirti\n"
     ]
    }
   ],
   "source": [
    "print(f\"{'Kirti':>10}\")"
   ]
  },
  {
   "cell_type": "code",
   "execution_count": 21,
   "id": "6a998fc9-c07a-485a-9926-0079fda1fa82",
   "metadata": {},
   "outputs": [
    {
     "name": "stdout",
     "output_type": "stream",
     "text": [
      "  Kirti   \n"
     ]
    }
   ],
   "source": [
    "print(f\"{'Kirti':^10}\")"
   ]
  },
  {
   "cell_type": "code",
   "execution_count": null,
   "id": "33360426-34f5-41ce-a77d-1518b4645ea5",
   "metadata": {},
   "outputs": [],
   "source": []
  }
 ],
 "metadata": {
  "kernelspec": {
   "display_name": "Python 3 (ipykernel)",
   "language": "python",
   "name": "python3"
  },
  "language_info": {
   "codemirror_mode": {
    "name": "ipython",
    "version": 3
   },
   "file_extension": ".py",
   "mimetype": "text/x-python",
   "name": "python",
   "nbconvert_exporter": "python",
   "pygments_lexer": "ipython3",
   "version": "3.13.5"
  }
 },
 "nbformat": 4,
 "nbformat_minor": 5
}
